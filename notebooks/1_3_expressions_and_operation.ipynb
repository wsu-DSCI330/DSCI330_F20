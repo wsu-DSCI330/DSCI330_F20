{
 "cells": [
  {
   "cell_type": "markdown",
   "metadata": {
    "nbpresent": {
     "id": "72b0ede6-af2b-41e9-81af-16c345e658d3"
    },
    "slideshow": {
     "slide_type": "slide"
    }
   },
   "source": [
    "# Expressions and Functions\n",
    "\n",
    "## Objectives\n",
    "\n",
    "1. Introduce basic Python expressions for transforming data\n",
    "    1. Arithmetic\n",
    "    2. Boolean\n",
    "2. Use the conditional expression for situational expressions"
   ]
  },
  {
   "cell_type": "markdown",
   "metadata": {
    "nbpresent": {
     "id": "d6ce38da-dd5e-49ae-96d9-a13b7c588c7f"
    },
    "slideshow": {
     "slide_type": "slide"
    }
   },
   "source": [
    "## Expressions and Statements\n",
    "\n",
    "* Two types of Python code\n",
    "* **statements** \"Do this\"\n",
    "    * Does not return/evaluate to a value\n",
    "    * Often contain expressions\n",
    "* **expressions** \"Compute this value\"\n",
    "    * Allows returns data\n",
    "* I prefer expressions"
   ]
  },
  {
   "cell_type": "code",
   "execution_count": 1,
   "metadata": {
    "nbpresent": {
     "id": "3394c082-f660-4228-8b52-a46f2e9c02de"
    },
    "slideshow": {
     "slide_type": "slide"
    }
   },
   "outputs": [
    {
     "data": {
      "text/plain": [
       "6"
      ]
     },
     "execution_count": 1,
     "metadata": {},
     "output_type": "execute_result"
    }
   ],
   "source": [
    "sum([1,2,3]) # expression (returns 6)"
   ]
  },
  {
   "cell_type": "code",
   "execution_count": 3,
   "metadata": {
    "nbpresent": {
     "id": "348801b9-66cf-4248-81c6-32b52ca127e8"
    },
    "slideshow": {
     "slide_type": "fragment"
    }
   },
   "outputs": [],
   "source": [
    "x = sum([1,2,3]) # assignment statement (no value)"
   ]
  },
  {
   "cell_type": "code",
   "execution_count": 4,
   "metadata": {
    "nbpresent": {
     "id": "5b62bd9c-ca01-40c1-9913-e2c73f9188f6"
    },
    "slideshow": {
     "slide_type": "fragment"
    }
   },
   "outputs": [
    {
     "data": {
      "text/plain": [
       "6"
      ]
     },
     "execution_count": 4,
     "metadata": {},
     "output_type": "execute_result"
    }
   ],
   "source": [
    "x # Expression (returns value assigned to x)"
   ]
  },
  {
   "cell_type": "markdown",
   "metadata": {
    "nbpresent": {
     "id": "277549e7-ddfe-439c-b7dc-4e257ff97426"
    },
    "slideshow": {
     "slide_type": "slide"
    }
   },
   "source": [
    "## Arithmetic operations"
   ]
  },
  {
   "cell_type": "code",
   "execution_count": 5,
   "metadata": {
    "nbpresent": {
     "id": "de77acd8-a6ab-4026-9378-05a77c73ed46"
    },
    "slideshow": {
     "slide_type": "fragment"
    }
   },
   "outputs": [
    {
     "data": {
      "text/plain": [
       "5.5"
      ]
     },
     "execution_count": 5,
     "metadata": {},
     "output_type": "execute_result"
    }
   ],
   "source": [
    "2 + 3.5"
   ]
  },
  {
   "cell_type": "code",
   "execution_count": 6,
   "metadata": {
    "nbpresent": {
     "id": "9b572828-abc5-4f12-9f11-d444f1488019"
    },
    "slideshow": {
     "slide_type": "fragment"
    }
   },
   "outputs": [
    {
     "data": {
      "text/plain": [
       "-1.5"
      ]
     },
     "execution_count": 6,
     "metadata": {},
     "output_type": "execute_result"
    }
   ],
   "source": [
    "2 - 3.5 "
   ]
  },
  {
   "cell_type": "code",
   "execution_count": 7,
   "metadata": {
    "nbpresent": {
     "id": "f14f2894-1b57-4dec-8eaf-72364fb0ec22"
    },
    "slideshow": {
     "slide_type": "fragment"
    }
   },
   "outputs": [
    {
     "data": {
      "text/plain": [
       "7.0"
      ]
     },
     "execution_count": 7,
     "metadata": {},
     "output_type": "execute_result"
    }
   ],
   "source": [
    "2*3.5"
   ]
  },
  {
   "cell_type": "code",
   "execution_count": 9,
   "metadata": {
    "nbpresent": {
     "id": "0283e446-51ff-49c6-95c1-7df0331373e8"
    },
    "slideshow": {
     "slide_type": "slide"
    }
   },
   "outputs": [
    {
     "data": {
      "text/plain": [
       "0.6666666666666666"
      ]
     },
     "execution_count": 9,
     "metadata": {},
     "output_type": "execute_result"
    }
   ],
   "source": [
    "2/3 # True division"
   ]
  },
  {
   "cell_type": "code",
   "execution_count": 10,
   "metadata": {
    "nbpresent": {
     "id": "1cbfb777-d4fa-4364-8b4d-7316398849d2"
    },
    "slideshow": {
     "slide_type": "fragment"
    }
   },
   "outputs": [
    {
     "data": {
      "text/plain": [
       "3"
      ]
     },
     "execution_count": 10,
     "metadata": {},
     "output_type": "execute_result"
    }
   ],
   "source": [
    "10//3 # Integeer division"
   ]
  },
  {
   "cell_type": "code",
   "execution_count": 12,
   "metadata": {
    "nbpresent": {
     "id": "5eb71879-541d-4d2f-8d0b-03b1936784be"
    },
    "slideshow": {
     "slide_type": "fragment"
    }
   },
   "outputs": [
    {
     "data": {
      "text/plain": [
       "1"
      ]
     },
     "execution_count": 12,
     "metadata": {},
     "output_type": "execute_result"
    }
   ],
   "source": [
    "10 % 3 # Mod/remainder"
   ]
  },
  {
   "cell_type": "markdown",
   "metadata": {
    "slideshow": {
     "slide_type": "slide"
    }
   },
   "source": [
    "<font color=\"red\"><h2>Exercise</h2></font>\n",
    "\n",
    "The hour hand is pointing at 8, what will it point to in 57 hours?"
   ]
  },
  {
   "cell_type": "code",
   "execution_count": null,
   "metadata": {
    "slideshow": {
     "slide_type": "fragment"
    }
   },
   "outputs": [],
   "source": []
  },
  {
   "cell_type": "code",
   "execution_count": 15,
   "metadata": {
    "nbpresent": {
     "id": "d2f5f5a1-1f01-4036-8bdb-c9dd4f3a6999"
    },
    "slideshow": {
     "slide_type": "slide"
    }
   },
   "outputs": [
    {
     "data": {
      "text/plain": [
       "8"
      ]
     },
     "execution_count": 15,
     "metadata": {},
     "output_type": "execute_result"
    }
   ],
   "source": [
    "2 ** 3 # Powers!"
   ]
  },
  {
   "cell_type": "code",
   "execution_count": 18,
   "metadata": {
    "nbpresent": {
     "id": "f79150cf-6794-48bb-b703-eb963b40cc06"
    },
    "slideshow": {
     "slide_type": "fragment"
    }
   },
   "outputs": [
    {
     "data": {
      "text/plain": [
       "1"
      ]
     },
     "execution_count": 18,
     "metadata": {},
     "output_type": "execute_result"
    }
   ],
   "source": [
    "2 ^ 3 # BEWARE: bitwise exclusive or"
   ]
  },
  {
   "cell_type": "markdown",
   "metadata": {
    "nbpresent": {
     "id": "a9702cc1-1da0-4d6b-8198-835ac55fd9eb"
    },
    "slideshow": {
     "slide_type": "slide"
    }
   },
   "source": [
    "### <font color=\"red\"> Exercise 1</font>\n",
    "Investigate which operations can be applied to two strings, say `\"a\"` and `\"b\"`.\n"
   ]
  },
  {
   "cell_type": "code",
   "execution_count": null,
   "metadata": {
    "collapsed": true,
    "nbpresent": {
     "id": "78a2f194-f4ff-466a-8921-7012b6d551b0"
    },
    "slideshow": {
     "slide_type": "fragment"
    }
   },
   "outputs": [],
   "source": []
  },
  {
   "cell_type": "markdown",
   "metadata": {
    "nbpresent": {
     "id": "2812ca09-3cd1-43c1-aefd-05fbea612c57"
    },
    "slideshow": {
     "slide_type": "slide"
    }
   },
   "source": [
    "### <font color=\"red\"> Exercise 2 </font>\n",
    "\n",
    "Investigate various operations on `2` and `\"a\"`"
   ]
  },
  {
   "cell_type": "code",
   "execution_count": 23,
   "metadata": {
    "nbpresent": {
     "id": "c5667754-7de7-401f-989b-88c209c6ea82"
    },
    "slideshow": {
     "slide_type": "fragment"
    }
   },
   "outputs": [
    {
     "data": {
      "text/plain": [
       "5.0"
      ]
     },
     "execution_count": 23,
     "metadata": {},
     "output_type": "execute_result"
    }
   ],
   "source": [
    "2 + 3.0"
   ]
  },
  {
   "cell_type": "markdown",
   "metadata": {
    "nbpresent": {
     "id": "451809fa-bae8-406f-8485-e14666da2f9c"
    },
    "slideshow": {
     "slide_type": "slide"
    }
   },
   "source": [
    "## Boolean operations\n",
    "\n",
    "- **Boolean expressions** evaluate to True or False\n",
    "- **Boolean operations** answer Yes/No questions"
   ]
  },
  {
   "cell_type": "markdown",
   "metadata": {
    "nbpresent": {
     "id": "a7d93c7f-e613-436d-8ea2-f8eabf37aca1"
    },
    "slideshow": {
     "slide_type": "slide"
    }
   },
   "source": [
    "## Comparison operators"
   ]
  },
  {
   "cell_type": "code",
   "execution_count": 24,
   "metadata": {
    "nbpresent": {
     "id": "9ba65652-2b58-4adc-bb1b-ca556743e198"
    },
    "slideshow": {
     "slide_type": "fragment"
    }
   },
   "outputs": [
    {
     "data": {
      "text/plain": [
       "(False, True, True, True)"
      ]
     },
     "execution_count": 24,
     "metadata": {},
     "output_type": "execute_result"
    }
   ],
   "source": [
    "(2 == 3, 2 < 3, 2 <= 3, 2 != 3)"
   ]
  },
  {
   "cell_type": "markdown",
   "metadata": {
    "nbpresent": {
     "id": "f2db4d92-a6dc-4ce4-973b-623addee60f5"
    },
    "slideshow": {
     "slide_type": "slide"
    }
   },
   "source": [
    "## Container operations"
   ]
  },
  {
   "cell_type": "code",
   "execution_count": 41,
   "metadata": {
    "nbpresent": {
     "id": "cc07079e-46cf-4b24-8240-0c8f356cf384"
    },
    "slideshow": {
     "slide_type": "fragment"
    }
   },
   "outputs": [
    {
     "data": {
      "text/plain": [
       "True"
      ]
     },
     "execution_count": 41,
     "metadata": {},
     "output_type": "execute_result"
    }
   ],
   "source": [
    "2 in [1,2,3]"
   ]
  },
  {
   "cell_type": "code",
   "execution_count": 42,
   "metadata": {
    "nbpresent": {
     "id": "98dc4cf4-0de9-45ac-8056-a6bb98506321"
    },
    "slideshow": {
     "slide_type": "fragment"
    }
   },
   "outputs": [
    {
     "data": {
      "text/plain": [
       "False"
      ]
     },
     "execution_count": 42,
     "metadata": {},
     "output_type": "execute_result"
    }
   ],
   "source": [
    "\"a\" in \"Todd\""
   ]
  },
  {
   "cell_type": "code",
   "execution_count": 25,
   "metadata": {
    "nbpresent": {
     "id": "de82634e-c310-4316-8db0-1bef201414b6"
    },
    "slideshow": {
     "slide_type": "slide"
    }
   },
   "outputs": [
    {
     "data": {
      "text/plain": [
       "True"
      ]
     },
     "execution_count": 25,
     "metadata": {},
     "output_type": "execute_result"
    }
   ],
   "source": [
    "\"t\" not in \"Todd\""
   ]
  },
  {
   "cell_type": "code",
   "execution_count": 26,
   "metadata": {
    "nbpresent": {
     "id": "b23fc6af-c8e8-4f21-bfc3-64448f3d209d"
    },
    "scrolled": true,
    "slideshow": {
     "slide_type": "fragment"
    }
   },
   "outputs": [
    {
     "data": {
      "text/plain": [
       "False"
      ]
     },
     "execution_count": 26,
     "metadata": {},
     "output_type": "execute_result"
    }
   ],
   "source": [
    "2 in [1, [2, 3]]"
   ]
  },
  {
   "cell_type": "markdown",
   "metadata": {
    "nbpresent": {
     "id": "a9702cc1-1da0-4d6b-8198-835ac55fd9eb"
    },
    "slideshow": {
     "slide_type": "slide"
    }
   },
   "source": [
    "### <font color=\"red\"> Exercise 3</font>\n",
    "\n",
    "Why does `2 in [1, [2, 3]]` to `False`?\n"
   ]
  },
  {
   "cell_type": "markdown",
   "metadata": {
    "slideshow": {
     "slide_type": "fragment"
    }
   },
   "source": []
  },
  {
   "cell_type": "markdown",
   "metadata": {
    "nbpresent": {
     "id": "8fb5d98c-6b7c-4ffb-8c28-ac5f7a055f1a"
    },
    "slideshow": {
     "slide_type": "slide"
    }
   },
   "source": [
    "## Combining boolean expressions\n",
    "\n",
    "- Use `and`, `or`, and `not`"
   ]
  },
  {
   "cell_type": "code",
   "execution_count": 51,
   "metadata": {
    "nbpresent": {
     "id": "5b47746d-6823-4b18-bd0a-e87df90e01e7"
    },
    "slideshow": {
     "slide_type": "fragment"
    }
   },
   "outputs": [
    {
     "data": {
      "text/plain": [
       "False"
      ]
     },
     "execution_count": 51,
     "metadata": {},
     "output_type": "execute_result"
    }
   ],
   "source": [
    "x, name = 5, \"Todd\"\n",
    "x % 2 == 1 and \"a\" in \"Todd\""
   ]
  },
  {
   "cell_type": "code",
   "execution_count": 52,
   "metadata": {
    "nbpresent": {
     "id": "298c54dc-9124-4201-beef-67b6d98b4633"
    },
    "slideshow": {
     "slide_type": "fragment"
    }
   },
   "outputs": [
    {
     "data": {
      "text/plain": [
       "True"
      ]
     },
     "execution_count": 52,
     "metadata": {},
     "output_type": "execute_result"
    }
   ],
   "source": [
    "x % 2 == 1 or \"a\" in \"Todd\""
   ]
  },
  {
   "cell_type": "code",
   "execution_count": 1,
   "metadata": {
    "nbpresent": {
     "id": "ae43d805-5f59-4823-bbde-cb86bae63461"
    },
    "slideshow": {
     "slide_type": "fragment"
    }
   },
   "outputs": [
    {
     "data": {
      "text/plain": [
       "False"
      ]
     },
     "execution_count": 1,
     "metadata": {},
     "output_type": "execute_result"
    }
   ],
   "source": [
    "not 2 < 3"
   ]
  },
  {
   "cell_type": "markdown",
   "metadata": {
    "slideshow": {
     "slide_type": "slide"
    }
   },
   "source": [
    "## Conditional Expression\n",
    "\n",
    "* Syntax:"
   ]
  },
  {
   "cell_type": "code",
   "execution_count": null,
   "metadata": {
    "slideshow": {
     "slide_type": "fragment"
    }
   },
   "outputs": [],
   "source": [
    "true_val if boolean_condition else false_value"
   ]
  },
  {
   "cell_type": "code",
   "execution_count": 2,
   "metadata": {
    "slideshow": {
     "slide_type": "fragment"
    }
   },
   "outputs": [
    {
     "data": {
      "text/plain": [
       "'No t'"
      ]
     },
     "execution_count": 2,
     "metadata": {},
     "output_type": "execute_result"
    }
   ],
   "source": [
    "\"Has t\" if \"t\" in \"Todd\" else \"No t\""
   ]
  },
  {
   "cell_type": "markdown",
   "metadata": {
    "slideshow": {
     "slide_type": "slide"
    }
   },
   "source": [
    "## Evaluating the conditional expression\n",
    "\n",
    "<img src=\"./img/cond_expr_1.png\" width=400 />"
   ]
  },
  {
   "cell_type": "markdown",
   "metadata": {
    "nbpresent": {
     "id": "a9702cc1-1da0-4d6b-8198-835ac55fd9eb"
    },
    "slideshow": {
     "slide_type": "slide"
    }
   },
   "source": [
    "### <font color=\"red\"> Exercise 4</font>\n",
    "\n",
    "Evaluate `\"Yes\" if (5 <= x < 10) and (x % 2 == 1) else \"No\"`\n",
    "\n",
    "1. By hand\n",
    "2. With Python\n"
   ]
  },
  {
   "cell_type": "markdown",
   "metadata": {
    "slideshow": {
     "slide_type": "fragment"
    }
   },
   "source": [
    "1. Evaluate by hand: "
   ]
  },
  {
   "cell_type": "code",
   "execution_count": 12,
   "metadata": {
    "slideshow": {
     "slide_type": "fragment"
    }
   },
   "outputs": [
    {
     "data": {
      "text/plain": [
       "'No'"
      ]
     },
     "execution_count": 12,
     "metadata": {},
     "output_type": "execute_result"
    }
   ],
   "source": [
    "# Evaluate with Python\n",
    "x = 6.1\n",
    "\"Yes\" if (5 <= x < 10) and (x % 2 == 1) else \"No\""
   ]
  },
  {
   "cell_type": "code",
   "execution_count": 13,
   "metadata": {},
   "outputs": [
    {
     "data": {
      "text/plain": [
       "0.09999999999999964"
      ]
     },
     "execution_count": 13,
     "metadata": {},
     "output_type": "execute_result"
    }
   ],
   "source": [
    "x % 2 "
   ]
  },
  {
   "cell_type": "code",
   "execution_count": null,
   "metadata": {},
   "outputs": [],
   "source": []
  }
 ],
 "metadata": {
  "anaconda-cloud": {},
  "celltoolbar": "Slideshow",
  "kernelspec": {
   "display_name": "Python [anaconda3-4.1.0]",
   "language": "python",
   "name": "Python [anaconda3-4.1.0]"
  },
  "language_info": {
   "codemirror_mode": {
    "name": "ipython",
    "version": 3
   },
   "file_extension": ".py",
   "mimetype": "text/x-python",
   "name": "python",
   "nbconvert_exporter": "python",
   "pygments_lexer": "ipython3",
   "version": "3.5.1"
  },
  "nbpresent": {
   "slides": {
    "d8cfa8b7-18e5-4d2f-8e92-8164c8bfad3b": {
     "id": "d8cfa8b7-18e5-4d2f-8e92-8164c8bfad3b",
     "prev": null,
     "regions": {
      "81231d63-4899-45f2-b382-fabf4f762896": {
       "attrs": {
        "height": 0.8,
        "width": 0.45,
        "x": 0.5,
        "y": 0.1
       },
       "id": "81231d63-4899-45f2-b382-fabf4f762896"
      },
      "b40d103d-8d7f-44de-8fca-19b2f9861cdd": {
       "attrs": {
        "height": 0.8,
        "width": 0.45,
        "x": 0.05,
        "y": 0.1
       },
       "id": "b40d103d-8d7f-44de-8fca-19b2f9861cdd"
      }
     }
    }
   },
   "themes": {}
  }
 },
 "nbformat": 4,
 "nbformat_minor": 2
}
