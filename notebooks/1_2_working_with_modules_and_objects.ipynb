{
 "cells": [
  {
   "cell_type": "markdown",
   "metadata": {
    "slideshow": {
     "slide_type": "slide"
    }
   },
   "source": [
    "## Importing from Modules\n",
    "\n",
    "* Many python tools need to be imported\n",
    "* Use the **import statement**\n",
    "* **Basic syntax** `import math`"
   ]
  },
  {
   "cell_type": "code",
   "execution_count": 1,
   "metadata": {
    "slideshow": {
     "slide_type": "fragment"
    }
   },
   "outputs": [],
   "source": [
    "import math"
   ]
  },
  {
   "cell_type": "code",
   "execution_count": 2,
   "metadata": {},
   "outputs": [
    {
     "data": {
      "text/plain": [
       "<module 'math' from '/Users/tiverson/.pyenv/versions/anaconda3-5.0.0/lib/python3.6/lib-dynload/math.cpython-36m-darwin.so'>"
      ]
     },
     "execution_count": 2,
     "metadata": {},
     "output_type": "execute_result"
    }
   ],
   "source": [
    "math"
   ]
  },
  {
   "cell_type": "code",
   "execution_count": 3,
   "metadata": {},
   "outputs": [
    {
     "data": {
      "text/plain": [
       "module"
      ]
     },
     "execution_count": 3,
     "metadata": {},
     "output_type": "execute_result"
    }
   ],
   "source": [
    "type(math)"
   ]
  },
  {
   "cell_type": "code",
   "execution_count": 4,
   "metadata": {
    "slideshow": {
     "slide_type": "fragment"
    }
   },
   "outputs": [
    {
     "data": {
      "text/plain": [
       "3.141592653589793"
      ]
     },
     "execution_count": 4,
     "metadata": {},
     "output_type": "execute_result"
    }
   ],
   "source": [
    "math.pi"
   ]
  },
  {
   "cell_type": "code",
   "execution_count": 5,
   "metadata": {
    "scrolled": true,
    "slideshow": {
     "slide_type": "fragment"
    }
   },
   "outputs": [
    {
     "data": {
      "text/plain": [
       "float"
      ]
     },
     "execution_count": 5,
     "metadata": {},
     "output_type": "execute_result"
    }
   ],
   "source": [
    "type(math.pi)"
   ]
  },
  {
   "cell_type": "markdown",
   "metadata": {},
   "source": [
    "## Function call syntax"
   ]
  },
  {
   "cell_type": "code",
   "execution_count": 6,
   "metadata": {
    "slideshow": {
     "slide_type": "fragment"
    }
   },
   "outputs": [
    {
     "data": {
      "text/plain": [
       "1.7320508075688772"
      ]
     },
     "execution_count": 6,
     "metadata": {},
     "output_type": "execute_result"
    }
   ],
   "source": [
    "math.sqrt(3)"
   ]
  },
  {
   "cell_type": "code",
   "execution_count": 7,
   "metadata": {},
   "outputs": [
    {
     "data": {
      "text/plain": [
       "<function math.sqrt>"
      ]
     },
     "execution_count": 7,
     "metadata": {},
     "output_type": "execute_result"
    }
   ],
   "source": [
    "math.sqrt"
   ]
  },
  {
   "cell_type": "code",
   "execution_count": 8,
   "metadata": {},
   "outputs": [
    {
     "data": {
      "text/plain": [
       "builtin_function_or_method"
      ]
     },
     "execution_count": 8,
     "metadata": {},
     "output_type": "execute_result"
    }
   ],
   "source": [
    "type(math.sqrt)"
   ]
  },
  {
   "cell_type": "markdown",
   "metadata": {},
   "source": [
    "## The type and value of a function"
   ]
  },
  {
   "cell_type": "code",
   "execution_count": 9,
   "metadata": {},
   "outputs": [
    {
     "data": {
      "text/plain": [
       "builtin_function_or_method"
      ]
     },
     "execution_count": 9,
     "metadata": {},
     "output_type": "execute_result"
    }
   ],
   "source": [
    "type(math.sqrt)"
   ]
  },
  {
   "cell_type": "code",
   "execution_count": 10,
   "metadata": {},
   "outputs": [
    {
     "data": {
      "text/plain": [
       "<function math.sqrt>"
      ]
     },
     "execution_count": 10,
     "metadata": {},
     "output_type": "execute_result"
    }
   ],
   "source": [
    "math.sqrt # Functions are DATA!"
   ]
  },
  {
   "cell_type": "markdown",
   "metadata": {
    "slideshow": {
     "slide_type": "slide"
    }
   },
   "source": [
    "## Think of modules as folders\n",
    "\n",
    "<img src=\"https://github.com/wsu-stat489/USCOTS2017_workshop/blob/master/img/mathmod.png?raw=true\">"
   ]
  },
  {
   "cell_type": "markdown",
   "metadata": {},
   "source": [
    "<font color=\"red\"><h2>Exercise</h2></font>\n",
    "\n",
    "Compute the $\\cos(\\pi/3)$"
   ]
  },
  {
   "cell_type": "code",
   "execution_count": 11,
   "metadata": {},
   "outputs": [
    {
     "data": {
      "text/plain": [
       "0.5000000000000001"
      ]
     },
     "execution_count": 11,
     "metadata": {},
     "output_type": "execute_result"
    }
   ],
   "source": [
    "math.cos(math.pi/3)"
   ]
  },
  {
   "cell_type": "markdown",
   "metadata": {},
   "source": [
    "## Inspecting a module with `dir` and `help`\n",
    "\n",
    "* Use `dir(module)` to list all elements\n",
    "* Use `help(module.item)` to learn about elements"
   ]
  },
  {
   "cell_type": "code",
   "execution_count": 12,
   "metadata": {
    "scrolled": true
   },
   "outputs": [
    {
     "data": {
      "text/plain": [
       "['__doc__',\n",
       " '__file__',\n",
       " '__loader__',\n",
       " '__name__',\n",
       " '__package__',\n",
       " '__spec__',\n",
       " 'acos',\n",
       " 'acosh',\n",
       " 'asin',\n",
       " 'asinh',\n",
       " 'atan',\n",
       " 'atan2',\n",
       " 'atanh',\n",
       " 'ceil',\n",
       " 'copysign',\n",
       " 'cos',\n",
       " 'cosh',\n",
       " 'degrees',\n",
       " 'e',\n",
       " 'erf',\n",
       " 'erfc',\n",
       " 'exp',\n",
       " 'expm1',\n",
       " 'fabs',\n",
       " 'factorial',\n",
       " 'floor',\n",
       " 'fmod',\n",
       " 'frexp',\n",
       " 'fsum',\n",
       " 'gamma',\n",
       " 'gcd',\n",
       " 'hypot',\n",
       " 'inf',\n",
       " 'isclose',\n",
       " 'isfinite',\n",
       " 'isinf',\n",
       " 'isnan',\n",
       " 'ldexp',\n",
       " 'lgamma',\n",
       " 'log',\n",
       " 'log10',\n",
       " 'log1p',\n",
       " 'log2',\n",
       " 'modf',\n",
       " 'nan',\n",
       " 'pi',\n",
       " 'pow',\n",
       " 'radians',\n",
       " 'sin',\n",
       " 'sinh',\n",
       " 'sqrt',\n",
       " 'tan',\n",
       " 'tanh',\n",
       " 'tau',\n",
       " 'trunc']"
      ]
     },
     "execution_count": 12,
     "metadata": {},
     "output_type": "execute_result"
    }
   ],
   "source": [
    "dir(math)"
   ]
  },
  {
   "cell_type": "code",
   "execution_count": 13,
   "metadata": {
    "scrolled": true
   },
   "outputs": [
    {
     "name": "stdout",
     "output_type": "stream",
     "text": [
      "Help on built-in function fabs in module math:\n",
      "\n",
      "fabs(...)\n",
      "    fabs(x)\n",
      "    \n",
      "    Return the absolute value of the float x.\n",
      "\n"
     ]
    }
   ],
   "source": [
    "help(math.fabs)"
   ]
  },
  {
   "cell_type": "markdown",
   "metadata": {},
   "source": [
    "## Double Underscore is *dunder* in Python\n",
    "\n",
    "* A method like `\"__ge__\"` are\n",
    "    * referred to as *dunder* methods\n",
    "    * implementation details and mostly ignored"
   ]
  },
  {
   "cell_type": "markdown",
   "metadata": {
    "slideshow": {
     "slide_type": "slide"
    }
   },
   "source": [
    "## Importing directly into the main namespace\n",
    "\n",
    "* Typing `math.` gets annoying\n",
    "* `import math as m` assigns an alias\n",
    "* Use `from math import pi` to get direct access\n",
    "* Beware of shadowing!"
   ]
  },
  {
   "cell_type": "code",
   "execution_count": 14,
   "metadata": {
    "slideshow": {
     "slide_type": "fragment"
    }
   },
   "outputs": [
    {
     "data": {
      "text/plain": [
       "1.772"
      ]
     },
     "execution_count": 14,
     "metadata": {},
     "output_type": "execute_result"
    }
   ],
   "source": [
    "import math as m # using an alias\n",
    "round(m.sqrt(m.pi), 3)"
   ]
  },
  {
   "cell_type": "code",
   "execution_count": 15,
   "metadata": {},
   "outputs": [
    {
     "data": {
      "text/plain": [
       "0.5000000000000001"
      ]
     },
     "execution_count": 15,
     "metadata": {},
     "output_type": "execute_result"
    }
   ],
   "source": [
    "m.cos(m.pi/3)"
   ]
  },
  {
   "cell_type": "code",
   "execution_count": 16,
   "metadata": {
    "slideshow": {
     "slide_type": "fragment"
    }
   },
   "outputs": [],
   "source": [
    "from math import pi, sqrt"
   ]
  },
  {
   "cell_type": "code",
   "execution_count": 17,
   "metadata": {
    "slideshow": {
     "slide_type": "fragment"
    }
   },
   "outputs": [
    {
     "data": {
      "text/plain": [
       "1.772"
      ]
     },
     "execution_count": 17,
     "metadata": {},
     "output_type": "execute_result"
    }
   ],
   "source": [
    "round(sqrt(pi), 3)"
   ]
  },
  {
   "cell_type": "markdown",
   "metadata": {
    "slideshow": {
     "slide_type": "slide"
    }
   },
   "source": [
    "## Object Oriented Design\n",
    "\n",
    "* All Python data are objects\n",
    "    * Attached methods at attributes\n"
   ]
  },
  {
   "cell_type": "markdown",
   "metadata": {},
   "source": [
    "## Example - String\n",
    "\n",
    "Python strings include\n",
    "\n",
    "* Text data\n",
    "* Methods for working with that string"
   ]
  },
  {
   "cell_type": "code",
   "execution_count": 18,
   "metadata": {},
   "outputs": [
    {
     "data": {
      "text/plain": [
       "'Do the difficult things while they are easy and do the great things while they are small.'"
      ]
     },
     "execution_count": 18,
     "metadata": {},
     "output_type": "execute_result"
    }
   ],
   "source": [
    "s = \"Do the difficult things while they are easy and do the great things while they are small.\"\n",
    "s"
   ]
  },
  {
   "cell_type": "code",
   "execution_count": 19,
   "metadata": {},
   "outputs": [
    {
     "data": {
      "text/plain": [
       "'DO THE DIFFICULT THINGS WHILE THEY ARE EASY AND DO THE GREAT THINGS WHILE THEY ARE SMALL.'"
      ]
     },
     "execution_count": 19,
     "metadata": {},
     "output_type": "execute_result"
    }
   ],
   "source": [
    "s.upper()"
   ]
  },
  {
   "cell_type": "code",
   "execution_count": 20,
   "metadata": {},
   "outputs": [
    {
     "data": {
      "text/plain": [
       "'do the difficult things while they are easy and do the great things while they are small.'"
      ]
     },
     "execution_count": 20,
     "metadata": {},
     "output_type": "execute_result"
    }
   ],
   "source": [
    "s.lower()"
   ]
  },
  {
   "cell_type": "code",
   "execution_count": 21,
   "metadata": {
    "scrolled": true
   },
   "outputs": [
    {
     "data": {
      "text/plain": [
       "'put off the difficult things while they are easy and put off the great things while they are small.'"
      ]
     },
     "execution_count": 21,
     "metadata": {},
     "output_type": "execute_result"
    }
   ],
   "source": [
    "t = s.lower()\n",
    "t.replace(\"do\", \"put off\")"
   ]
  },
  {
   "cell_type": "markdown",
   "metadata": {},
   "source": [
    "## Chaining `str` methods\n",
    "\n",
    "* You can string chain methods together with\n",
    "    * `obj.method1().method2()`\n",
    "* Make sure each method returns a `str`"
   ]
  },
  {
   "cell_type": "code",
   "execution_count": 22,
   "metadata": {
    "scrolled": true
   },
   "outputs": [
    {
     "data": {
      "text/plain": [
       "'put off the difficult things while they are easy and put off the great things while they are small.'"
      ]
     },
     "execution_count": 22,
     "metadata": {},
     "output_type": "execute_result"
    }
   ],
   "source": [
    "s.lower().replace(\"do\", \"put off\")"
   ]
  },
  {
   "cell_type": "markdown",
   "metadata": {},
   "source": [
    "## Chaining objects is a lot like piping\n",
    "\n",
    "<img src=\"./img/r_pipe.png\" width=400 />"
   ]
  },
  {
   "cell_type": "code",
   "execution_count": 23,
   "metadata": {
    "scrolled": true
   },
   "outputs": [
    {
     "data": {
      "text/plain": [
       "'put off the difficult things while they are easy and put off the great things while they are small.'"
      ]
     },
     "execution_count": 23,
     "metadata": {},
     "output_type": "execute_result"
    }
   ],
   "source": [
    "s.lower().replace(\"do\", \"put off\")"
   ]
  },
  {
   "cell_type": "markdown",
   "metadata": {
    "slideshow": {
     "slide_type": "slide"
    }
   },
   "source": [
    "## Use `dir` and dot notation with objects\n",
    "\n",
    "* `dir` lists all attributes/methods\n",
    "* Ignore members starting with `_`\n",
    "* Use dot notation to access members"
   ]
  },
  {
   "cell_type": "code",
   "execution_count": 24,
   "metadata": {
    "scrolled": true,
    "slideshow": {
     "slide_type": "fragment"
    }
   },
   "outputs": [
    {
     "data": {
      "text/plain": [
       "['__add__',\n",
       " '__class__',\n",
       " '__contains__',\n",
       " '__delattr__',\n",
       " '__dir__',\n",
       " '__doc__',\n",
       " '__eq__',\n",
       " '__format__',\n",
       " '__ge__',\n",
       " '__getattribute__',\n",
       " '__getitem__',\n",
       " '__getnewargs__',\n",
       " '__gt__',\n",
       " '__hash__',\n",
       " '__init__',\n",
       " '__init_subclass__',\n",
       " '__iter__',\n",
       " '__le__',\n",
       " '__len__',\n",
       " '__lt__',\n",
       " '__mod__',\n",
       " '__mul__',\n",
       " '__ne__',\n",
       " '__new__',\n",
       " '__reduce__',\n",
       " '__reduce_ex__',\n",
       " '__repr__',\n",
       " '__rmod__',\n",
       " '__rmul__',\n",
       " '__setattr__',\n",
       " '__sizeof__',\n",
       " '__str__',\n",
       " '__subclasshook__',\n",
       " 'capitalize',\n",
       " 'casefold',\n",
       " 'center',\n",
       " 'count',\n",
       " 'encode',\n",
       " 'endswith',\n",
       " 'expandtabs',\n",
       " 'find',\n",
       " 'format',\n",
       " 'format_map',\n",
       " 'index',\n",
       " 'isalnum',\n",
       " 'isalpha',\n",
       " 'isdecimal',\n",
       " 'isdigit',\n",
       " 'isidentifier',\n",
       " 'islower',\n",
       " 'isnumeric',\n",
       " 'isprintable',\n",
       " 'isspace',\n",
       " 'istitle',\n",
       " 'isupper',\n",
       " 'join',\n",
       " 'ljust',\n",
       " 'lower',\n",
       " 'lstrip',\n",
       " 'maketrans',\n",
       " 'partition',\n",
       " 'replace',\n",
       " 'rfind',\n",
       " 'rindex',\n",
       " 'rjust',\n",
       " 'rpartition',\n",
       " 'rsplit',\n",
       " 'rstrip',\n",
       " 'split',\n",
       " 'splitlines',\n",
       " 'startswith',\n",
       " 'strip',\n",
       " 'swapcase',\n",
       " 'title',\n",
       " 'translate',\n",
       " 'upper',\n",
       " 'zfill']"
      ]
     },
     "execution_count": 24,
     "metadata": {},
     "output_type": "execute_result"
    }
   ],
   "source": [
    "dir(s)"
   ]
  },
  {
   "cell_type": "markdown",
   "metadata": {},
   "source": [
    "## Exploring methods with help\n",
    "\n",
    "* `help` gives some info about a method.\n",
    "* Syntax: `help(object.method)`\n",
    "    * NOT a function call"
   ]
  },
  {
   "cell_type": "code",
   "execution_count": 25,
   "metadata": {
    "scrolled": true,
    "slideshow": {
     "slide_type": "fragment"
    }
   },
   "outputs": [
    {
     "name": "stdout",
     "output_type": "stream",
     "text": [
      "Help on built-in function casefold:\n",
      "\n",
      "casefold(...) method of builtins.str instance\n",
      "    S.casefold() -> str\n",
      "    \n",
      "    Return a version of S suitable for caseless comparisons.\n",
      "\n"
     ]
    }
   ],
   "source": [
    "help(s.casefold)"
   ]
  },
  {
   "cell_type": "code",
   "execution_count": 26,
   "metadata": {
    "slideshow": {
     "slide_type": "fragment"
    }
   },
   "outputs": [
    {
     "data": {
      "text/plain": [
       "'do the difficult things while they are easy and do the great things while they are small.'"
      ]
     },
     "execution_count": 26,
     "metadata": {},
     "output_type": "execute_result"
    }
   ],
   "source": [
    "s.casefold()"
   ]
  },
  {
   "cell_type": "code",
   "execution_count": 27,
   "metadata": {},
   "outputs": [
    {
     "data": {
      "text/plain": [
       "89"
      ]
     },
     "execution_count": 27,
     "metadata": {},
     "output_type": "execute_result"
    }
   ],
   "source": [
    "len(s)"
   ]
  },
  {
   "cell_type": "markdown",
   "metadata": {},
   "source": [
    "<font color=\"red\"><h2> Exercise 1 </h2></font>\n",
    "\n",
    "What is the difference between the following.\n",
    "Which is correct?"
   ]
  },
  {
   "cell_type": "code",
   "execution_count": 28,
   "metadata": {},
   "outputs": [
    {
     "name": "stdout",
     "output_type": "stream",
     "text": [
      "Help on built-in function upper:\n",
      "\n",
      "upper(...) method of builtins.str instance\n",
      "    S.upper() -> str\n",
      "    \n",
      "    Return a copy of S converted to uppercase.\n",
      "\n"
     ]
    }
   ],
   "source": [
    "help(s.upper)"
   ]
  },
  {
   "cell_type": "code",
   "execution_count": 29,
   "metadata": {},
   "outputs": [
    {
     "name": "stdout",
     "output_type": "stream",
     "text": [
      "No Python documentation found for 'DO THE DIFFICULT THINGS WHILE THEY ARE EASY AND DO THE GREAT THINGS WHILE THEY ARE SMALL.'.\n",
      "Use help() to get the interactive help utility.\n",
      "Use help(str) for help on the str class.\n",
      "\n"
     ]
    }
   ],
   "source": [
    "help(s.upper())"
   ]
  },
  {
   "cell_type": "markdown",
   "metadata": {},
   "source": [
    "<font color=\"red\"><h2> Exercise 2 </h2></font>\n",
    "\n",
    "Change the \"do\"s in the original quote to \"definitely do\"s"
   ]
  },
  {
   "cell_type": "code",
   "execution_count": 30,
   "metadata": {},
   "outputs": [
    {
     "ename": "SyntaxError",
     "evalue": "invalid syntax (<ipython-input-30-9e60f5d9bc51>, line 1)",
     "output_type": "error",
     "traceback": [
      "\u001b[0;36m  File \u001b[0;32m\"<ipython-input-30-9e60f5d9bc51>\"\u001b[0;36m, line \u001b[0;32m1\u001b[0m\n\u001b[0;31m    *Your answer here*\u001b[0m\n\u001b[0m               ^\u001b[0m\n\u001b[0;31mSyntaxError\u001b[0m\u001b[0;31m:\u001b[0m invalid syntax\n"
     ]
    }
   ],
   "source": [
    "*Your answer here*"
   ]
  },
  {
   "cell_type": "markdown",
   "metadata": {},
   "source": [
    "## Downloading a website with `requests`\n",
    "\n",
    "* `requests` is used to download the source of a website\n",
    "* Install with the following line\n",
    "\n",
    "```\n",
    "pip install requests\n",
    "```"
   ]
  },
  {
   "cell_type": "code",
   "execution_count": 31,
   "metadata": {},
   "outputs": [],
   "source": [
    "import requests"
   ]
  },
  {
   "cell_type": "markdown",
   "metadata": {},
   "source": [
    "## Making a session and getting content\n",
    "\n",
    "* Start by making a session\n",
    "* Then use the `get` method passing the url"
   ]
  },
  {
   "cell_type": "code",
   "execution_count": 32,
   "metadata": {},
   "outputs": [
    {
     "data": {
      "text/plain": [
       "True"
      ]
     },
     "execution_count": 32,
     "metadata": {},
     "output_type": "execute_result"
    }
   ],
   "source": [
    "s = requests.Session() # Start a session\n",
    "r = s.get('https://en.wikipedia.org/wiki/Web_scraping') # Get a static page\n",
    "r.ok # Check status"
   ]
  },
  {
   "cell_type": "markdown",
   "metadata": {},
   "source": [
    "## Accessing the raw content\n",
    "\n",
    "* `content` attribute has the raw content"
   ]
  },
  {
   "cell_type": "code",
   "execution_count": 33,
   "metadata": {},
   "outputs": [
    {
     "data": {
      "text/plain": [
       "b'<!DOCTYPE html>\\n<html class=\"client-nojs\" lang=\"en\" dir=\"ltr\">\\n<head>\\n<meta charset=\"UTF-8\"/>\\n<title>Web scraping - Wikipedia</title>\\n<script>document.documentElement.className = document.documentElement.className.replace( /(^|\\\\s)client-nojs(\\\\s|$)/, \"$1client-js$2\" );</script>\\n<script>(window.RLQ=window.RLQ||[]).push(function(){mw.config.set({\"wgCanonicalNamespace\":\"\",\"wgCanonicalSpecialPageName\":false,\"wgNamespaceNumber\":0,\"wgPageName\":\"Web_scraping\",\"wgTitle\":\"Web scraping\",\"wgCurRevisionId\":857079391,\"wgRevisionId\":857079391,\"wgArticleId\":2696619,\"wgIsArticle\":true,\"wgIsRedirect\":false,\"wgAction\":\"view\",\"wgUserName\":null,\"wgUserGroups\":[\"*\"],\"wgCategories\":[\"CS1 Danish-language sources (da)\",\"Articles needing additional references from June 2017\",\"All articles needing additional references\",\"Articles with limited geographic scope from October 2015\",\"USA-centric\",\"Articles to be split from July 2018\",\"All articles to be split\",\"Web scraping\"],\"wgBreakFrames\":false,\"wgPageContentLanguage\":\"en\",\"wgPageContentModel\":\"wikitext\",\"wgSeparatorTransformTable\":[\"\",\"\"],\"wgDigitTransformTable\":[\"\",\"\"],\"wgDefaultDateFormat\":\"dmy\",\"wgMonthNames\":[\"\",\"January\",\"February\",\"March\",\"April\",\"May\",\"June\",\"July\",\"August\",\"September\",\"October\",\"November\",\"December\"],\"wgMonthNamesShort\":[\"\",\"Jan\",\"Feb\",\"Mar\",\"Apr\",\"May\",\"Jun\",\"Jul\",\"Aug\",\"Sep\",\"Oct\",\"Nov\",\"Dec\"],\"wgRelevantPageName\":\"Web_scraping\",\"wgRelevantArticleId\":2696619,\"wgRequestId\":\"W5gRfwpAICAAAANZBP4AAABS\",\"wgCSPNonce\":false,\"wgIsProbablyEditable\":true,\"wgRelevantPageIsProbablyEditable\":true,\"wgRestrictionEdit\":[],\"wgRestrictionMove\":[],\"wgFlaggedRevsParams\":{\"tags\":{}},\"wgStableRevisionId\":null,\"wgCategoryTreePageCategoryOptions\":\"{\\\\\"mode\\\\\":0,\\\\\"hideprefix\\\\\":20,\\\\\"showcount\\\\\":true,\\\\\"namespaces\\\\\":false}\",\"wgWikiEditorEnabledModules\":[],\"wgBetaFeaturesFeatures\":[],\"wgMediaViewerOnClick\":true,\"wgMediaViewerEnabledByDefault\":true,\"wgPopupsShouldSendModuleToUser\":true,\"wgPopupsConflictsWithNavPopupGadget\":false,\"wgVisualEditor\":{\"pageLanguageCode\":\"en\",\"pageLanguageDir\":\"ltr\",\"pageVariantFallbacks\":\"en\",\"usePageImages\":true,\"usePageDescriptions\":true},\"wgMFExpandAllSectionsUserOption\":true,\"wgMFEnableFontChanger\":true,\"wgMFDisplayWikibaseDescriptions\":{\"search\":true,\"nearby\":true,\"watchlist\":true,\"tagline\":false},\"wgRelatedArticles\":null,\"wgRelatedArticlesUseCirrusSearch\":true,\"wgRelatedArticlesOnlyUseCirrusSearch\":false,\"wgULSCurrentAutonym\":\"English\",\"wgNoticeProject\":\"wikipedia\",\"wgCentralNoticeCookiesToDelete\":[],\"wgCentralNoticeCategoriesUsingLegacy\":[\"Fundraising\",\"fundraising\"],\"wgWikibaseItemId\":\"Q665452\",\"wgScoreNoteLanguages\":{\"arabic\":\"\\xd8\\xa7\\xd9\\x84\\xd8\\xb9\\xd8\\xb1\\xd8\\xa8\\xd9\\x8a\\xd8\\xa9\",\"catalan\":\"catal\\xc3\\xa0\",\"deutsch\":\"Deutsch\",\"english\":\"English\",\"espanol\":\"espa\\xc3\\xb1ol\",\"italiano\":\"italiano\",\"nederlands\":\"Nederlands\",\"norsk\":\"norsk\",\"portugues\":\"portugu\\xc3\\xaas\",\"suomi\":\"suomi\",\"svenska\":\"svenska\",\"vlaams\":\"West-Vlams\"},\"wgScoreDefaultNoteLanguage\":\"nederlands\",\"wgCentralAuthMobileDomain\":false,\"wgCodeMirrorEnabled\":true,\"wgVisualEditorToolbarScrollOffset\":0,\"wgVisualEditorUnsupportedEditParams\":[\"undo\",\"undoafter\",\"veswitched\"],\"wgEditSubmitButtonLabelPublish\":true});mw.loader.state({\"ext.gadget.charinsert-styles\":\"ready\",\"ext.globalCssJs.user.styles\":\"ready\",\"ext.globalCssJs.site.styles\":\"ready\",\"site.styles\":\"ready\",\"noscript\":\"ready\",\"user.styles\":\"ready\",\"ext.globalCssJs.user\":\"ready\",\"ext.globalCssJs.site\":\"ready\",\"user\":\"ready\",\"user.options\":\"ready\",\"user.tokens\":\"loading\",\"ext.cite.styles\":\"ready\",\"mediawiki.legacy.shared\":\"ready\",\"mediawiki.legacy.commonPrint\":\"ready\",\"mediawiki.toc.styles\":\"ready\",\"wikibase.client.init\":\"ready\",\"ext.visualEditor.desktopArticleTarget.noscript\":\"ready\",\"ext.uls.interlanguage\":\"ready\",\"ext.wikimediaBadges\":\"ready\",\"mediawiki.skinning.interface\":\"ready\",\"skins.vector.styles\":\"ready\"});mw.loader.implement(\"user.tokens@1dqfd7l\",function($,jQuery,require,module){/*@nomin*/mw.user.tokens.set({\"editToken\":\"+\\\\\\\\\",\"patrolToken\":\"+\\\\\\\\\",\"watchToken\":\"+\\\\\\\\\",\"csrfToken\":\"+\\\\\\\\\"});\\n});mw.loader.load([\"ext.cite.a11y\",\"site\",\"mediawiki.page.startup\",\"mediawiki.user\",\"mediawiki.page.ready\",\"mediawiki.toc\",\"mediawiki.searchSuggest\",\"ext.gadget.teahouse\",\"ext.gadget.ReferenceTooltips\",\"ext.gadget.watchlist-notice\",\"ext.gadget.DRN-wizard\",\"ext.gadget.charinsert\",\"ext.gadget.refToolbar\",\"ext.gadget.extra-toolbar-buttons\",\"ext.gadget.switcher\",\"ext.centralauth.centralautologin\",\"mmv.head\",\"mmv.bootstrap.autostart\",\"ext.popups\",\"ext.visualEditor.desktopArticleTarget.init\",\"ext.visualEditor.targetLoader\",\"ext.eventLogging.subscriber\",\"ext.wikimediaEvents\",\"ext.navigationTiming\",\"ext.uls.eventlogger\",\"ext.uls.init\",\"ext.uls.compactlinks\",\"ext.uls.interface\",\"ext.3d\",\"ext.centralNotice.geoIP\",\"ext.centralNotice.startUp\",\"skins.vector.js\"]);});</script>\\n<link rel=\"stylesheet\" href=\"/w/load.php?debug=false&amp;lang=en&amp;modules=ext.cite.styles%7Cext.uls.interlanguage%7Cext.visualEditor.desktopArticleTarget.noscript%7Cext.wikimediaBadges%7Cmediawiki.legacy.commonPrint%2Cshared%7Cmediawiki.skinning.interface%7Cmediawiki.toc.styles%7Cskins.vector.styles%7Cwikibase.client.init&amp;only=styles&amp;skin=vector\"/>\\n<script async=\"\" src=\"/w/load.php?debug=false&amp;lang=en&amp;modules=startup&amp;only=scripts&amp;skin=vector\"></script>\\n<meta name=\"ResourceLoaderDynamicStyles\" content=\"\"/>\\n<link rel=\"stylesheet\" href=\"/w/load.php?debug=false&amp;lang=en&amp;modules=ext.gadget.charinsert-styles&amp;only=styles&amp;skin=vector\"/>\\n<link rel=\"stylesheet\" href=\"/w/load.php?debug=false&amp;lang=en&amp;modules=site.styles&amp;only=styles&amp;skin=vector\"/>\\n<meta name=\"generator\" content=\"MediaWiki 1.32.0-wmf.20\"/>\\n<meta name=\"referrer\" content=\"origin\"/>\\n<meta name=\"referrer\" content=\"origin-when-crossorigin\"/>\\n<meta name=\"referrer\" content=\"origin-when-cross-origin\"/>\\n<link rel=\"alternate\" href=\"android-app://org.wikipedia/http/en.m.wikipedia.org/wiki/Web_scraping\"/>\\n<link rel=\"alternate\" type=\"application/x-wiki\" title=\"Edit this page\" href=\"/w/index.php?title=Web_scraping&amp;action=edit\"/>\\n<link rel=\"edit\" title=\"Edit this page\" href=\"/w/index.php?title=Web_scraping&amp;action=edit\"/>\\n<link rel=\"apple-touch-icon\" href=\"/static/apple-touch/wikipedia.png\"/>\\n<link rel=\"shortcut icon\" href=\"/static/favicon/wikipedia.ico\"/>\\n<link rel=\"search\" type=\"application/opensearchdescription+xml\" href=\"/w/opensearch_desc.php\" title=\"Wikipedia (en)\"/>\\n<link rel=\"EditURI\" type=\"application/rsd+xml\" href=\"//en.wikipedia.org/w/api.php?action=rsd\"/>\\n<link rel=\"license\" href=\"//creativecommons.org/licenses/by-sa/3.0/\"/>\\n<link rel=\"canonical\" href=\"https://en.wikipedia.org/wiki/Web_scraping\"/>\\n<link rel=\"dns-prefetch\" href=\"//login.wikimedia.org\"/>\\n<link rel=\"dns-prefetch\" href=\"//meta.wikimedia.org\" />\\n<!--[if lt IE 9]><script src=\"/w/load.php?debug=false&amp;lang=en&amp;modules=html5shiv&amp;only=scripts&amp;skin=vector&amp;sync=1\"></script><![endif]-->\\n</head>\\n<body class=\"mediawiki ltr sitedir-ltr mw-hide-empty-elt ns-0 ns-subject page-Web_scraping rootpage-Web_scraping skin-vector action-view\">\\t\\t<div id=\"mw-page-base\" class=\"noprint\"></div>\\n\\t\\t<div id=\"mw-head-base\" class=\"noprint\"></div>\\n\\t\\t<div id=\"content\" class=\"mw-body\" role=\"main\">\\n\\t\\t\\t<a id=\"top\"></a>\\n\\t\\t\\t<div id=\"siteNotice\" class=\"mw-body-content\"><!-- CentralNotice --></div><div class=\"mw-indicators mw-body-content\">\\n</div>\\n<h1 id=\"firstHeading\" class=\"firstHeading\" lang=\"en\">Web scraping</h1>\\t\\t\\t<div id=\"bodyContent\" class=\"mw-body-content\">\\n\\t\\t\\t\\t<div id=\"siteSub\" class=\"noprint\">From Wikipedia, the free encyclopedia</div>\\t\\t\\t\\t<div id=\"contentSub\"></div>\\n\\t\\t\\t\\t<div id=\"jump-to-nav\"></div>\\t\\t\\t\\t<a class=\"mw-jump-link\" href=\"#mw-head\">Jump to navigation</a>\\n\\t\\t\\t\\t<a class=\"mw-jump-link\" href=\"#p-search\">Jump to search</a>\\n\\t\\t\\t\\t<div id=\"mw-content-text\" lang=\"en\" dir=\"ltr\" class=\"mw-content-ltr\"><div class=\"mw-parser-output\"><table class=\"plainlinks metadata ambox ambox-content ambox-Refimprove\" role=\"presentation\"><tbody><tr><td class=\"mbox-image\"><div style=\"width:52px\"><a href=\"/wiki/File:Question_book-new.svg\" class=\"image\"><img alt=\"\" src=\"//upload.wikimedia.org/wikipedia/en/thumb/9/99/Question_book-new.svg/50px-Question_book-new.svg.png\" width=\"50\" height=\"39\" srcset=\"//upload.wikimedia.org/wikipedia/en/thumb/9/99/Question_book-new.svg/75px-Question_book-new.svg.png 1.5x, //upload.wikimedia.org/wikipedia/en/thumb/9/99/Question_book-new.svg/100px-Question_book-new.svg.png 2x\" data-file-width=\"512\" data-file-height=\"399\" /></a></div></td><td class=\"mbox-text\"><div class=\"mbox-text-span\">This article <b>needs additional citations for <a href=\"/wiki/Wikipedia:Verifiability\" title=\"Wikipedia:Verifiability\">verification</a></b>.<span class=\"hide-when-compact\"> Please help <a class=\"external text\" href=\"//en.wikipedia.org/w/index.php?title=Web_scraping&amp;action=edit\">improve this article</a> by <a href=\"/wiki/Help:Introduction_to_referencing_with_Wiki_Markup/1\" title=\"Help:Introduction to referencing with Wiki Markup/1\">adding citations to reliable sources</a>. Unsourced material may be challenged and removed.</span>  <small><i>(June 2017)</i></small><small class=\"hide-when-compact\"><i> (<a href=\"/wiki/Help:Maintenance_template_removal\" title=\"Help:Maintenance template removal\">Learn how and when to remove this template message</a>)</i></small></div></td></tr></tbody></table>\\n<div role=\"note\" class=\"hatnote navigation-not-searchable\">For a broader coverage of this topic, see <a href=\"/wiki/Data_scraping\" title=\"Data scraping\">Data scraping</a>.</div>\\n<p><b>Web scraping</b>, <b>web harvesting</b>, or <b>web data extraction</b> is <a href=\"/wiki/Data_scraping\" title=\"Data scraping\">data scraping</a> used for <a href=\"/wiki/Data_extraction\" title=\"Data extraction\">extracting data</a> from <a href=\"/wiki/Website\" title=\"Website\">websites</a>.<sup id=\"cite_ref-Boeing2016JPER_1-0\" class=\"reference\"><a href=\"#cite_note-Boeing2016JPER-1\">&#91;1&#93;</a></sup> Web scraping software may access the World Wide Web directly using the <a href=\"/wiki/Hypertext_Transfer_Protocol\" title=\"Hypertext Transfer Protocol\">Hypertext Transfer Protocol</a>, or through a web browser. While web scraping can be done manually by a software user, the term typically refers to automated processes implemented using a <a href=\"/wiki/Internet_bot\" title=\"Internet bot\">bot</a> or <a href=\"/wiki/Web_crawler\" title=\"Web crawler\">web crawler</a>. It is a form of copying, in which specific data is gathered and copied from the web, typically into a central local <a href=\"/wiki/Database\" title=\"Database\">database</a> or spreadsheet, for later <a href=\"/wiki/Data_retrieval\" title=\"Data retrieval\">retrieval</a> or <a href=\"/wiki/Data_analysis\" title=\"Data analysis\">analysis</a>.\\n</p><p>Web scraping a web page involves fetching it and extracting from it.<sup id=\"cite_ref-Boeing2016JPER_1-1\" class=\"reference\"><a href=\"#cite_note-Boeing2016JPER-1\">&#91;1&#93;</a></sup><sup id=\"cite_ref-2\" class=\"reference\"><a href=\"#cite_note-2\">&#91;2&#93;</a></sup> Fetching is the downloading of a page (which a browser does when you view the page). Therefore, web crawling is a main component of web scraping, to fetch pages for later processing. Once fetched, then extraction can take place. The content of a page may be <a href=\"/wiki/Parsing\" title=\"Parsing\">parsed</a>, searched, reformatted, its data copied into a spreadsheet, and so on. Web scrapers typically take something out of a page, to make use of it for another purpose somewhere else. An example would be to find and copy names and phone numbers, or companies and their URLs, to a list (contact scraping).\\n</p><p>Web scraping is used for <a href=\"/wiki/Contact_scraping\" title=\"Contact scraping\">contact scraping</a>, and as a component of applications used for <a href=\"/wiki/Web_indexing\" title=\"Web indexing\">web indexing</a>, <a href=\"/wiki/Web_mining\" title=\"Web mining\">web mining</a> and <a href=\"/wiki/Data_mining\" title=\"Data mining\">data mining</a>, online price change monitoring and <a href=\"/wiki/Comparison_shopping_website\" title=\"Comparison shopping website\">price comparison</a>, product review scraping (to watch the competition), gathering real estate listings, weather data monitoring, <a href=\"/wiki/Change_detection_and_notification\" title=\"Change detection and notification\">website change detection</a>, research, tracking online presence and reputation, <a href=\"/wiki/Web_mashup\" class=\"mw-redirect\" title=\"Web mashup\">web mashup</a> and, web data integration.\\n</p><p><a href=\"/wiki/Web_page\" title=\"Web page\">Web pages</a> are built using text-based mark-up languages (<a href=\"/wiki/HTML\" title=\"HTML\">HTML</a> and <a href=\"/wiki/XHTML\" title=\"XHTML\">XHTML</a>), and frequently contain a wealth of useful data in text form.  However, most web pages are designed for human <a href=\"/wiki/End-user_(computer_science)\" class=\"mw-redirect\" title=\"End-user (computer science)\">end-users</a> and not for ease of automated use. Because of this, tool kits that scrape web content were created. A web scraper is an <a href=\"/wiki/Application_Programming_Interface\" class=\"mw-redirect\" title=\"Application Programming Interface\">Application Programming Interface</a> (API) to extract data from a web site. Companies like <a href=\"/wiki/Amazon_AWS\" class=\"mw-redirect\" title=\"Amazon AWS\">Amazon AWS</a> and <a href=\"/wiki/Google\" title=\"Google\">Google</a> provide web scraping tools, services and public data available free of cost to end users.\\n</p><p>Newer forms of web scraping involve listening to data feeds from web servers.  For example, <a href=\"/wiki/JSON\" title=\"JSON\">JSON</a> is commonly used as a transport storage mechanism between the client and the web server.\\n</p><p>There are methods that some websites use to prevent web scraping, such as detecting and disallowing bots from crawling (viewing) their pages. In response, there are web scraping systems that rely on using techniques in  <a href=\"/wiki/Document_Object_Model\" title=\"Document Object Model\">DOM</a> parsing, <a href=\"/wiki/Computer_vision\" title=\"Computer vision\">computer vision</a> and <a href=\"/wiki/Natural_language_processing\" title=\"Natural language processing\">natural language processing</a> to simulate human browsing to enable gathering web page content for offline parsing.\\n</p>\\n<div id=\"toc\" class=\"toc\"><input type=\"checkbox\" role=\"button\" id=\"toctogglecheckbox\" class=\"toctogglecheckbox\" style=\"display:none\" /><div class=\"toctitle\" lang=\"en\" dir=\"ltr\"><h2>Contents</h2><span class=\"toctogglespan\"><label class=\"toctogglelabel\" for=\"toctogglecheckbox\"></label></span></div>\\n<ul>\\n<li class=\"toclevel-1 tocsection-1\"><a href=\"#Techniques\"><span class=\"tocnumber\">1</span> <span class=\"toctext\">Techniques</span></a>\\n<ul>\\n<li class=\"toclevel-2 tocsection-2\"><a href=\"#Human_copy-and-paste\"><span class=\"tocnumber\">1.1</span> <span class=\"toctext\">Human copy-and-paste</span></a></li>\\n<li class=\"toclevel-2 tocsection-3\"><a href=\"#Text_pattern_matching\"><span class=\"tocnumber\">1.2</span> <span class=\"toctext\">Text pattern matching</span></a></li>\\n<li class=\"toclevel-2 tocsection-4\"><a href=\"#HTTP_programming\"><span class=\"tocnumber\">1.3</span> <span class=\"toctext\">HTTP programming</span></a></li>\\n<li class=\"toclevel-2 tocsection-5\"><a href=\"#HTML_parsing\"><span class=\"tocnumber\">1.4</span> <span class=\"toctext\">HTML parsing</span></a></li>\\n<li class=\"toclevel-2 tocsection-6\"><a href=\"#DOM_parsing\"><span class=\"tocnumber\">1.5</span> <span class=\"toctext\">DOM parsing</span></a></li>\\n<li class=\"toclevel-2 tocsection-7\"><a href=\"#Vertical_aggregation\"><span class=\"tocnumber\">1.6</span> <span class=\"toctext\">Vertical aggregation</span></a></li>\\n<li class=\"toclevel-2 tocsection-8\"><a href=\"#Semantic_annotation_recognizing\"><span class=\"tocnumber\">1.7</span> <span class=\"toctext\">Semantic annotation recognizing</span></a></li>\\n<li class=\"toclevel-2 tocsection-9\"><a href=\"#Computer_vision_web-page_analysis\"><span class=\"tocnumber\">1.8</span> <span class=\"toctext\">Computer vision web-page analysis</span></a></li>\\n</ul>\\n</li>\\n<li class=\"toclevel-1 tocsection-10\"><a href=\"#Software\"><span class=\"tocnumber\">2</span> <span class=\"toctext\">Software</span></a>\\n<ul>\\n<li class=\"toclevel-2 tocsection-11\"><a href=\"#Example_tools\"><span class=\"tocnumber\">2.1</span> <span class=\"toctext\">Example tools</span></a>\\n<ul>\\n<li class=\"toclevel-3 tocsection-12\"><a href=\"#Javascript_tools\"><span class=\"tocnumber\">2.1.1</span> <span class=\"toctext\">Javascript tools</span></a></li>\\n<li class=\"toclevel-3 tocsection-13\"><a href=\"#Web_crawling_frameworks\"><span class=\"tocnumber\">2.1.2</span> <span class=\"toctext\">Web crawling frameworks</span></a></li>\\n</ul>\\n</li>\\n</ul>\\n</li>\\n<li class=\"toclevel-1 tocsection-14\"><a href=\"#Legal_issues\"><span class=\"tocnumber\">3</span> <span class=\"toctext\">Legal issues</span></a>\\n<ul>\\n<li class=\"toclevel-2 tocsection-15\"><a href=\"#United_States\"><span class=\"tocnumber\">3.1</span> <span class=\"toctext\">United States</span></a></li>\\n<li class=\"toclevel-2 tocsection-16\"><a href=\"#The_EU\"><span class=\"tocnumber\">3.2</span> <span class=\"toctext\">The EU</span></a></li>\\n<li class=\"toclevel-2 tocsection-17\"><a href=\"#Australia\"><span class=\"tocnumber\">3.3</span> <span class=\"toctext\">Australia</span></a></li>\\n</ul>\\n</li>\\n<li class=\"toclevel-1 tocsection-18\"><a href=\"#Methods_to_prevent_web_scraping\"><span class=\"tocnumber\">4</span> <span class=\"toctext\">Methods to prevent web scraping</span></a></li>\\n<li class=\"toclevel-1 tocsection-19\"><a href=\"#See_also\"><span class=\"tocnumber\">5</span> <span class=\"toctext\">See also</span></a></li>\\n<li class=\"toclevel-1 tocsection-20\"><a href=\"#References\"><span class=\"tocnumber\">6</span> <span class=\"toctext\">References</span></a></li>\\n</ul>\\n</div>\\n\\n<h2><span class=\"mw-headline\" id=\"Techniques\">Techniques</span><span class=\"mw-editsection\"><span class=\"mw-editsection-bracket\">[</span><a href=\"/w/index.php?title=Web_scraping&amp;action=edit&amp;section=1\" title=\"Edit section: Techniques\">edit</a><span class=\"mw-editsection-bracket\">]</span></span></h2>\\n<p>Web scraping is the process of automatically mining data or collecting information from the World Wide Web. It is a field with active developments sharing a common goal with the <a href=\"/wiki/Semantic_web\" class=\"mw-redirect\" title=\"Semantic web\">semantic web</a> vision, an ambitious initiative that still requires breakthroughs in text processing, semantic understanding, artificial intelligence and <a href=\"/wiki/Human-computer_interaction\" class=\"mw-redirect\" title=\"Human-computer interaction\">human-computer interactions</a>. Current web scraping solutions range from the ad-hoc, requiring human effort, to fully automated systems that are able to convert entire web sites into structured information, with limitations.\\n</p>\\n<h3><span class=\"mw-headline\" id=\"Human_copy-and-paste\">Human copy-and-paste</span><span class=\"mw-editsection\"><span class=\"mw-editsection-bracket\">[</span><a href=\"/w/index.php?title=Web_scraping&amp;action=edit&amp;section=2\" title=\"Edit section: Human copy-and-paste\">edit</a><span class=\"mw-editsection-bracket\">]</span></span></h3>\\n<p>Sometimes even the best web-scraping technology cannot replace a human\\xe2\\x80\\x99s manual examination and copy-and-paste, and sometimes this may be the only workable solution when the websites for scraping explicitly set up barriers to prevent machine automation.\\n</p>\\n<h3><span class=\"mw-headline\" id=\"Text_pattern_matching\">Text pattern matching</span><span class=\"mw-editsection\"><span class=\"mw-editsection-bracket\">[</span><a href=\"/w/index.php?title=Web_scraping&amp;action=edit&amp;section=3\" title=\"Edit section: Text pattern matching\">edit</a><span class=\"mw-editsection-bracket\">]</span></span></h3>\\n<p>A simple yet powerful approach to extract information from web pages can be based on the UNIX <a href=\"/wiki/Grep\" title=\"Grep\">grep</a> command or <a href=\"/wiki/Regular_expression\" title=\"Regular expression\">regular expression</a>-matching facilities of programming languages (for instance <a href=\"/wiki/Perl\" title=\"Perl\">Perl</a> or <a href=\"/wiki/Python_(programming_language)\" title=\"Python (programming language)\">Python</a>).\\n</p>\\n<h3><span class=\"mw-headline\" id=\"HTTP_programming\">HTTP programming</span><span class=\"mw-editsection\"><span class=\"mw-editsection-bracket\">[</span><a href=\"/w/index.php?title=Web_scraping&amp;action=edit&amp;section=4\" title=\"Edit section: HTTP programming\">edit</a><span class=\"mw-editsection-bracket\">]</span></span></h3>\\n<p><a href=\"/wiki/Static_web_page\" title=\"Static web page\">Static</a> and <a href=\"/wiki/Dynamic_web_page\" title=\"Dynamic web page\">dynamic web pages</a> can be retrieved by posting HTTP requests to the remote web server using <a href=\"/wiki/Socket_programming\" class=\"mw-redirect\" title=\"Socket programming\">socket programming</a>.\\n</p>\\n<h3><span class=\"mw-headline\" id=\"HTML_parsing\">HTML parsing</span><span class=\"mw-editsection\"><span class=\"mw-editsection-bracket\">[</span><a href=\"/w/index.php?title=Web_scraping&amp;action=edit&amp;section=5\" title=\"Edit section: HTML parsing\">edit</a><span class=\"mw-editsection-bracket\">]</span></span></h3>\\n<p>Many websites have large collections of pages generated dynamically from an underlying structured source like a database. Data of the same category are typically encoded into similar pages by a common script or template. In data mining, a program that detects such templates in a particular information source, extracts its content and translates it into a relational form, is called a <a href=\"/wiki/Wrapper_(data_mining)\" title=\"Wrapper (data mining)\">wrapper</a>. Wrapper generation algorithms assume that input pages of a wrapper induction system conform to a common template and that they can be easily identified in terms of a URL common scheme.<sup id=\"cite_ref-3\" class=\"reference\"><a href=\"#cite_note-3\">&#91;3&#93;</a></sup> Moreover, some <a href=\"/wiki/Semi-structured_data\" title=\"Semi-structured data\">semi-structured data</a> query languages, such as <a href=\"/wiki/XQuery\" title=\"XQuery\">XQuery</a> and the HTQL, can be used to parse HTML pages and to retrieve and transform page content.\\n</p>\\n<h3><span class=\"mw-headline\" id=\"DOM_parsing\">DOM parsing</span><span class=\"mw-editsection\"><span class=\"mw-editsection-bracket\">[</span><a href=\"/w/index.php?title=Web_scraping&amp;action=edit&amp;section=6\" title=\"Edit section: DOM parsing\">edit</a><span class=\"mw-editsection-bracket\">]</span></span></h3>\\n<div role=\"note\" class=\"hatnote navigation-not-searchable\">Further information: <a href=\"/wiki/Document_Object_Model\" title=\"Document Object Model\">Document Object Model</a></div>\\n<p>By embedding a full-fledged web browser, such as the <a href=\"/wiki/Internet_Explorer\" title=\"Internet Explorer\">Internet Explorer</a> or the <a href=\"/wiki/Mozilla\" title=\"Mozilla\">Mozilla</a> browser control, programs can retrieve the dynamic content generated by client-side scripts. These browser controls also parse web pages into a DOM tree, based on which programs can retrieve parts of the pages.\\n</p>\\n<h3><span class=\"mw-headline\" id=\"Vertical_aggregation\">Vertical aggregation</span><span class=\"mw-editsection\"><span class=\"mw-editsection-bracket\">[</span><a href=\"/w/index.php?title=Web_scraping&amp;action=edit&amp;section=7\" title=\"Edit section: Vertical aggregation\">edit</a><span class=\"mw-editsection-bracket\">]</span></span></h3>\\n<p>There are several companies that have developed vertical specific harvesting platforms. These platforms create and monitor a multitude of \\xe2\\x80\\x9cbots\\xe2\\x80\\x9d for specific verticals with no \"man in the loop\" (no direct human involvement), and no work related to a specific target site. The preparation involves establishing the knowledge base for the entire vertical and then the platform creates the bots automatically. The platform\\'s robustness is measured by the quality of the information it retrieves (usually number of fields) and its scalability (how quick it can scale up to hundreds or thousands of sites). This scalability is mostly used to target the <a href=\"/wiki/Long_Tail\" class=\"mw-redirect\" title=\"Long Tail\">Long Tail</a> of sites that common aggregators find complicated or too labor-intensive to harvest content from.\\n</p>\\n<h3><span class=\"mw-headline\" id=\"Semantic_annotation_recognizing\">Semantic annotation recognizing</span><span class=\"mw-editsection\"><span class=\"mw-editsection-bracket\">[</span><a href=\"/w/index.php?title=Web_scraping&amp;action=edit&amp;section=8\" title=\"Edit section: Semantic annotation recognizing\">edit</a><span class=\"mw-editsection-bracket\">]</span></span></h3>\\n<p>The pages being scraped may embrace <a href=\"/wiki/Metadata\" title=\"Metadata\">metadata</a> or semantic markups and annotations, which can be used to locate specific data snippets. If the annotations are embedded in the pages, as <a href=\"/wiki/Microformat\" title=\"Microformat\">Microformat</a> does, this technique can be viewed as a special case of DOM parsing. In another case, the annotations, organized into a semantic layer,<sup id=\"cite_ref-4\" class=\"reference\"><a href=\"#cite_note-4\">&#91;4&#93;</a></sup> are stored and managed separately from the web pages, so the scrapers can retrieve data schema and instructions from this layer before scraping the pages.\\n</p>\\n<h3><span class=\"mw-headline\" id=\"Computer_vision_web-page_analysis\">Computer vision web-page analysis</span><span class=\"mw-editsection\"><span class=\"mw-editsection-bracket\">[</span><a href=\"/w/index.php?title=Web_scraping&amp;action=edit&amp;section=9\" title=\"Edit section: Computer vision web-page analysis\">edit</a><span class=\"mw-editsection-bracket\">]</span></span></h3>\\n<p>There are efforts using <a href=\"/wiki/Machine_learning\" title=\"Machine learning\">machine learning</a> and <a href=\"/wiki/Computer_vision\" title=\"Computer vision\">computer vision</a> that attempt to identify and extract information from web pages by interpreting pages visually as a human being might.<sup id=\"cite_ref-5\" class=\"reference\"><a href=\"#cite_note-5\">&#91;5&#93;</a></sup>\\n</p>\\n<h2><span class=\"mw-headline\" id=\"Software\">Software</span><span class=\"mw-editsection\"><span class=\"mw-editsection-bracket\">[</span><a href=\"/w/index.php?title=Web_scraping&amp;action=edit&amp;section=10\" title=\"Edit section: Software\">edit</a><span class=\"mw-editsection-bracket\">]</span></span></h2>\\n<p>There are many software tools available that can be used to customize web-scraping solutions. This software may attempt to automatically recognize the data structure of a page or provide a recording interface that removes the necessity to manually write web-scraping code, or some scripting functions that can be used to extract and transform content, and database interfaces that can store the scraped data in local databases. Some web scraping software can also be used to extract data from an API directly.\\n</p>\\n<h3><span class=\"mw-headline\" id=\"Example_tools\">Example tools</span><span class=\"mw-editsection\"><span class=\"mw-editsection-bracket\">[</span><a href=\"/w/index.php?title=Web_scraping&amp;action=edit&amp;section=11\" title=\"Edit section: Example tools\">edit</a><span class=\"mw-editsection-bracket\">]</span></span></h3>\\n<ul><li><a href=\"/wiki/CURL\" title=\"CURL\">cURL</a> &#8211; command line tool and library for transferring (including getting) data with URLs supporting a wide range of HTTP methods (GET, POST, cookies, etc.)</li>\\n<li><a href=\"/wiki/Data_Toolbar\" title=\"Data Toolbar\">Data Toolbar</a> &#8211;  web scraping add-on for Internet Explorer, Mozilla Firefox, and Google Chrome Web browsers that collects and converts structured data from web pages into a tabular format that can be loaded into a spreadsheet or database management program.</li>\\n<li><a href=\"/wiki/Diffbot\" title=\"Diffbot\">Diffbot</a> &#8211;  uses computer vision and machine learning to automatically extract data from web pages by interpreting pages visually as a human being might.</li>\\n<li><a href=\"/wiki/Heritrix\" title=\"Heritrix\">Heritrix</a> &#8211; gets pages (lots of them). It is a web crawler designed for web archiving, written by the Internet Archive (see <a href=\"/wiki/Wayback_Machine\" title=\"Wayback Machine\">Wayback Machine</a>).</li>\\n<li><a href=\"/wiki/HtmlUnit\" title=\"HtmlUnit\">HtmlUnit</a> &#8211; headless browser that can be used for retrieving web pages, web scraping, and more.</li>\\n<li><a href=\"/wiki/HTTrack\" title=\"HTTrack\">HTTrack</a> &#8211; free and open source Web crawler and offline browser, designed to download websites.</li>\\n<li><a href=\"/wiki/IMacros\" title=\"IMacros\">iMacros</a> &#8211; a browser extension to record, code, share and replay browser automation (javascript)</li>\\n<li><a href=\"/wiki/Selenium_(software)\" title=\"Selenium (software)\">Selenium (software)</a> &#8211; a portable software-testing framework for web applications</li>\\n<li><a href=\"/wiki/Aptana#Aptana_Jaxer\" title=\"Aptana\">Jaxer</a></li>\\n<li><a href=\"/wiki/Nokogiri_(software)\" title=\"Nokogiri (software)\">nokogiri</a></li>\\n<li><a href=\"/wiki/OutWit_Hub\" title=\"OutWit Hub\">OutWit Hub</a> &#8211; Web scraping application including built-in data, image, document extractors and editors for custom scrapers and automatic exploration and extraction jobs (free and paid versions)</li>\\n<li><a href=\"/wiki/Watir\" title=\"Watir\">watir</a> &#8211;</li>\\n<li><a href=\"/wiki/Wget\" title=\"Wget\">Wget</a> &#8211; computer program that retrieves content from web servers. It is part of the GNU Project. It supports downloading via the HTTP, HTTPS, and FTP protocols.</li>\\n<li><a href=\"/wiki/WSO2_Mashup_Server\" title=\"WSO2 Mashup Server\">WSO2 Mashup Server</a> &#8211;</li>\\n<li><a href=\"/wiki/Yahoo!_Query_Language\" title=\"Yahoo! Query Language\">Yahoo! Query Language</a> (YQL) &#8211;</li></ul>\\n<h4><span class=\"mw-headline\" id=\"Javascript_tools\">Javascript tools</span><span class=\"mw-editsection\"><span class=\"mw-editsection-bracket\">[</span><a href=\"/w/index.php?title=Web_scraping&amp;action=edit&amp;section=12\" title=\"Edit section: Javascript tools\">edit</a><span class=\"mw-editsection-bracket\">]</span></span></h4>\\n<ul><li><a href=\"/wiki/Greasemonkey\" title=\"Greasemonkey\">Greasemonkey</a></li>\\n<li><a href=\"/wiki/Node.js\" title=\"Node.js\">Node.js</a></li>\\n<li><a href=\"/wiki/PhantomJS\" title=\"PhantomJS\">PhantomJS</a> &#8211; scripted, <a href=\"/wiki/Headless_browser\" title=\"Headless browser\">headless browser</a> used for automating web page interaction.</li>\\n<li><a href=\"/wiki/JQuery\" title=\"JQuery\">jQuery</a></li></ul>\\n<h4><span class=\"mw-headline\" id=\"Web_crawling_frameworks\">Web crawling frameworks</span><span class=\"mw-editsection\"><span class=\"mw-editsection-bracket\">[</span><a href=\"/w/index.php?title=Web_scraping&amp;action=edit&amp;section=13\" title=\"Edit section: Web crawling frameworks\">edit</a><span class=\"mw-editsection-bracket\">]</span></span></h4>\\n<p>These can be used to build web scrapers.\\n</p>\\n<ul><li><a href=\"/wiki/Scrapy\" title=\"Scrapy\">Scrapy</a></li></ul>\\n<h2><span class=\"mw-headline\" id=\"Legal_issues\">Legal issues</span><span class=\"mw-editsection\"><span class=\"mw-editsection-bracket\">[</span><a href=\"/w/index.php?title=Web_scraping&amp;action=edit&amp;section=14\" title=\"Edit section: Legal issues\">edit</a><span class=\"mw-editsection-bracket\">]</span></span></h2>\\n<table class=\"plainlinks metadata ambox ambox-content ambox-globalize\" role=\"presentation\"><tbody><tr><td class=\"mbox-image\"><div style=\"width:52px\"><img alt=\"Globe icon.\" src=\"//upload.wikimedia.org/wikipedia/commons/thumb/b/bd/Ambox_globe_content.svg/48px-Ambox_globe_content.svg.png\" width=\"48\" height=\"40\" srcset=\"//upload.wikimedia.org/wikipedia/commons/thumb/b/bd/Ambox_globe_content.svg/73px-Ambox_globe_content.svg.png 1.5x, //upload.wikimedia.org/wikipedia/commons/thumb/b/bd/Ambox_globe_content.svg/97px-Ambox_globe_content.svg.png 2x\" data-file-width=\"350\" data-file-height=\"290\" /></div></td><td class=\"mbox-text\"><div class=\"mbox-text-span\">The examples and perspective in this section <b>deal primarily with the United States and do not represent a <a href=\"/wiki/Wikipedia:WikiProject_Countering_systemic_bias\" title=\"Wikipedia:WikiProject Countering systemic bias\">worldwide view</a> of the subject</b>.<span class=\"hide-when-compact\"> You may <a class=\"external text\" href=\"//en.wikipedia.org/w/index.php?title=Web_scraping&amp;action=edit\">improve this article</a>, discuss the issue on the <a href=\"/wiki/Talk:Web_scraping\" title=\"Talk:Web scraping\">talk page</a>, or <a href=\"/wiki/Wikipedia:Article_wizard\" title=\"Wikipedia:Article wizard\">create a new article</a>, as appropriate.</span>  <small><i>(October 2015)</i></small><small class=\"hide-when-compact\"><i> (<a href=\"/wiki/Help:Maintenance_template_removal\" title=\"Help:Maintenance template removal\">Learn how and when to remove this template message</a>)</i></small></div></td></tr></tbody></table>\\n<p>The legality of web scraping varies across the world. In general, web scraping may be against the <a href=\"/wiki/Terms_of_use\" class=\"mw-redirect\" title=\"Terms of use\">terms of use</a> of some websites, but the enforceability of these terms is unclear.<sup id=\"cite_ref-6\" class=\"reference\"><a href=\"#cite_note-6\">&#91;6&#93;</a></sup>\\n</p>\\n<h3><span class=\"mw-headline\" id=\"United_States\">United States</span><span class=\"mw-editsection\"><span class=\"mw-editsection-bracket\">[</span><a href=\"/w/index.php?title=Web_scraping&amp;action=edit&amp;section=15\" title=\"Edit section: United States\">edit</a><span class=\"mw-editsection-bracket\">]</span></span></h3>\\n<table class=\"plainlinks metadata ambox ambox-move\" role=\"presentation\"><tbody><tr><td class=\"mbox-image\"><div style=\"width:52px\"><img alt=\"\" src=\"//upload.wikimedia.org/wikipedia/commons/thumb/a/a7/Split-arrows.svg/50px-Split-arrows.svg.png\" width=\"50\" height=\"17\" srcset=\"//upload.wikimedia.org/wikipedia/commons/thumb/a/a7/Split-arrows.svg/75px-Split-arrows.svg.png 1.5x, //upload.wikimedia.org/wikipedia/commons/thumb/a/a7/Split-arrows.svg/100px-Split-arrows.svg.png 2x\" data-file-width=\"300\" data-file-height=\"100\" /></div></td><td class=\"mbox-text\"><div class=\"mbox-text-span\">It has been suggested that this section be <a href=\"/wiki/Wikipedia:Splitting\" title=\"Wikipedia:Splitting\">split</a> out  into another article&#32;titled <i><a href=\"/w/index.php?title=Web_scraping_in_the_United_States&amp;action=edit&amp;redlink=1\" class=\"new\" title=\"Web scraping in the United States (page does not exist)\">Web scraping in the United States</a></i>. (<a href=\"/wiki/Talk:Web_scraping#Split_section\" title=\"Talk:Web scraping\">Discuss</a>) <small><i>(July 2018)</i></small></div></td></tr></tbody></table>\\n<p>In the United States, website owners can use three major <a href=\"/wiki/Cause_of_action\" title=\"Cause of action\">legal claims</a> to prevent undesired web scraping: (1) copyright infringement (compilation), (2) violation of the <a href=\"/wiki/Computer_Fraud_and_Abuse_Act\" title=\"Computer Fraud and Abuse Act\">Computer Fraud and Abuse Act</a> (\\xe2\\x80\\x9cCFAA\\xe2\\x80\\x9d), and (3) <a href=\"/wiki/Trespass_to_chattels\" title=\"Trespass to chattels\">trespass to chattel</a>.<sup id=\"cite_ref-7\" class=\"reference\"><a href=\"#cite_note-7\">&#91;7&#93;</a></sup> However, the effectiveness of these claims relies upon meeting various criteria, and the case law is still evolving. For example, with regard to copyright, while outright duplication of original expression will in many cases be illegal, in the United States the courts ruled in <a href=\"/wiki/Feist_Publications,_Inc.,_v._Rural_Telephone_Service_Co.\" title=\"Feist Publications, Inc., v. Rural Telephone Service Co.\"><i>Feist Publications v. Rural Telephone Service</i></a> that duplication of facts is allowable.\\n</p><p>U.S. courts have acknowledged that users of \"scrapers\" or \"robots\" may be held liable for committing <a href=\"/wiki/Trespass_to_chattels\" title=\"Trespass to chattels\">trespass to chattels</a>,<sup id=\"cite_ref-8\" class=\"reference\"><a href=\"#cite_note-8\">&#91;8&#93;</a></sup><sup id=\"cite_ref-9\" class=\"reference\"><a href=\"#cite_note-9\">&#91;9&#93;</a></sup> which involves a computer system itself being considered personal property upon which the user of a scraper is trespassing. The best known of these cases, <i><a href=\"/wiki/EBay_v._Bidder%27s_Edge\" title=\"EBay v. Bidder&#39;s Edge\">eBay v. Bidder\\'s Edge</a></i>, resulted in an injunction ordering Bidder\\'s Edge to stop accessing, collecting, and indexing auctions from the eBay web site. This case involved automatic placing of bids, known as <a href=\"/wiki/Auction_sniping\" title=\"Auction sniping\">auction sniping</a>. However, in order to succeed on a claim of trespass to <a href=\"/wiki/Personal_property\" title=\"Personal property\">chattels</a>, the <a href=\"/wiki/Plaintiff\" title=\"Plaintiff\">plaintiff</a> must demonstrate that the <a href=\"/wiki/Defendant\" title=\"Defendant\">defendant</a> intentionally and without authorization interfered with the plaintiff\\'s possessory interest in the computer system and that the defendant\\'s unauthorized use caused damage to the plaintiff. Not all cases of web spidering brought before the courts have been considered trespass to chattels.<sup id=\"cite_ref-10\" class=\"reference\"><a href=\"#cite_note-10\">&#91;10&#93;</a></sup>\\n</p><p>One of the first major tests of <a href=\"/wiki/Screen_scraping\" class=\"mw-redirect\" title=\"Screen scraping\">screen scraping</a> involved <a href=\"/wiki/American_Airlines\" title=\"American Airlines\">American Airlines</a> (AA), and a firm called FareChase.<sup id=\"cite_ref-11\" class=\"reference\"><a href=\"#cite_note-11\">&#91;11&#93;</a></sup> AA successfully obtained an <a href=\"/wiki/Injunction\" title=\"Injunction\">injunction</a> from a Texas trial court, stopping FareChase from selling software that enables users to compare online fares if the software also searches AA\\'s website. The airline argued that FareChase\\'s websearch software trespassed on AA\\'s servers when it collected the publicly available data. FareChase filed an appeal in March 2003. By June, FareChase and AA agreed to settle and the appeal was dropped.<sup id=\"cite_ref-12\" class=\"reference\"><a href=\"#cite_note-12\">&#91;12&#93;</a></sup>\\n</p><p><a href=\"/wiki/Southwest_Airlines\" title=\"Southwest Airlines\">Southwest Airlines</a> has also challenged screen-scraping practices, and has involved both FareChase and another firm, Outtask, in a legal claim. Southwest Airlines charged that the screen-scraping is Illegal since it is an example of \"Computer Fraud and Abuse\" and has led to \"Damage and Loss\" and \"Unauthorized Access\" of Southwest\\'s site. It also constitutes \"Interference with Business Relations\", \"Trespass\", and \"Harmful Access by Computer\". They also claimed that screen-scraping constitutes what is legally known as \"Misappropriation and Unjust Enrichment\", as well as being a breach of the web site\\'s user agreement. Outtask denied all these claims, claiming that the prevailing law in this case should be <a href=\"/wiki/US_Copyright_law\" class=\"mw-redirect\" title=\"US Copyright law\">US Copyright law</a>, and that under copyright, the pieces of information being scraped would not be subject to copyright protection. Although the cases were never resolved in the <a href=\"/wiki/Supreme_Court_of_the_United_States\" title=\"Supreme Court of the United States\">Supreme Court of the United States</a>, FareChase was eventually shuttered by parent company <a href=\"/wiki/Yahoo!\" title=\"Yahoo!\">Yahoo!</a>, and Outtask was purchased by travel expense company Concur.<sup id=\"cite_ref-impervawp2011_13-0\" class=\"reference\"><a href=\"#cite_note-impervawp2011-13\">&#91;13&#93;</a></sup>\\nIn 2012, a startup called 3Taps scraped classified housing ads from Craigslist. Craigslist sent 3Taps a cease-and-desist letter and blocked their IP addresses and later sued, in <i><a href=\"/wiki/Craigslist_v._3Taps\" class=\"mw-redirect\" title=\"Craigslist v. 3Taps\">Craigslist v. 3Taps</a></i>. The court held that the cease-and-desist letter and IP blocking was sufficient for Craigslist to properly claim that 3Taps had violated the <a href=\"/wiki/Computer_Fraud_and_Abuse_Act\" title=\"Computer Fraud and Abuse Act\">Computer Fraud and Abuse Act</a>.\\n</p><p>Although these are early scraping decisions, and the theories of liability are not uniform, it is difficult to ignore a pattern emerging that the courts are prepared to protect proprietary content on commercial sites from uses which are undesirable to the owners of such sites. However, the degree of protection for such content is not settled, and will depend on the type of access made by the scraper, the amount of information accessed and copied, the degree to which the access adversely affects the site owner\\xe2\\x80\\x99s system and the types and manner of prohibitions on such conduct.<sup id=\"cite_ref-14\" class=\"reference\"><a href=\"#cite_note-14\">&#91;14&#93;</a></sup>\\n</p><p>While the law in this area becomes more settled, entities contemplating using scraping programs to access a public web site should also consider whether such action is authorized by reviewing the terms of use and other terms or notices posted on or made available through the site. In a 2010 ruling in the <i><a href=\"/wiki/Cvent,_Inc.\" class=\"mw-redirect\" title=\"Cvent, Inc.\">Cvent, Inc.</a> v. <a href=\"/wiki/Eventbrite\" title=\"Eventbrite\">Eventbrite, Inc.</a></i> In the United States district court for the eastern district of Virginia, the court ruled that the terms of use should be brought to the users\\' attention In order for a <a href=\"/wiki/Browse_wrap\" title=\"Browse wrap\">browse wrap</a> contract or license to be enforced.<sup id=\"cite_ref-15\" class=\"reference\"><a href=\"#cite_note-15\">&#91;15&#93;</a></sup> In a 2014, filed in the <a href=\"/wiki/United_States_District_Court_for_the_Eastern_District_of_Pennsylvania\" title=\"United States District Court for the Eastern District of Pennsylvania\">United States District Court for the Eastern District of Pennsylvania</a>,<sup id=\"cite_ref-16\" class=\"reference\"><a href=\"#cite_note-16\">&#91;16&#93;</a></sup> e-commerce site <a href=\"/wiki/QVC\" title=\"QVC\">QVC</a> objected to the Pinterest-like shopping aggregator Resultly\\xe2\\x80\\x99s `scraping of QVC\\xe2\\x80\\x99s site for real-time pricing data. QVC alleges that Resultly \\xe2\\x80\\x9cexcessively crawled\\xe2\\x80\\x9d QVC\\xe2\\x80\\x99s retail site (allegedly sending 200-300 search requests to QVC\\xe2\\x80\\x99s website per minute, sometimes to up to 36,000 requests per minute) which caused QVC\\'s site to crash for two days, resulting in lost sales for QVC.<sup id=\"cite_ref-17\" class=\"reference\"><a href=\"#cite_note-17\">&#91;17&#93;</a></sup> QVC\\'s complaint alleges that the defendant disguised its web crawler to mask its source IP address and thus prevented QVC from quickly repairing the problem. This is a particularly interesting scraping case because QVC is seeking damages for the unavailability of their website, which QVC claims was caused by Resultly.\\n</p><p>In the plaintiff\\'s web site during the period of this trial the terms of use link is displayed among all the links of the site, at the bottom of the page as most sites on the internet. This ruling contradicts the Irish ruling described below. The court also rejected the plaintiff\\'s argument that the browse wrap restrictions were enforceable in view of Virginia\\'s adoption of the Uniform Computer Information Transactions Act (UCITA)\\xe2\\x80\\x94a uniform law that many believed was in favor on common browse wrap contracting practices.<sup id=\"cite_ref-18\" class=\"reference\"><a href=\"#cite_note-18\">&#91;18&#93;</a></sup>\\n</p><p>In <i><a href=\"/wiki/Facebook,_Inc._v._Power_Ventures,_Inc.\" title=\"Facebook, Inc. v. Power Ventures, Inc.\">Facebook, Inc. v. Power Ventures, Inc.</a></i>, a district court ruled in 2012 that Power Ventures could not scrape Facebook pages on behalf of a Facebook user. The case is on appeal, and the <a href=\"/wiki/Electronic_Frontier_Foundation\" title=\"Electronic Frontier Foundation\">Electronic Frontier Foundation</a> filed a brief in 2015 asking that it be overturned.<sup id=\"cite_ref-19\" class=\"reference\"><a href=\"#cite_note-19\">&#91;19&#93;</a></sup><sup id=\"cite_ref-20\" class=\"reference\"><a href=\"#cite_note-20\">&#91;20&#93;</a></sup> In <i><a href=\"/wiki/Associated_Press_v._Meltwater_U.S._Holdings,_Inc.\" title=\"Associated Press v. Meltwater U.S. Holdings, Inc.\">Associated Press v. Meltwater U.S. Holdings, Inc.</a></i>, a court in the US held Meltwater liable for scraping and republishing news information from the Associated Press, but a court in the United Kingdom held in favor of Meltwater.\\n</p><p>Internet Archive collects and distributes significant number of publicly available webpages without it is considered to be copyright violation.\\n</p>\\n<h3><span class=\"mw-headline\" id=\"The_EU\">The EU</span><span class=\"mw-editsection\"><span class=\"mw-editsection-bracket\">[</span><a href=\"/w/index.php?title=Web_scraping&amp;action=edit&amp;section=16\" title=\"Edit section: The EU\">edit</a><span class=\"mw-editsection-bracket\">]</span></span></h3>\\n<p>In February 2006, the Danish Maritime and Commercial Court (Copenhagen) ruled that systematic crawling, indexing, and deep linking by portal site ofir.dk of estate site Home.dk does not conflict with Danish law or the database directive of the European Union.<sup id=\"cite_ref-21\" class=\"reference\"><a href=\"#cite_note-21\">&#91;21&#93;</a></sup>\\n</p><p>In a February 2010 case complicated by matters of jurisdiction, Ireland\\'s High Court delivered a verdict that illustrates the <a href=\"/wiki/Inchoate_offense\" title=\"Inchoate offense\">inchoate</a> state of developing case law. In the case of <i>Ryanair Ltd v Billigfluege.de GmbH</i>, Ireland\\'s High Court ruled <a href=\"/wiki/Ryanair\" title=\"Ryanair\">Ryanair\\'s</a> \"click-wrap\" agreement to be legally binding. In contrast to the findings of the United States District Court Eastern District of Virginia and those of the Danish Maritime and Commercial Court, Justice Michael Hanna ruled that the hyperlink to Ryanair\\'s terms and conditions was plainly visible, and that placing the onus on the user to agree to terms and conditions in order to gain access to online services is sufficient to comprise a contractual relationship.\\n<sup id=\"cite_ref-22\" class=\"reference\"><a href=\"#cite_note-22\">&#91;22&#93;</a></sup> The decision is under appeal in Ireland\\'s Supreme Court.<sup id=\"cite_ref-23\" class=\"reference\"><a href=\"#cite_note-23\">&#91;23&#93;</a></sup>\\n</p>\\n<h3><span class=\"mw-headline\" id=\"Australia\">Australia</span><span class=\"mw-editsection\"><span class=\"mw-editsection-bracket\">[</span><a href=\"/w/index.php?title=Web_scraping&amp;action=edit&amp;section=17\" title=\"Edit section: Australia\">edit</a><span class=\"mw-editsection-bracket\">]</span></span></h3>\\n<p>In Australia, the <a href=\"/wiki/Spam_Act_2003\" title=\"Spam Act 2003\">Spam Act 2003</a> outlaws some forms of web harvesting, although this only applies to email addresses.<sup id=\"cite_ref-24\" class=\"reference\"><a href=\"#cite_note-24\">&#91;24&#93;</a></sup><sup id=\"cite_ref-25\" class=\"reference\"><a href=\"#cite_note-25\">&#91;25&#93;</a></sup>\\n</p>\\n<h2><span class=\"mw-headline\" id=\"Methods_to_prevent_web_scraping\">Methods to prevent web scraping</span><span class=\"mw-editsection\"><span class=\"mw-editsection-bracket\">[</span><a href=\"/w/index.php?title=Web_scraping&amp;action=edit&amp;section=18\" title=\"Edit section: Methods to prevent web scraping\">edit</a><span class=\"mw-editsection-bracket\">]</span></span></h2>\\n<p>The administrator of a website can use various measures to stop or slow a bot. Some techniques include:\\n</p>\\n<ul><li>Blocking an <a href=\"/wiki/IP_address\" title=\"IP address\">IP address</a> either manually or based on criteria such as <a href=\"/wiki/Geolocation\" title=\"Geolocation\">geolocation</a> and <a href=\"/wiki/DNSBL\" title=\"DNSBL\">DNSRBL</a>. This will also block all browsing from that address.</li>\\n<li>Disabling any <a href=\"/wiki/Web_service\" title=\"Web service\">web service</a> <a href=\"/wiki/Application_programming_interface\" title=\"Application programming interface\">API</a> that the website\\'s system might expose.</li>\\n<li>Bots sometimes declare who they are (using <a href=\"/wiki/User_agent\" title=\"User agent\">user agent</a> <a href=\"/wiki/String_(computer_science)\" title=\"String (computer science)\">strings</a>) and can be blocked on that basis using <a href=\"/wiki/Robots_exclusion_standard\" title=\"Robots exclusion standard\">robots.txt</a>; \\'<a href=\"/wiki/Googlebot\" title=\"Googlebot\">googlebot</a>\\' is an example. Other bots make no distinction between themselves and a human using a browser.</li>\\n<li>Bots can be blocked by monitoring excess traffic</li>\\n<li>Bots can sometimes be blocked with tools to verify that it is a real person accessing the site, like a <a href=\"/wiki/CAPTCHA\" title=\"CAPTCHA\">CAPTCHA</a>. Bots are sometimes coded to explicitly break specific CAPTCHA patterns or may employ third-party services that utilize human labor to read and respond in real-time to CAPTCHA challenges.</li>\\n<li>Commercial anti-bot services: Companies offer anti-bot and anti-scraping services for websites. A few web <a href=\"/wiki/Application_firewall\" title=\"Application firewall\">application firewalls</a> have limited bot detection capabilities as well. However, many such solutions are not very effective<sup id=\"cite_ref-26\" class=\"reference\"><a href=\"#cite_note-26\">&#91;26&#93;</a></sup>.</li></ul>\\n<ul><li>Locating bots with a <a href=\"/wiki/Honeypot_(computing)\" title=\"Honeypot (computing)\">honeypot</a> or other method to identify the IP addresses of automated crawlers.</li>\\n<li><a href=\"/wiki/Obfuscation\" title=\"Obfuscation\">Obfuscation</a> using <a href=\"/wiki/CSS_sprite\" class=\"mw-redirect\" title=\"CSS sprite\">CSS sprites</a> to display such data as phone numbers or email addresses, at the cost of <a href=\"/wiki/Web_accessibility\" title=\"Web accessibility\">accessibility</a> to <a href=\"/wiki/Screen_reader\" title=\"Screen reader\">screen reader</a> users.</li>\\n<li>Because bots rely on consistency in the front-end code of a target website, adding small variations to the HTML/CSS surrounding important data and navigation elements would require more human involvement in the initial set up of a bot and if done effectively may render the target website too difficult to scrape due to the diminished ability to automate the scraping process.</li>\\n<li>Websites can declare if crawling is allowed or not in the <a href=\"/wiki/Robots_exclusion_standard\" title=\"Robots exclusion standard\">robots.txt</a> file and allow partial access, limit the crawl rate, specify the optimal time to crawl and more.</li></ul>\\n<h2><span class=\"mw-headline\" id=\"See_also\">See also</span><span class=\"mw-editsection\"><span class=\"mw-editsection-bracket\">[</span><a href=\"/w/index.php?title=Web_scraping&amp;action=edit&amp;section=19\" title=\"Edit section: See also\">edit</a><span class=\"mw-editsection-bracket\">]</span></span></h2>\\n<div class=\"div-col columns column-width\" style=\"-moz-column-width: 22em; -webkit-column-width: 22em; column-width: 22em;\">\\n<ul><li><a href=\"/wiki/Archive.is\" title=\"Archive.is\">Archive&#46;is</a></li>\\n<li><a href=\"/wiki/Comparison_of_feed_aggregators\" title=\"Comparison of feed aggregators\">Comparison of feed aggregators</a></li>\\n<li><a href=\"/wiki/Data_scraping\" title=\"Data scraping\">Data scraping</a></li>\\n<li><a href=\"/wiki/Data_wrangling\" title=\"Data wrangling\">Data wrangling</a></li>\\n<li><a href=\"/wiki/Importer_(computing)\" title=\"Importer (computing)\">Importer</a></li>\\n<li><a href=\"/wiki/Job_wrapping\" title=\"Job wrapping\">Job wrapping</a></li>\\n<li><a href=\"/wiki/Knowledge_extraction\" title=\"Knowledge extraction\">Knowledge extraction</a></li>\\n<li><a href=\"/wiki/OpenSocial\" title=\"OpenSocial\">OpenSocial</a></li>\\n<li><a href=\"/wiki/Scraper_site\" title=\"Scraper site\">Scraper site</a></li>\\n<li><a href=\"/wiki/Fake_news_website\" title=\"Fake news website\">Fake news website</a></li>\\n<li><a href=\"/wiki/Blog_scraping\" title=\"Blog scraping\">Blog scraping</a></li>\\n<li><a href=\"/wiki/Spamdexing\" title=\"Spamdexing\">Spamdexing</a></li>\\n<li><a href=\"/wiki/Domain_name_drop_list\" title=\"Domain name drop list\">Domain name drop list</a></li>\\n<li><a href=\"/wiki/Text_corpus\" title=\"Text corpus\">Text corpus</a></li>\\n<li><a href=\"/wiki/Web_archiving\" title=\"Web archiving\">Web archiving</a></li>\\n<li><a href=\"/wiki/Blog_network\" class=\"mw-redirect\" title=\"Blog network\">Blog network</a></li>\\n<li><a href=\"/wiki/Search_Engine_Scraping\" class=\"mw-redirect\" title=\"Search Engine Scraping\">Search Engine Scraping</a></li>\\n<li><a href=\"/wiki/Category:Web_crawlers\" title=\"Category:Web crawlers\">Web crawlers</a></li></ul>\\n</div>\\n<h2><span class=\"mw-headline\" id=\"References\">References</span><span class=\"mw-editsection\"><span class=\"mw-editsection-bracket\">[</span><a href=\"/w/index.php?title=Web_scraping&amp;action=edit&amp;section=20\" title=\"Edit section: References\">edit</a><span class=\"mw-editsection-bracket\">]</span></span></h2>\\n<div class=\"reflist columns references-column-width\" style=\"-moz-column-width: 20em; -webkit-column-width: 20em; column-width: 20em; list-style-type: decimal;\">\\n<ol class=\"references\">\\n<li id=\"cite_note-Boeing2016JPER-1\"><span class=\"mw-cite-backlink\">^ <a href=\"#cite_ref-Boeing2016JPER_1-0\"><sup><i><b>a</b></i></sup></a> <a href=\"#cite_ref-Boeing2016JPER_1-1\"><sup><i><b>b</b></i></sup></a></span> <span class=\"reference-text\"><cite class=\"citation journal\">Boeing, G.; Waddell, P. (2016). \"New Insights into Rental Housing Markets across the United States: Web Scraping and Analyzing Craigslist Rental Listings\". <i>Journal of Planning Education and Research</i> (0739456X16664789). <a href=\"/wiki/ArXiv\" title=\"ArXiv\">arXiv</a>:<span class=\"plainlinks\"><a rel=\"nofollow\" class=\"external text\" href=\"//arxiv.org/abs/1605.05397\">1605.05397</a>&#8239;<img alt=\"Freely accessible\" src=\"//upload.wikimedia.org/wikipedia/commons/thumb/6/65/Lock-green.svg/9px-Lock-green.svg.png\" title=\"Freely accessible\" width=\"9\" height=\"14\" srcset=\"//upload.wikimedia.org/wikipedia/commons/thumb/6/65/Lock-green.svg/14px-Lock-green.svg.png 1.5x, //upload.wikimedia.org/wikipedia/commons/thumb/6/65/Lock-green.svg/18px-Lock-green.svg.png 2x\" data-file-width=\"512\" data-file-height=\"813\" /></span>. <a href=\"/wiki/Digital_object_identifier\" title=\"Digital object identifier\">doi</a>:<a rel=\"nofollow\" class=\"external text\" href=\"//doi.org/10.1177/0739456X16664789\">10.1177/0739456X16664789</a>.</cite><span title=\"ctx_ver=Z39.88-2004&amp;rft_val_fmt=info%3Aofi%2Ffmt%3Akev%3Amtx%3Ajournal&amp;rft.genre=article&amp;rft.jtitle=Journal+of+Planning+Education+and+Research&amp;rft.atitle=New+Insights+into+Rental+Housing+Markets+across+the+United+States%3A+Web+Scraping+and+Analyzing+Craigslist+Rental+Listings&amp;rft.issue=0739456X16664789&amp;rft.date=2016&amp;rft_id=info%3Aarxiv%2F1605.05397&amp;rft_id=info%3Adoi%2F10.1177%2F0739456X16664789&amp;rft.aulast=Boeing&amp;rft.aufirst=G.&amp;rft.au=Waddell%2C+P.&amp;rfr_id=info%3Asid%2Fen.wikipedia.org%3AWeb+scraping\" class=\"Z3988\"><span style=\"display:none;\">&#160;</span></span></span>\\n</li>\\n<li id=\"cite_note-2\"><span class=\"mw-cite-backlink\"><b><a href=\"#cite_ref-2\">^</a></b></span> <span class=\"reference-text\"><cite class=\"citation journal\">Vargiu &amp; Urru (2013). \"Exploiting web scraping in a collaborative filtering- based approach to web advertising\". <i>Artificial Intelligence Research</i>. <b>2</b> (1). <a href=\"/wiki/Digital_object_identifier\" title=\"Digital object identifier\">doi</a>:<a rel=\"nofollow\" class=\"external text\" href=\"//doi.org/10.5430/air.v2n1p44\">10.5430/air.v2n1p44</a>.</cite><span title=\"ctx_ver=Z39.88-2004&amp;rft_val_fmt=info%3Aofi%2Ffmt%3Akev%3Amtx%3Ajournal&amp;rft.genre=article&amp;rft.jtitle=Artificial+Intelligence+Research&amp;rft.atitle=Exploiting+web+scraping+in+a+collaborative+filtering-+based+approach+to+web+advertising&amp;rft.volume=2&amp;rft.issue=1&amp;rft.date=2013&amp;rft_id=info%3Adoi%2F10.5430%2Fair.v2n1p44&amp;rft.au=Vargiu+%26+Urru&amp;rfr_id=info%3Asid%2Fen.wikipedia.org%3AWeb+scraping\" class=\"Z3988\"><span style=\"display:none;\">&#160;</span></span></span>\\n</li>\\n<li id=\"cite_note-3\"><span class=\"mw-cite-backlink\"><b><a href=\"#cite_ref-3\">^</a></b></span> <span class=\"reference-text\"><cite class=\"citation journal\">Song, Ruihua; Microsoft Research (Sep 14, 2007). <a rel=\"nofollow\" class=\"external text\" href=\"https://pdfs.semanticscholar.org/4fb4/3c5a212df751e84c3b2f8d29fabfe56c3616.pdf\">\"Joint Optimization of Wrapper Generation and Template Detection\"</a> <span style=\"font-size:85%;\">(PDF)</span>. <i>The 13th International Conference on Knowledge Discovery and Data Mining</i>.</cite><span title=\"ctx_ver=Z39.88-2004&amp;rft_val_fmt=info%3Aofi%2Ffmt%3Akev%3Amtx%3Ajournal&amp;rft.genre=article&amp;rft.jtitle=The+13th+International+Conference+on+Knowledge+Discovery+and+Data+Mining&amp;rft.atitle=Joint+Optimization+of+Wrapper+Generation+and+Template+Detection&amp;rft.date=2007-09-14&amp;rft.aulast=Song&amp;rft.aufirst=Ruihua&amp;rft.au=Microsoft+Research&amp;rft_id=https%3A%2F%2Fpdfs.semanticscholar.org%2F4fb4%2F3c5a212df751e84c3b2f8d29fabfe56c3616.pdf&amp;rfr_id=info%3Asid%2Fen.wikipedia.org%3AWeb+scraping\" class=\"Z3988\"><span style=\"display:none;\">&#160;</span></span></span>\\n</li>\\n<li id=\"cite_note-4\"><span class=\"mw-cite-backlink\"><b><a href=\"#cite_ref-4\">^</a></b></span> <span class=\"reference-text\"><a rel=\"nofollow\" class=\"external text\" href=\"http://www.gooseeker.com/en/node/knowledgebase/freeformat\">Semantic annotation based web scraping</a></span>\\n</li>\\n<li id=\"cite_note-5\"><span class=\"mw-cite-backlink\"><b><a href=\"#cite_ref-5\">^</a></b></span> <span class=\"reference-text\"><cite class=\"citation web\">Roush, Wade (2012-07-25). <a rel=\"nofollow\" class=\"external text\" href=\"http://www.xconomy.com/san-francisco/2012/07/25/diffbot-is-using-computer-vision-to-reinvent-the-semantic-web/\">\"Diffbot Is Using Computer Vision to Reinvent the Semantic Web\"</a>. www.xconomy.com<span class=\"reference-accessdate\">. Retrieved <span class=\"nowrap\">2013-03-15</span></span>.</cite><span title=\"ctx_ver=Z39.88-2004&amp;rft_val_fmt=info%3Aofi%2Ffmt%3Akev%3Amtx%3Abook&amp;rft.genre=unknown&amp;rft.btitle=Diffbot+Is+Using+Computer+Vision+to+Reinvent+the+Semantic+Web&amp;rft.pub=www.xconomy.com&amp;rft.date=2012-07-25&amp;rft.aulast=Roush&amp;rft.aufirst=Wade&amp;rft_id=http%3A%2F%2Fwww.xconomy.com%2Fsan-francisco%2F2012%2F07%2F25%2Fdiffbot-is-using-computer-vision-to-reinvent-the-semantic-web%2F&amp;rfr_id=info%3Asid%2Fen.wikipedia.org%3AWeb+scraping\" class=\"Z3988\"><span style=\"display:none;\">&#160;</span></span></span>\\n</li>\\n<li id=\"cite_note-6\"><span class=\"mw-cite-backlink\"><b><a href=\"#cite_ref-6\">^</a></b></span> <span class=\"reference-text\"><cite class=\"citation web\"><a rel=\"nofollow\" class=\"external text\" href=\"https://web.archive.org/web/20020308222536/http://www.chillingeffects.org/linking/faq.cgi#QID596\">\"FAQ about linking&#160;\\xe2\\x80\\x93 Are website terms of use binding contracts?\"</a>. www.chillingeffects.org. 2007-08-20. Archived from <a rel=\"nofollow\" class=\"external text\" href=\"http://www.chillingeffects.org/linking/faq.cgi#QID596\">the original</a> on 2002-03-08<span class=\"reference-accessdate\">. Retrieved <span class=\"nowrap\">2007-08-20</span></span>.</cite><span title=\"ctx_ver=Z39.88-2004&amp;rft_val_fmt=info%3Aofi%2Ffmt%3Akev%3Amtx%3Abook&amp;rft.genre=unknown&amp;rft.btitle=FAQ+about+linking+%E2%80%93+Are+website+terms+of+use+binding+contracts%3F&amp;rft.pub=www.chillingeffects.org&amp;rft.date=2007-08-20&amp;rft_id=http%3A%2F%2Fwww.chillingeffects.org%2Flinking%2Ffaq.cgi%23QID596&amp;rfr_id=info%3Asid%2Fen.wikipedia.org%3AWeb+scraping\" class=\"Z3988\"><span style=\"display:none;\">&#160;</span></span></span>\\n</li>\\n<li id=\"cite_note-7\"><span class=\"mw-cite-backlink\"><b><a href=\"#cite_ref-7\">^</a></b></span> <span class=\"reference-text\"><cite class=\"citation journal\">Kenneth, Hirschey, Jeffrey (2014-01-01). <a rel=\"nofollow\" class=\"external text\" href=\"http://scholarship.law.berkeley.edu/btlj/vol29/iss4/16/\">\"Symbiotic Relationships: Pragmatic Acceptance of Data Scraping\"</a>. <i>Berkeley Technology Law Journal</i>. <b>29</b> (4). <a href=\"/wiki/Digital_object_identifier\" title=\"Digital object identifier\">doi</a>:<a rel=\"nofollow\" class=\"external text\" href=\"//doi.org/10.15779/Z38B39B\">10.15779/Z38B39B</a>. <a href=\"/wiki/International_Standard_Serial_Number\" title=\"International Standard Serial Number\">ISSN</a>&#160;<a rel=\"nofollow\" class=\"external text\" href=\"//www.worldcat.org/issn/1086-3818\">1086-3818</a>.</cite><span title=\"ctx_ver=Z39.88-2004&amp;rft_val_fmt=info%3Aofi%2Ffmt%3Akev%3Amtx%3Ajournal&amp;rft.genre=article&amp;rft.jtitle=Berkeley+Technology+Law+Journal&amp;rft.atitle=Symbiotic+Relationships%3A+Pragmatic+Acceptance+of+Data+Scraping&amp;rft.volume=29&amp;rft.issue=4&amp;rft.date=2014-01-01&amp;rft_id=info%3Adoi%2F10.15779%2FZ38B39B&amp;rft.issn=1086-3818&amp;rft.aulast=Kenneth&amp;rft.aufirst=Hirschey%2C+Jeffrey&amp;rft_id=http%3A%2F%2Fscholarship.law.berkeley.edu%2Fbtlj%2Fvol29%2Fiss4%2F16%2F&amp;rfr_id=info%3Asid%2Fen.wikipedia.org%3AWeb+scraping\" class=\"Z3988\"><span style=\"display:none;\">&#160;</span></span></span>\\n</li>\\n<li id=\"cite_note-8\"><span class=\"mw-cite-backlink\"><b><a href=\"#cite_ref-8\">^</a></b></span> <span class=\"reference-text\"><cite class=\"citation web\"><a rel=\"nofollow\" class=\"external text\" href=\"http://www.tomwbell.com/NetLaw/Ch06.html\">\"Internet Law, Ch. 06: Trespass to Chattels\"</a>. www.tomwbell.com. 2007-08-20<span class=\"reference-accessdate\">. Retrieved <span class=\"nowrap\">2007-08-20</span></span>.</cite><span title=\"ctx_ver=Z39.88-2004&amp;rft_val_fmt=info%3Aofi%2Ffmt%3Akev%3Amtx%3Abook&amp;rft.genre=unknown&amp;rft.btitle=Internet+Law%2C+Ch.+06%3A+Trespass+to+Chattels&amp;rft.pub=www.tomwbell.com&amp;rft.date=2007-08-20&amp;rft_id=http%3A%2F%2Fwww.tomwbell.com%2FNetLaw%2FCh06.html&amp;rfr_id=info%3Asid%2Fen.wikipedia.org%3AWeb+scraping\" class=\"Z3988\"><span style=\"display:none;\">&#160;</span></span></span>\\n</li>\\n<li id=\"cite_note-9\"><span class=\"mw-cite-backlink\"><b><a href=\"#cite_ref-9\">^</a></b></span> <span class=\"reference-text\"><cite class=\"citation web\"><a rel=\"nofollow\" class=\"external text\" href=\"https://web.archive.org/web/20020308222536/http://www.chillingeffects.org/linking/faq.cgi#QID460\">\"What are the \"trespass to chattels\" claims some companies or website owners have brought?\"</a>. www.chillingeffects.org. 2007-08-20. Archived from <a rel=\"nofollow\" class=\"external text\" href=\"http://www.chillingeffects.org/linking/faq.cgi#QID460\">the original</a> on 2002-03-08<span class=\"reference-accessdate\">. Retrieved <span class=\"nowrap\">2007-08-20</span></span>.</cite><span title=\"ctx_ver=Z39.88-2004&amp;rft_val_fmt=info%3Aofi%2Ffmt%3Akev%3Amtx%3Abook&amp;rft.genre=unknown&amp;rft.btitle=What+are+the+%22trespass+to+chattels%22+claims+some+companies+or+website+owners+have+brought%3F&amp;rft.pub=www.chillingeffects.org&amp;rft.date=2007-08-20&amp;rft_id=http%3A%2F%2Fwww.chillingeffects.org%2Flinking%2Ffaq.cgi%23QID460&amp;rfr_id=info%3Asid%2Fen.wikipedia.org%3AWeb+scraping\" class=\"Z3988\"><span style=\"display:none;\">&#160;</span></span></span>\\n</li>\\n<li id=\"cite_note-10\"><span class=\"mw-cite-backlink\"><b><a href=\"#cite_ref-10\">^</a></b></span> <span class=\"reference-text\"><cite class=\"citation web\"><a rel=\"nofollow\" class=\"external text\" href=\"http://www.tomwbell.com/NetLaw/Ch07/Ticketmaster.html\">\"Ticketmaster Corp. v. Tickets.com, Inc.\"</a> 2007-08-20<span class=\"reference-accessdate\">. Retrieved <span class=\"nowrap\">2007-08-20</span></span>.</cite><span title=\"ctx_ver=Z39.88-2004&amp;rft_val_fmt=info%3Aofi%2Ffmt%3Akev%3Amtx%3Abook&amp;rft.genre=unknown&amp;rft.btitle=Ticketmaster+Corp.+v.+Tickets.com%2C+Inc.&amp;rft.date=2007-08-20&amp;rft_id=http%3A%2F%2Fwww.tomwbell.com%2FNetLaw%2FCh07%2FTicketmaster.html&amp;rfr_id=info%3Asid%2Fen.wikipedia.org%3AWeb+scraping\" class=\"Z3988\"><span style=\"display:none;\">&#160;</span></span></span>\\n</li>\\n<li id=\"cite_note-11\"><span class=\"mw-cite-backlink\"><b><a href=\"#cite_ref-11\">^</a></b></span> <span class=\"reference-text\"><cite class=\"citation web\"><a rel=\"nofollow\" class=\"external text\" href=\"https://web.archive.org/web/20110723131832/http://www.fornova.net/documents/AAFareChase.pdf\">\"American Airlines v. FareChase\"</a> <span style=\"font-size:85%;\">(PDF)</span>. 2007-08-20. Archived from <a rel=\"nofollow\" class=\"external text\" href=\"http://www.fornova.net/documents/AAFareChase.pdf\">the original</a> <span style=\"font-size:85%;\">(PDF)</span> on 2011-07-23<span class=\"reference-accessdate\">. Retrieved <span class=\"nowrap\">2007-08-20</span></span>.</cite><span title=\"ctx_ver=Z39.88-2004&amp;rft_val_fmt=info%3Aofi%2Ffmt%3Akev%3Amtx%3Abook&amp;rft.genre=unknown&amp;rft.btitle=American+Airlines+v.+FareChase&amp;rft.date=2007-08-20&amp;rft_id=http%3A%2F%2Fwww.fornova.net%2Fdocuments%2FAAFareChase.pdf&amp;rfr_id=info%3Asid%2Fen.wikipedia.org%3AWeb+scraping\" class=\"Z3988\"><span style=\"display:none;\">&#160;</span></span></span>\\n</li>\\n<li id=\"cite_note-12\"><span class=\"mw-cite-backlink\"><b><a href=\"#cite_ref-12\">^</a></b></span> <span class=\"reference-text\"><cite class=\"citation web\"><a rel=\"nofollow\" class=\"external text\" href=\"http://www.thefreelibrary.com/American+Airlines,+FareChase+Settle+Suit.-a0103213546\">\"American Airlines, FareChase Settle Suit\"</a>. The Free Library. 2003-06-13<span class=\"reference-accessdate\">. Retrieved <span class=\"nowrap\">2012-02-26</span></span>.</cite><span title=\"ctx_ver=Z39.88-2004&amp;rft_val_fmt=info%3Aofi%2Ffmt%3Akev%3Amtx%3Abook&amp;rft.genre=unknown&amp;rft.btitle=American+Airlines%2C+FareChase+Settle+Suit.&amp;rft.pub=The+Free+Library&amp;rft.date=2003-06-13&amp;rft_id=http%3A%2F%2Fwww.thefreelibrary.com%2FAmerican%2BAirlines%2C%2BFareChase%2BSettle%2BSuit.-a0103213546&amp;rfr_id=info%3Asid%2Fen.wikipedia.org%3AWeb+scraping\" class=\"Z3988\"><span style=\"display:none;\">&#160;</span></span></span>\\n</li>\\n<li id=\"cite_note-impervawp2011-13\"><span class=\"mw-cite-backlink\"><b><a href=\"#cite_ref-impervawp2011_13-0\">^</a></b></span> <span class=\"reference-text\">Imperva (2011). <a rel=\"nofollow\" class=\"external text\" href=\"http://www.imperva.com/docs/WP_Detecting_and_Blocking_Site_Scraping_Attacks.pdf\">Detecting and Blocking Site Scraping Attacks</a>. Imperva white paper..</span>\\n</li>\\n<li id=\"cite_note-14\"><span class=\"mw-cite-backlink\"><b><a href=\"#cite_ref-14\">^</a></b></span> <span class=\"reference-text\"><cite class=\"citation web\">Adler, Kenneth A. (2003-07-29). <a rel=\"nofollow\" class=\"external text\" href=\"http://library.findlaw.com/2003/Jul/29/132944.html\">\"Controversy Surrounds \\'Screen Scrapers\\': Software Helps Users Access Web Sites But Activity by Competitors Comes Under Scrutiny\"</a><span class=\"reference-accessdate\">. Retrieved <span class=\"nowrap\">2010-10-27</span></span>.</cite><span title=\"ctx_ver=Z39.88-2004&amp;rft_val_fmt=info%3Aofi%2Ffmt%3Akev%3Amtx%3Abook&amp;rft.genre=unknown&amp;rft.btitle=Controversy+Surrounds+%27Screen+Scrapers%27%3A+Software+Helps+Users+Access+Web+Sites+But+Activity+by+Competitors+Comes+Under+Scrutiny&amp;rft.date=2003-07-29&amp;rft.aulast=Adler&amp;rft.aufirst=Kenneth+A.&amp;rft_id=http%3A%2F%2Flibrary.findlaw.com%2F2003%2FJul%2F29%2F132944.html&amp;rfr_id=info%3Asid%2Fen.wikipedia.org%3AWeb+scraping\" class=\"Z3988\"><span style=\"display:none;\">&#160;</span></span></span>\\n</li>\\n<li id=\"cite_note-15\"><span class=\"mw-cite-backlink\"><b><a href=\"#cite_ref-15\">^</a></b></span> <span class=\"reference-text\"><cite class=\"citation web\"><a rel=\"nofollow\" class=\"external text\" href=\"http://www.fornova.net/documents/Cvent.pdf\">\"QVC Inc. v. Resultly LLC, No. 14-06714 (E.D. Pa. filed Nov. 24, 2014)\"</a> <span style=\"font-size:85%;\">(PDF)</span>. 2014-11-24<span class=\"reference-accessdate\">. Retrieved <span class=\"nowrap\">2015-11-05</span></span>.</cite><span title=\"ctx_ver=Z39.88-2004&amp;rft_val_fmt=info%3Aofi%2Ffmt%3Akev%3Amtx%3Abook&amp;rft.genre=unknown&amp;rft.btitle=QVC+Inc.+v.+Resultly+LLC%2C+No.+14-06714+%28E.D.+Pa.+filed+Nov.+24%2C+2014%29&amp;rft.date=2014-11-24&amp;rft_id=http%3A%2F%2Fwww.fornova.net%2Fdocuments%2FCvent.pdf&amp;rfr_id=info%3Asid%2Fen.wikipedia.org%3AWeb+scraping\" class=\"Z3988\"><span style=\"display:none;\">&#160;</span></span></span>\\n</li>\\n<li id=\"cite_note-16\"><span class=\"mw-cite-backlink\"><b><a href=\"#cite_ref-16\">^</a></b></span> <span class=\"reference-text\"><cite class=\"citation web\"><a rel=\"nofollow\" class=\"external text\" href=\"https://www.scribd.com/doc/249068700/LinkedIn-v-Resultly-LLC-Complaint?secret_password=pEVKDbnvhQL52oKfdrmT\">\"QVC Inc. v. Resultly LLC, No. 14-06714 (E.D. Pa. filed Nov. 24, 2014)\"</a>. <i>United States District Court for the Eastern District of Pennsylvania</i><span class=\"reference-accessdate\">. Retrieved <span class=\"nowrap\">5 November</span> 2015</span>.</cite><span title=\"ctx_ver=Z39.88-2004&amp;rft_val_fmt=info%3Aofi%2Ffmt%3Akev%3Amtx%3Ajournal&amp;rft.genre=unknown&amp;rft.jtitle=United+States+District+Court+for+the+Eastern+District+of+Pennsylvania&amp;rft.atitle=QVC+Inc.+v.+Resultly+LLC%2C+No.+14-06714+%28E.D.+Pa.+filed+Nov.+24%2C+2014%29&amp;rft_id=https%3A%2F%2Fwww.scribd.com%2Fdoc%2F249068700%2FLinkedIn-v-Resultly-LLC-Complaint%3Fsecret_password%3DpEVKDbnvhQL52oKfdrmT&amp;rfr_id=info%3Asid%2Fen.wikipedia.org%3AWeb+scraping\" class=\"Z3988\"><span style=\"display:none;\">&#160;</span></span></span>\\n</li>\\n<li id=\"cite_note-17\"><span class=\"mw-cite-backlink\"><b><a href=\"#cite_ref-17\">^</a></b></span> <span class=\"reference-text\"><cite class=\"citation journal\">Neuburger, Jeffrey D (5 December 2014). <a rel=\"nofollow\" class=\"external text\" href=\"http://newmedialaw.proskauer.com/2014/12/05/qvc-sues-shopping-app-for-web-scraping-that-allegedly-triggered-site-outage/\">\"QVC Sues Shopping App for Web Scraping That Allegedly Triggered Site Outage\"</a>. <i>The National Law Review</i>. Proskauer Rose LLP<span class=\"reference-accessdate\">. Retrieved <span class=\"nowrap\">5 November</span> 2015</span>.</cite><span title=\"ctx_ver=Z39.88-2004&amp;rft_val_fmt=info%3Aofi%2Ffmt%3Akev%3Amtx%3Ajournal&amp;rft.genre=article&amp;rft.jtitle=The+National+Law+Review&amp;rft.atitle=QVC+Sues+Shopping+App+for+Web+Scraping+That+Allegedly+Triggered+Site+Outage&amp;rft.date=2014-12-05&amp;rft.aulast=Neuburger&amp;rft.aufirst=Jeffrey+D&amp;rft_id=http%3A%2F%2Fnewmedialaw.proskauer.com%2F2014%2F12%2F05%2Fqvc-sues-shopping-app-for-web-scraping-that-allegedly-triggered-site-outage%2F&amp;rfr_id=info%3Asid%2Fen.wikipedia.org%3AWeb+scraping\" class=\"Z3988\"><span style=\"display:none;\">&#160;</span></span></span>\\n</li>\\n<li id=\"cite_note-18\"><span class=\"mw-cite-backlink\"><b><a href=\"#cite_ref-18\">^</a></b></span> <span class=\"reference-text\"><cite class=\"citation web\"><a rel=\"nofollow\" class=\"external text\" href=\"http://www.fornova.net/documents/pblog-bna-com.pdf\">\"Did Iqbal/Twombly Raise the Bar for Browsewrap Claims?\"</a> <span style=\"font-size:85%;\">(PDF)</span>. 2010-09-17<span class=\"reference-accessdate\">. Retrieved <span class=\"nowrap\">2010-10-27</span></span>.</cite><span title=\"ctx_ver=Z39.88-2004&amp;rft_val_fmt=info%3Aofi%2Ffmt%3Akev%3Amtx%3Abook&amp;rft.genre=unknown&amp;rft.btitle=Did+Iqbal%2FTwombly+Raise+the+Bar+for+Browsewrap+Claims%3F&amp;rft.date=2010-09-17&amp;rft_id=http%3A%2F%2Fwww.fornova.net%2Fdocuments%2Fpblog-bna-com.pdf&amp;rfr_id=info%3Asid%2Fen.wikipedia.org%3AWeb+scraping\" class=\"Z3988\"><span style=\"display:none;\">&#160;</span></span></span>\\n</li>\\n<li id=\"cite_note-19\"><span class=\"mw-cite-backlink\"><b><a href=\"#cite_ref-19\">^</a></b></span> <span class=\"reference-text\"><cite class=\"citation web\"><a rel=\"nofollow\" class=\"external text\" href=\"https://www.techdirt.com/articles/20090605/2228205147.shtml\">\"Can Scraping Non-Infringing Content Become Copyright Infringement... Because Of How Scrapers Work? | Techdirt\"</a>. <i>Techdirt</i>. 2009-06-10<span class=\"reference-accessdate\">. Retrieved <span class=\"nowrap\">2016-05-24</span></span>.</cite><span title=\"ctx_ver=Z39.88-2004&amp;rft_val_fmt=info%3Aofi%2Ffmt%3Akev%3Amtx%3Ajournal&amp;rft.genre=unknown&amp;rft.jtitle=Techdirt.&amp;rft.atitle=Can+Scraping+Non-Infringing+Content+Become+Copyright+Infringement...+Because+Of+How+Scrapers+Work%3F+%7C+Techdirt&amp;rft.date=2009-06-10&amp;rft_id=https%3A%2F%2Fwww.techdirt.com%2Farticles%2F20090605%2F2228205147.shtml&amp;rfr_id=info%3Asid%2Fen.wikipedia.org%3AWeb+scraping\" class=\"Z3988\"><span style=\"display:none;\">&#160;</span></span></span>\\n</li>\\n<li id=\"cite_note-20\"><span class=\"mw-cite-backlink\"><b><a href=\"#cite_ref-20\">^</a></b></span> <span class=\"reference-text\"><cite class=\"citation web\"><a rel=\"nofollow\" class=\"external text\" href=\"https://www.eff.org/cases/facebook-v-power-ventures\">\"Facebook v. Power Ventures\"</a>. <i>Electronic Frontier Foundation</i><span class=\"reference-accessdate\">. Retrieved <span class=\"nowrap\">2016-05-24</span></span>.</cite><span title=\"ctx_ver=Z39.88-2004&amp;rft_val_fmt=info%3Aofi%2Ffmt%3Akev%3Amtx%3Ajournal&amp;rft.genre=unknown&amp;rft.jtitle=Electronic+Frontier+Foundation&amp;rft.atitle=Facebook+v.+Power+Ventures&amp;rft_id=https%3A%2F%2Fwww.eff.org%2Fcases%2Ffacebook-v-power-ventures&amp;rfr_id=info%3Asid%2Fen.wikipedia.org%3AWeb+scraping\" class=\"Z3988\"><span style=\"display:none;\">&#160;</span></span></span>\\n</li>\\n<li id=\"cite_note-21\"><span class=\"mw-cite-backlink\"><b><a href=\"#cite_ref-21\">^</a></b></span> <span class=\"reference-text\"><cite class=\"citation web\"><a rel=\"nofollow\" class=\"external text\" href=\"https://web.archive.org/web/20071012005033/http://www.bvhd.dk/uploads/tx_mocarticles/S_-_og_Handelsrettens_afg_relse_i_Ofir-sagen.pdf\">\"UDSKRIFT AF S\\xc3\\x98- &amp; HANDELSRETTENS DOMBOG\"</a> <span style=\"font-size:85%;\">(PDF)</span> (in Danish). bvhd.dk. 2006-02-24. Archived from <a rel=\"nofollow\" class=\"external text\" href=\"http://www.bvhd.dk/uploads/tx_mocarticles/S_-_og_Handelsrettens_afg_relse_i_Ofir-sagen.pdf\">the original</a> <span style=\"font-size:85%;\">(PDF)</span> on 2007-10-12<span class=\"reference-accessdate\">. Retrieved <span class=\"nowrap\">2007-05-30</span></span>.</cite><span title=\"ctx_ver=Z39.88-2004&amp;rft_val_fmt=info%3Aofi%2Ffmt%3Akev%3Amtx%3Abook&amp;rft.genre=unknown&amp;rft.btitle=UDSKRIFT+AF+S%C3%98-+%26+HANDELSRETTENS+DOMBOG&amp;rft.pub=bvhd.dk&amp;rft.date=2006-02-24&amp;rft_id=http%3A%2F%2Fwww.bvhd.dk%2Fuploads%2Ftx_mocarticles%2FS_-_og_Handelsrettens_afg_relse_i_Ofir-sagen.pdf&amp;rfr_id=info%3Asid%2Fen.wikipedia.org%3AWeb+scraping\" class=\"Z3988\"><span style=\"display:none;\">&#160;</span></span></span>\\n</li>\\n<li id=\"cite_note-22\"><span class=\"mw-cite-backlink\"><b><a href=\"#cite_ref-22\">^</a></b></span> <span class=\"reference-text\"><cite class=\"citation web\"><a rel=\"nofollow\" class=\"external text\" href=\"http://www.bailii.org/ie/cases/IEHC/2010/H47.html\">\"High Court of Ireland Decisions &gt;&gt; Ryanair Ltd -v- Billigfluege.de GMBH 2010 IEHC 47 (26 February 2010)\"</a>. British and Irish Legal Information Institute. 2010-02-26<span class=\"reference-accessdate\">. Retrieved <span class=\"nowrap\">2012-04-19</span></span>.</cite><span title=\"ctx_ver=Z39.88-2004&amp;rft_val_fmt=info%3Aofi%2Ffmt%3Akev%3Amtx%3Abook&amp;rft.genre=unknown&amp;rft.btitle=High+Court+of+Ireland+Decisions+%3E%3E+Ryanair+Ltd+-v-+Billigfluege.de+GMBH+2010+IEHC+47+%2826+February+2010%29&amp;rft.pub=British+and+Irish+Legal+Information+Institute&amp;rft.date=2010-02-26&amp;rft_id=http%3A%2F%2Fwww.bailii.org%2Fie%2Fcases%2FIEHC%2F2010%2FH47.html&amp;rfr_id=info%3Asid%2Fen.wikipedia.org%3AWeb+scraping\" class=\"Z3988\"><span style=\"display:none;\">&#160;</span></span></span>\\n</li>\\n<li id=\"cite_note-23\"><span class=\"mw-cite-backlink\"><b><a href=\"#cite_ref-23\">^</a></b></span> <span class=\"reference-text\"><cite class=\"citation web\">Matthews, \\xc3\\x81ine (June 2010). <a rel=\"nofollow\" class=\"external text\" href=\"http://www.lkshields.ie/htmdocs/publications/newsletters/update26/update26_03.htm\">\"Intellectual Property: Website Terms of Use\"</a>. <i>Issue 26: June 2010</i>. LK Shields Solicitors Update. p.&#160;03<span class=\"reference-accessdate\">. Retrieved <span class=\"nowrap\">2012-04-19</span></span>.</cite><span title=\"ctx_ver=Z39.88-2004&amp;rft_val_fmt=info%3Aofi%2Ffmt%3Akev%3Amtx%3Ajournal&amp;rft.genre=unknown&amp;rft.jtitle=Issue+26%3A+June+2010&amp;rft.atitle=Intellectual+Property%3A+Website+Terms+of+Use&amp;rft.pages=03&amp;rft.date=2010-06&amp;rft.aulast=Matthews&amp;rft.aufirst=%C3%81ine&amp;rft_id=http%3A%2F%2Fwww.lkshields.ie%2Fhtmdocs%2Fpublications%2Fnewsletters%2Fupdate26%2Fupdate26_03.htm&amp;rfr_id=info%3Asid%2Fen.wikipedia.org%3AWeb+scraping\" class=\"Z3988\"><span style=\"display:none;\">&#160;</span></span></span>\\n</li>\\n<li id=\"cite_note-24\"><span class=\"mw-cite-backlink\"><b><a href=\"#cite_ref-24\">^</a></b></span> <span class=\"reference-text\"><cite class=\"citation web\">National Office for the Information Economy (February 2004). <a rel=\"nofollow\" class=\"external text\" href=\"https://www.lloyds.com/~/media/5880dae185914b2487bed7bd63b96286.ashx\">\"Spam Act 2003: An overview for business\"</a>. Australian Communications Authority. p.&#160;6<span class=\"reference-accessdate\">. Retrieved <span class=\"nowrap\">2017-12-07</span></span>.</cite><span title=\"ctx_ver=Z39.88-2004&amp;rft_val_fmt=info%3Aofi%2Ffmt%3Akev%3Amtx%3Abook&amp;rft.genre=unknown&amp;rft.btitle=Spam+Act+2003%3A+An+overview+for+business&amp;rft.pages=6&amp;rft.pub=Australian+Communications+Authority&amp;rft.date=2004-02&amp;rft.au=National+Office+for+the+Information+Economy&amp;rft_id=https%3A%2F%2Fwww.lloyds.com%2F~%2Fmedia%2F5880dae185914b2487bed7bd63b96286.ashx&amp;rfr_id=info%3Asid%2Fen.wikipedia.org%3AWeb+scraping\" class=\"Z3988\"><span style=\"display:none;\">&#160;</span></span></span>\\n</li>\\n<li id=\"cite_note-25\"><span class=\"mw-cite-backlink\"><b><a href=\"#cite_ref-25\">^</a></b></span> <span class=\"reference-text\"><cite class=\"citation web\">National Office for the Information Economy (February 2004). <a rel=\"nofollow\" class=\"external text\" href=\"http://www.webstartdesign.com.au/spam_business_practical_guide.pdf\">\"Spam Act 2003: A practical guide for business\"</a> <span style=\"font-size:85%;\">(PDF)</span>. Australian Communications Authority. p.&#160;20<span class=\"reference-accessdate\">. Retrieved <span class=\"nowrap\">2017-12-07</span></span>.</cite><span title=\"ctx_ver=Z39.88-2004&amp;rft_val_fmt=info%3Aofi%2Ffmt%3Akev%3Amtx%3Abook&amp;rft.genre=unknown&amp;rft.btitle=Spam+Act+2003%3A+A+practical+guide+for+business&amp;rft.pages=20&amp;rft.pub=Australian+Communications+Authority&amp;rft.date=2004-02&amp;rft.au=National+Office+for+the+Information+Economy&amp;rft_id=http%3A%2F%2Fwww.webstartdesign.com.au%2Fspam_business_practical_guide.pdf&amp;rfr_id=info%3Asid%2Fen.wikipedia.org%3AWeb+scraping\" class=\"Z3988\"><span style=\"display:none;\">&#160;</span></span></span>\\n</li>\\n<li id=\"cite_note-26\"><span class=\"mw-cite-backlink\"><b><a href=\"#cite_ref-26\">^</a></b></span> <span class=\"reference-text\">Mayank Dhiman <a rel=\"nofollow\" class=\"external text\" href=\"https://s3.us-west-2.amazonaws.com/research-papers-mynk/Breaking-Fraud-And-Bot-Detection-Solutions.pdf\">Breaking Fraud &amp; Bot Detection Solutions</a> <i>OWASP AppSec Cali\\' 2018</i> Retrieved February 10, 2018.</span>\\n</li>\\n</ol></div>\\n\\n<!-- \\nNewPP limit report\\nParsed by mw1245\\nCached time: 20180911185947\\nCache expiry: 1900800\\nDynamic content: false\\nCPU time usage: 0.280 seconds\\nReal time usage: 0.342 seconds\\nPreprocessor visited node count: 1645/1000000\\nPreprocessor generated node count: 0/1500000\\nPost\\xe2\\x80\\x90expand include size: 54331/2097152 bytes\\nTemplate argument size: 693/2097152 bytes\\nHighest expansion depth: 15/40\\nExpensive parser function count: 4/500\\nUnstrip recursion depth: 0/20\\nUnstrip post\\xe2\\x80\\x90expand size: 28171/5000000 bytes\\nNumber of Wikibase entities loaded: 0/400\\nLua time usage: 0.129/10.000 seconds\\nLua memory usage: 4.46 MB/50 MB\\n-->\\n<!--\\nTransclusion expansion time report (%,ms,calls,template)\\n100.00%  269.476      1 -total\\n 57.16%  154.030      1 Template:Reflist\\n 28.35%   76.387     18 Template:Cite_web\\n 17.23%   46.432      5 Template:Cite_journal\\n 14.68%   39.565      1 Template:More_citations_needed\\n 13.44%   36.206      3 Template:Ambox\\n  8.91%   24.000      1 Template:Split_section\\n  7.75%   20.895      1 Template:Split_portions\\n  4.04%   10.893      1 Template:DMCA\\n  3.94%   10.605      1 Template:US-centric\\n-->\\n\\n<!-- Saved in parser cache with key enwiki:pcache:idhash:2696619-0!canonical and timestamp 20180911185947 and revision id 857079391\\n -->\\n</div><noscript><img src=\"//en.wikipedia.org/wiki/Special:CentralAutoLogin/start?type=1x1\" alt=\"\" title=\"\" width=\"1\" height=\"1\" style=\"border: none; position: absolute;\" /></noscript></div>\\t\\t\\t\\t\\t<div class=\"printfooter\">\\n\\t\\t\\t\\t\\t\\tRetrieved from \"<a dir=\"ltr\" href=\"https://en.wikipedia.org/w/index.php?title=Web_scraping&amp;oldid=857079391\">https://en.wikipedia.org/w/index.php?title=Web_scraping&amp;oldid=857079391</a>\"\\t\\t\\t\\t\\t</div>\\n\\t\\t\\t\\t<div id=\"catlinks\" class=\"catlinks\" data-mw=\"interface\"><div id=\"mw-normal-catlinks\" class=\"mw-normal-catlinks\"><a href=\"/wiki/Help:Category\" title=\"Help:Category\">Categories</a>: <ul><li><a href=\"/wiki/Category:Web_scraping\" title=\"Category:Web scraping\">Web scraping</a></li></ul></div><div id=\"mw-hidden-catlinks\" class=\"mw-hidden-catlinks mw-hidden-cats-hidden\">Hidden categories: <ul><li><a href=\"/wiki/Category:CS1_Danish-language_sources_(da)\" title=\"Category:CS1 Danish-language sources (da)\">CS1 Danish-language sources (da)</a></li><li><a href=\"/wiki/Category:Articles_needing_additional_references_from_June_2017\" title=\"Category:Articles needing additional references from June 2017\">Articles needing additional references from June 2017</a></li><li><a href=\"/wiki/Category:All_articles_needing_additional_references\" title=\"Category:All articles needing additional references\">All articles needing additional references</a></li><li><a href=\"/wiki/Category:Articles_with_limited_geographic_scope_from_October_2015\" title=\"Category:Articles with limited geographic scope from October 2015\">Articles with limited geographic scope from October 2015</a></li><li><a href=\"/wiki/Category:USA-centric\" title=\"Category:USA-centric\">USA-centric</a></li><li><a href=\"/wiki/Category:Articles_to_be_split_from_July_2018\" title=\"Category:Articles to be split from July 2018\">Articles to be split from July 2018</a></li><li><a href=\"/wiki/Category:All_articles_to_be_split\" title=\"Category:All articles to be split\">All articles to be split</a></li></ul></div></div>\\t\\t\\t\\t<div class=\"visualClear\"></div>\\n\\t\\t\\t\\t\\t\\t\\t</div>\\n\\t\\t</div>\\n\\t\\t<div id=\"mw-navigation\">\\n\\t\\t\\t<h2>Navigation menu</h2>\\n\\t\\t\\t<div id=\"mw-head\">\\n\\t\\t\\t\\t\\t\\t\\t\\t\\t<div id=\"p-personal\" role=\"navigation\" class=\"\" aria-labelledby=\"p-personal-label\">\\n\\t\\t\\t\\t\\t\\t<h3 id=\"p-personal-label\">Personal tools</h3>\\n\\t\\t\\t\\t\\t\\t<ul>\\n\\t\\t\\t\\t\\t\\t\\t<li id=\"pt-anonuserpage\">Not logged in</li><li id=\"pt-anontalk\"><a href=\"/wiki/Special:MyTalk\" title=\"Discussion about edits from this IP address [n]\" accesskey=\"n\">Talk</a></li><li id=\"pt-anoncontribs\"><a href=\"/wiki/Special:MyContributions\" title=\"A list of edits made from this IP address [y]\" accesskey=\"y\">Contributions</a></li><li id=\"pt-createaccount\"><a href=\"/w/index.php?title=Special:CreateAccount&amp;returnto=Web+scraping\" title=\"You are encouraged to create an account and log in; however, it is not mandatory\">Create account</a></li><li id=\"pt-login\"><a href=\"/w/index.php?title=Special:UserLogin&amp;returnto=Web+scraping\" title=\"You&#039;re encouraged to log in; however, it&#039;s not mandatory. [o]\" accesskey=\"o\">Log in</a></li>\\t\\t\\t\\t\\t\\t</ul>\\n\\t\\t\\t\\t\\t</div>\\n\\t\\t\\t\\t\\t\\t\\t\\t\\t<div id=\"left-navigation\">\\n\\t\\t\\t\\t\\t\\t\\t\\t\\t\\t<div id=\"p-namespaces\" role=\"navigation\" class=\"vectorTabs\" aria-labelledby=\"p-namespaces-label\">\\n\\t\\t\\t\\t\\t\\t<h3 id=\"p-namespaces-label\">Namespaces</h3>\\n\\t\\t\\t\\t\\t\\t<ul>\\n\\t\\t\\t\\t\\t\\t\\t<li id=\"ca-nstab-main\" class=\"selected\"><span><a href=\"/wiki/Web_scraping\" title=\"View the content page [c]\" accesskey=\"c\">Article</a></span></li><li id=\"ca-talk\"><span><a href=\"/wiki/Talk:Web_scraping\" rel=\"discussion\" title=\"Discussion about the content page [t]\" accesskey=\"t\">Talk</a></span></li>\\t\\t\\t\\t\\t\\t</ul>\\n\\t\\t\\t\\t\\t</div>\\n\\t\\t\\t\\t\\t\\t\\t\\t\\t\\t<div id=\"p-variants\" role=\"navigation\" class=\"vectorMenu emptyPortlet\" aria-labelledby=\"p-variants-label\">\\n\\t\\t\\t\\t\\t\\t\\t\\t\\t\\t\\t\\t<input type=\"checkbox\" class=\"vectorMenuCheckbox\" aria-labelledby=\"p-variants-label\" />\\n\\t\\t\\t\\t\\t\\t<h3 id=\"p-variants-label\">\\n\\t\\t\\t\\t\\t\\t\\t<span>Variants</span>\\n\\t\\t\\t\\t\\t\\t</h3>\\n\\t\\t\\t\\t\\t\\t<div class=\"menu\">\\n\\t\\t\\t\\t\\t\\t\\t<ul>\\n\\t\\t\\t\\t\\t\\t\\t\\t\\t\\t\\t\\t\\t\\t\\t</ul>\\n\\t\\t\\t\\t\\t\\t</div>\\n\\t\\t\\t\\t\\t</div>\\n\\t\\t\\t\\t\\t\\t\\t\\t\\t</div>\\n\\t\\t\\t\\t<div id=\"right-navigation\">\\n\\t\\t\\t\\t\\t\\t\\t\\t\\t\\t<div id=\"p-views\" role=\"navigation\" class=\"vectorTabs\" aria-labelledby=\"p-views-label\">\\n\\t\\t\\t\\t\\t\\t<h3 id=\"p-views-label\">Views</h3>\\n\\t\\t\\t\\t\\t\\t<ul>\\n\\t\\t\\t\\t\\t\\t\\t<li id=\"ca-view\" class=\"collapsible selected\"><span><a href=\"/wiki/Web_scraping\">Read</a></span></li><li id=\"ca-edit\" class=\"collapsible\"><span><a href=\"/w/index.php?title=Web_scraping&amp;action=edit\" title=\"Edit this page [e]\" accesskey=\"e\">Edit</a></span></li><li id=\"ca-history\" class=\"collapsible\"><span><a href=\"/w/index.php?title=Web_scraping&amp;action=history\" title=\"Past revisions of this page [h]\" accesskey=\"h\">View history</a></span></li>\\t\\t\\t\\t\\t\\t</ul>\\n\\t\\t\\t\\t\\t</div>\\n\\t\\t\\t\\t\\t\\t\\t\\t\\t\\t<div id=\"p-cactions\" role=\"navigation\" class=\"vectorMenu emptyPortlet\" aria-labelledby=\"p-cactions-label\">\\n\\t\\t\\t\\t\\t\\t<input type=\"checkbox\" class=\"vectorMenuCheckbox\" aria-labelledby=\"p-cactions-label\" />\\n\\t\\t\\t\\t\\t\\t<h3 id=\"p-cactions-label\"><span>More</span></h3>\\n\\t\\t\\t\\t\\t\\t<div class=\"menu\">\\n\\t\\t\\t\\t\\t\\t\\t<ul>\\n\\t\\t\\t\\t\\t\\t\\t\\t\\t\\t\\t\\t\\t\\t\\t</ul>\\n\\t\\t\\t\\t\\t\\t</div>\\n\\t\\t\\t\\t\\t</div>\\n\\t\\t\\t\\t\\t\\t\\t\\t\\t\\t<div id=\"p-search\" role=\"search\">\\n\\t\\t\\t\\t\\t\\t<h3>\\n\\t\\t\\t\\t\\t\\t\\t<label for=\"searchInput\">Search</label>\\n\\t\\t\\t\\t\\t\\t</h3>\\n\\t\\t\\t\\t\\t\\t<form action=\"/w/index.php\" id=\"searchform\">\\n\\t\\t\\t\\t\\t\\t\\t<div id=\"simpleSearch\">\\n\\t\\t\\t\\t\\t\\t\\t\\t<input type=\"search\" name=\"search\" placeholder=\"Search Wikipedia\" title=\"Search Wikipedia [f]\" accesskey=\"f\" id=\"searchInput\"/><input type=\"hidden\" value=\"Special:Search\" name=\"title\"/><input type=\"submit\" name=\"fulltext\" value=\"Search\" title=\"Search Wikipedia for this text\" id=\"mw-searchButton\" class=\"searchButton mw-fallbackSearchButton\"/><input type=\"submit\" name=\"go\" value=\"Go\" title=\"Go to a page with this exact name if it exists\" id=\"searchButton\" class=\"searchButton\"/>\\t\\t\\t\\t\\t\\t\\t</div>\\n\\t\\t\\t\\t\\t\\t</form>\\n\\t\\t\\t\\t\\t</div>\\n\\t\\t\\t\\t\\t\\t\\t\\t\\t</div>\\n\\t\\t\\t</div>\\n\\t\\t\\t<div id=\"mw-panel\">\\n\\t\\t\\t\\t<div id=\"p-logo\" role=\"banner\"><a class=\"mw-wiki-logo\" href=\"/wiki/Main_Page\"  title=\"Visit the main page\"></a></div>\\n\\t\\t\\t\\t\\t\\t<div class=\"portal\" role=\"navigation\" id=\"p-navigation\" aria-labelledby=\"p-navigation-label\">\\n\\t\\t\\t<h3 id=\"p-navigation-label\">Navigation</h3>\\n\\t\\t\\t<div class=\"body\">\\n\\t\\t\\t\\t\\t\\t\\t\\t<ul>\\n\\t\\t\\t\\t\\t<li id=\"n-mainpage-description\"><a href=\"/wiki/Main_Page\" title=\"Visit the main page [z]\" accesskey=\"z\">Main page</a></li><li id=\"n-contents\"><a href=\"/wiki/Portal:Contents\" title=\"Guides to browsing Wikipedia\">Contents</a></li><li id=\"n-featuredcontent\"><a href=\"/wiki/Portal:Featured_content\" title=\"Featured content \\xe2\\x80\\x93 the best of Wikipedia\">Featured content</a></li><li id=\"n-currentevents\"><a href=\"/wiki/Portal:Current_events\" title=\"Find background information on current events\">Current events</a></li><li id=\"n-randompage\"><a href=\"/wiki/Special:Random\" title=\"Load a random article [x]\" accesskey=\"x\">Random article</a></li><li id=\"n-sitesupport\"><a href=\"https://donate.wikimedia.org/wiki/Special:FundraiserRedirector?utm_source=donate&amp;utm_medium=sidebar&amp;utm_campaign=C13_en.wikipedia.org&amp;uselang=en\" title=\"Support us\">Donate to Wikipedia</a></li><li id=\"n-shoplink\"><a href=\"//shop.wikimedia.org\" title=\"Visit the Wikipedia store\">Wikipedia store</a></li>\\t\\t\\t\\t</ul>\\n\\t\\t\\t\\t\\t\\t\\t</div>\\n\\t\\t</div>\\n\\t\\t\\t<div class=\"portal\" role=\"navigation\" id=\"p-interaction\" aria-labelledby=\"p-interaction-label\">\\n\\t\\t\\t<h3 id=\"p-interaction-label\">Interaction</h3>\\n\\t\\t\\t<div class=\"body\">\\n\\t\\t\\t\\t\\t\\t\\t\\t<ul>\\n\\t\\t\\t\\t\\t<li id=\"n-help\"><a href=\"/wiki/Help:Contents\" title=\"Guidance on how to use and edit Wikipedia\">Help</a></li><li id=\"n-aboutsite\"><a href=\"/wiki/Wikipedia:About\" title=\"Find out about Wikipedia\">About Wikipedia</a></li><li id=\"n-portal\"><a href=\"/wiki/Wikipedia:Community_portal\" title=\"About the project, what you can do, where to find things\">Community portal</a></li><li id=\"n-recentchanges\"><a href=\"/wiki/Special:RecentChanges\" title=\"A list of recent changes in the wiki [r]\" accesskey=\"r\">Recent changes</a></li><li id=\"n-contactpage\"><a href=\"//en.wikipedia.org/wiki/Wikipedia:Contact_us\" title=\"How to contact Wikipedia\">Contact page</a></li>\\t\\t\\t\\t</ul>\\n\\t\\t\\t\\t\\t\\t\\t</div>\\n\\t\\t</div>\\n\\t\\t\\t<div class=\"portal\" role=\"navigation\" id=\"p-tb\" aria-labelledby=\"p-tb-label\">\\n\\t\\t\\t<h3 id=\"p-tb-label\">Tools</h3>\\n\\t\\t\\t<div class=\"body\">\\n\\t\\t\\t\\t\\t\\t\\t\\t<ul>\\n\\t\\t\\t\\t\\t<li id=\"t-whatlinkshere\"><a href=\"/wiki/Special:WhatLinksHere/Web_scraping\" title=\"List of all English Wikipedia pages containing links to this page [j]\" accesskey=\"j\">What links here</a></li><li id=\"t-recentchangeslinked\"><a href=\"/wiki/Special:RecentChangesLinked/Web_scraping\" rel=\"nofollow\" title=\"Recent changes in pages linked from this page [k]\" accesskey=\"k\">Related changes</a></li><li id=\"t-upload\"><a href=\"/wiki/Wikipedia:File_Upload_Wizard\" title=\"Upload files [u]\" accesskey=\"u\">Upload file</a></li><li id=\"t-specialpages\"><a href=\"/wiki/Special:SpecialPages\" title=\"A list of all special pages [q]\" accesskey=\"q\">Special pages</a></li><li id=\"t-permalink\"><a href=\"/w/index.php?title=Web_scraping&amp;oldid=857079391\" title=\"Permanent link to this revision of the page\">Permanent link</a></li><li id=\"t-info\"><a href=\"/w/index.php?title=Web_scraping&amp;action=info\" title=\"More information about this page\">Page information</a></li><li id=\"t-wikibase\"><a href=\"https://www.wikidata.org/wiki/Special:EntityPage/Q665452\" title=\"Link to connected data repository item [g]\" accesskey=\"g\">Wikidata item</a></li><li id=\"t-cite\"><a href=\"/w/index.php?title=Special:CiteThisPage&amp;page=Web_scraping&amp;id=857079391\" title=\"Information on how to cite this page\">Cite this page</a></li>\\t\\t\\t\\t</ul>\\n\\t\\t\\t\\t\\t\\t\\t</div>\\n\\t\\t</div>\\n\\t\\t\\t<div class=\"portal\" role=\"navigation\" id=\"p-coll-print_export\" aria-labelledby=\"p-coll-print_export-label\">\\n\\t\\t\\t<h3 id=\"p-coll-print_export-label\">Print/export</h3>\\n\\t\\t\\t<div class=\"body\">\\n\\t\\t\\t\\t\\t\\t\\t\\t<ul>\\n\\t\\t\\t\\t\\t<li id=\"coll-create_a_book\"><a href=\"/w/index.php?title=Special:Book&amp;bookcmd=book_creator&amp;referer=Web+scraping\">Create a book</a></li><li id=\"coll-download-as-rdf2latex\"><a href=\"/w/index.php?title=Special:ElectronPdf&amp;page=Web+scraping&amp;action=show-download-screen\">Download as PDF</a></li><li id=\"t-print\"><a href=\"/w/index.php?title=Web_scraping&amp;printable=yes\" title=\"Printable version of this page [p]\" accesskey=\"p\">Printable version</a></li>\\t\\t\\t\\t</ul>\\n\\t\\t\\t\\t\\t\\t\\t</div>\\n\\t\\t</div>\\n\\t\\t\\t<div class=\"portal\" role=\"navigation\" id=\"p-lang\" aria-labelledby=\"p-lang-label\">\\n\\t\\t\\t<h3 id=\"p-lang-label\">Languages</h3>\\n\\t\\t\\t<div class=\"body\">\\n\\t\\t\\t\\t\\t\\t\\t\\t<ul>\\n\\t\\t\\t\\t\\t<li class=\"interlanguage-link interwiki-ar\"><a href=\"https://ar.wikipedia.org/wiki/%D8%A5%D8%B3%D8%AA%D8%AE%D9%84%D8%A7%D8%B5_%D8%A7%D9%84%D9%85%D9%88%D8%A7%D9%82%D8%B9\" title=\"\\xd8\\xa5\\xd8\\xb3\\xd8\\xaa\\xd8\\xae\\xd9\\x84\\xd8\\xa7\\xd8\\xb5 \\xd8\\xa7\\xd9\\x84\\xd9\\x85\\xd9\\x88\\xd8\\xa7\\xd9\\x82\\xd8\\xb9 \\xe2\\x80\\x93 Arabic\" lang=\"ar\" hreflang=\"ar\" class=\"interlanguage-link-target\">\\xd8\\xa7\\xd9\\x84\\xd8\\xb9\\xd8\\xb1\\xd8\\xa8\\xd9\\x8a\\xd8\\xa9</a></li><li class=\"interlanguage-link interwiki-ca\"><a href=\"https://ca.wikipedia.org/wiki/Web_scraping\" title=\"Web scraping \\xe2\\x80\\x93 Catalan\" lang=\"ca\" hreflang=\"ca\" class=\"interlanguage-link-target\">Catal\\xc3\\xa0</a></li><li class=\"interlanguage-link interwiki-de\"><a href=\"https://de.wikipedia.org/wiki/Screen_Scraping\" title=\"Screen Scraping \\xe2\\x80\\x93 German\" lang=\"de\" hreflang=\"de\" class=\"interlanguage-link-target\">Deutsch</a></li><li class=\"interlanguage-link interwiki-es\"><a href=\"https://es.wikipedia.org/wiki/Web_scraping\" title=\"Web scraping \\xe2\\x80\\x93 Spanish\" lang=\"es\" hreflang=\"es\" class=\"interlanguage-link-target\">Espa\\xc3\\xb1ol</a></li><li class=\"interlanguage-link interwiki-eu\"><a href=\"https://eu.wikipedia.org/wiki/Web_scraping\" title=\"Web scraping \\xe2\\x80\\x93 Basque\" lang=\"eu\" hreflang=\"eu\" class=\"interlanguage-link-target\">Euskara</a></li><li class=\"interlanguage-link interwiki-fr\"><a href=\"https://fr.wikipedia.org/wiki/Web_scraping\" title=\"Web scraping \\xe2\\x80\\x93 French\" lang=\"fr\" hreflang=\"fr\" class=\"interlanguage-link-target\">Fran\\xc3\\xa7ais</a></li><li class=\"interlanguage-link interwiki-is\"><a href=\"https://is.wikipedia.org/wiki/Vefs%C3%B6fnun\" title=\"Vefs\\xc3\\xb6fnun \\xe2\\x80\\x93 Icelandic\" lang=\"is\" hreflang=\"is\" class=\"interlanguage-link-target\">\\xc3\\x8dslenska</a></li><li class=\"interlanguage-link interwiki-it\"><a href=\"https://it.wikipedia.org/wiki/Web_scraping\" title=\"Web scraping \\xe2\\x80\\x93 Italian\" lang=\"it\" hreflang=\"it\" class=\"interlanguage-link-target\">Italiano</a></li><li class=\"interlanguage-link interwiki-lv\"><a href=\"https://lv.wikipedia.org/wiki/Rasmo%C5%A1ana\" title=\"Rasmo\\xc5\\xa1ana \\xe2\\x80\\x93 Latvian\" lang=\"lv\" hreflang=\"lv\" class=\"interlanguage-link-target\">Latvie\\xc5\\xa1u</a></li><li class=\"interlanguage-link interwiki-nl\"><a href=\"https://nl.wikipedia.org/wiki/Scrapen\" title=\"Scrapen \\xe2\\x80\\x93 Dutch\" lang=\"nl\" hreflang=\"nl\" class=\"interlanguage-link-target\">Nederlands</a></li><li class=\"interlanguage-link interwiki-ja\"><a href=\"https://ja.wikipedia.org/wiki/%E3%82%A6%E3%82%A7%E3%83%96%E3%82%B9%E3%82%AF%E3%83%AC%E3%82%A4%E3%83%94%E3%83%B3%E3%82%B0\" title=\"\\xe3\\x82\\xa6\\xe3\\x82\\xa7\\xe3\\x83\\x96\\xe3\\x82\\xb9\\xe3\\x82\\xaf\\xe3\\x83\\xac\\xe3\\x82\\xa4\\xe3\\x83\\x94\\xe3\\x83\\xb3\\xe3\\x82\\xb0 \\xe2\\x80\\x93 Japanese\" lang=\"ja\" hreflang=\"ja\" class=\"interlanguage-link-target\">\\xe6\\x97\\xa5\\xe6\\x9c\\xac\\xe8\\xaa\\x9e</a></li><li class=\"interlanguage-link interwiki-sr\"><a href=\"https://sr.wikipedia.org/wiki/Web_scraping\" title=\"Web scraping \\xe2\\x80\\x93 Serbian\" lang=\"sr\" hreflang=\"sr\" class=\"interlanguage-link-target\">\\xd0\\xa1\\xd1\\x80\\xd0\\xbf\\xd1\\x81\\xd0\\xba\\xd0\\xb8 / srpski</a></li><li class=\"interlanguage-link interwiki-tr\"><a href=\"https://tr.wikipedia.org/wiki/Web_kaz%C4%B1ma\" title=\"Web kaz\\xc4\\xb1ma \\xe2\\x80\\x93 Turkish\" lang=\"tr\" hreflang=\"tr\" class=\"interlanguage-link-target\">T\\xc3\\xbcrk\\xc3\\xa7e</a></li><li class=\"interlanguage-link interwiki-uk\"><a href=\"https://uk.wikipedia.org/wiki/Web_scraping\" title=\"Web scraping \\xe2\\x80\\x93 Ukrainian\" lang=\"uk\" hreflang=\"uk\" class=\"interlanguage-link-target\">\\xd0\\xa3\\xd0\\xba\\xd1\\x80\\xd0\\xb0\\xd1\\x97\\xd0\\xbd\\xd1\\x81\\xd1\\x8c\\xd0\\xba\\xd0\\xb0</a></li><li class=\"interlanguage-link interwiki-zh\"><a href=\"https://zh.wikipedia.org/wiki/%E7%BD%91%E9%A1%B5%E6%8A%93%E5%8F%96\" title=\"\\xe7\\xbd\\x91\\xe9\\xa1\\xb5\\xe6\\x8a\\x93\\xe5\\x8f\\x96 \\xe2\\x80\\x93 Chinese\" lang=\"zh\" hreflang=\"zh\" class=\"interlanguage-link-target\">\\xe4\\xb8\\xad\\xe6\\x96\\x87</a></li>\\t\\t\\t\\t</ul>\\n\\t\\t\\t\\t<div class=\"after-portlet after-portlet-lang\"><span class=\"wb-langlinks-edit wb-langlinks-link\"><a href=\"https://www.wikidata.org/wiki/Special:EntityPage/Q665452#sitelinks-wikipedia\" title=\"Edit interlanguage links\" class=\"wbc-editpage\">Edit links</a></span></div>\\t\\t\\t</div>\\n\\t\\t</div>\\n\\t\\t\\t\\t</div>\\n\\t\\t</div>\\n\\t\\t\\t\\t<div id=\"footer\" role=\"contentinfo\">\\n\\t\\t\\t\\t\\t\\t<ul id=\"footer-info\">\\n\\t\\t\\t\\t\\t\\t\\t\\t<li id=\"footer-info-lastmod\"> This page was last edited on 29 August 2018, at 12:39<span class=\"anonymous-show\">\\xc2\\xa0(UTC)</span>.</li>\\n\\t\\t\\t\\t\\t\\t\\t\\t<li id=\"footer-info-copyright\">Text is available under the <a rel=\"license\" href=\"//en.wikipedia.org/wiki/Wikipedia:Text_of_Creative_Commons_Attribution-ShareAlike_3.0_Unported_License\">Creative Commons Attribution-ShareAlike License</a><a rel=\"license\" href=\"//creativecommons.org/licenses/by-sa/3.0/\" style=\"display:none;\"></a>;\\nadditional terms may apply.  By using this site, you agree to the <a href=\"//wikimediafoundation.org/wiki/Terms_of_Use\">Terms of Use</a> and <a href=\"//wikimediafoundation.org/wiki/Privacy_policy\">Privacy Policy</a>. Wikipedia\\xc2\\xae is a registered trademark of the <a href=\"//www.wikimediafoundation.org/\">Wikimedia Foundation, Inc.</a>, a non-profit organization.</li>\\n\\t\\t\\t\\t\\t\\t\\t</ul>\\n\\t\\t\\t\\t\\t\\t<ul id=\"footer-places\">\\n\\t\\t\\t\\t\\t\\t\\t\\t<li id=\"footer-places-privacy\"><a href=\"https://foundation.wikimedia.org/wiki/Privacy_policy\" class=\"extiw\" title=\"wmf:Privacy policy\">Privacy policy</a></li>\\n\\t\\t\\t\\t\\t\\t\\t\\t<li id=\"footer-places-about\"><a href=\"/wiki/Wikipedia:About\" title=\"Wikipedia:About\">About Wikipedia</a></li>\\n\\t\\t\\t\\t\\t\\t\\t\\t<li id=\"footer-places-disclaimer\"><a href=\"/wiki/Wikipedia:General_disclaimer\" title=\"Wikipedia:General disclaimer\">Disclaimers</a></li>\\n\\t\\t\\t\\t\\t\\t\\t\\t<li id=\"footer-places-contact\"><a href=\"//en.wikipedia.org/wiki/Wikipedia:Contact_us\">Contact Wikipedia</a></li>\\n\\t\\t\\t\\t\\t\\t\\t\\t<li id=\"footer-places-developers\"><a href=\"https://www.mediawiki.org/wiki/Special:MyLanguage/How_to_contribute\">Developers</a></li>\\n\\t\\t\\t\\t\\t\\t\\t\\t<li id=\"footer-places-cookiestatement\"><a href=\"https://foundation.wikimedia.org/wiki/Cookie_statement\">Cookie statement</a></li>\\n\\t\\t\\t\\t\\t\\t\\t\\t<li id=\"footer-places-mobileview\"><a href=\"//en.m.wikipedia.org/w/index.php?title=Web_scraping&amp;mobileaction=toggle_view_mobile\" class=\"noprint stopMobileRedirectToggle\">Mobile view</a></li>\\n\\t\\t\\t\\t\\t\\t\\t</ul>\\n\\t\\t\\t\\t\\t\\t\\t\\t\\t\\t<ul id=\"footer-icons\" class=\"noprint\">\\n\\t\\t\\t\\t\\t\\t\\t\\t\\t\\t<li id=\"footer-copyrightico\">\\n\\t\\t\\t\\t\\t\\t<a href=\"https://wikimediafoundation.org/\"><img src=\"/static/images/wikimedia-button.png\" srcset=\"/static/images/wikimedia-button-1.5x.png 1.5x, /static/images/wikimedia-button-2x.png 2x\" width=\"88\" height=\"31\" alt=\"Wikimedia Foundation\"/></a>\\t\\t\\t\\t\\t</li>\\n\\t\\t\\t\\t\\t\\t\\t\\t\\t\\t<li id=\"footer-poweredbyico\">\\n\\t\\t\\t\\t\\t\\t<a href=\"//www.mediawiki.org/\"><img src=\"/static/images/poweredby_mediawiki_88x31.png\" alt=\"Powered by MediaWiki\" srcset=\"/static/images/poweredby_mediawiki_132x47.png 1.5x, /static/images/poweredby_mediawiki_176x62.png 2x\" width=\"88\" height=\"31\"/></a>\\t\\t\\t\\t\\t</li>\\n\\t\\t\\t\\t\\t\\t\\t\\t\\t</ul>\\n\\t\\t\\t\\t\\t\\t<div style=\"clear: both;\"></div>\\n\\t\\t</div>\\n\\t\\t\\n<script>(window.RLQ=window.RLQ||[]).push(function(){mw.config.set({\"wgPageParseReport\":{\"limitreport\":{\"cputime\":\"0.280\",\"walltime\":\"0.342\",\"ppvisitednodes\":{\"value\":1645,\"limit\":1000000},\"ppgeneratednodes\":{\"value\":0,\"limit\":1500000},\"postexpandincludesize\":{\"value\":54331,\"limit\":2097152},\"templateargumentsize\":{\"value\":693,\"limit\":2097152},\"expansiondepth\":{\"value\":15,\"limit\":40},\"expensivefunctioncount\":{\"value\":4,\"limit\":500},\"unstrip-depth\":{\"value\":0,\"limit\":20},\"unstrip-size\":{\"value\":28171,\"limit\":5000000},\"entityaccesscount\":{\"value\":0,\"limit\":400},\"timingprofile\":[\"100.00%  269.476      1 -total\",\" 57.16%  154.030      1 Template:Reflist\",\" 28.35%   76.387     18 Template:Cite_web\",\" 17.23%   46.432      5 Template:Cite_journal\",\" 14.68%   39.565      1 Template:More_citations_needed\",\" 13.44%   36.206      3 Template:Ambox\",\"  8.91%   24.000      1 Template:Split_section\",\"  7.75%   20.895      1 Template:Split_portions\",\"  4.04%   10.893      1 Template:DMCA\",\"  3.94%   10.605      1 Template:US-centric\"]},\"scribunto\":{\"limitreport-timeusage\":{\"value\":\"0.129\",\"limit\":\"10.000\"},\"limitreport-memusage\":{\"value\":4672519,\"limit\":52428800}},\"cachereport\":{\"origin\":\"mw1245\",\"timestamp\":\"20180911185947\",\"ttl\":1900800,\"transientcontent\":false}}});mw.config.set({\"wgBackendResponseTime\":90,\"wgHostname\":\"mw1330\"});});</script>\\n\\t</body>\\n</html>\\n'"
      ]
     },
     "execution_count": 33,
     "metadata": {},
     "output_type": "execute_result"
    }
   ],
   "source": [
    "r.content"
   ]
  },
  {
   "cell_type": "markdown",
   "metadata": {},
   "source": [
    "<font color=\"red\"> <h2>Exercise 2</h2></font>\n",
    "\n",
    "Use `requests` to get and print out your website from Assignment 1."
   ]
  },
  {
   "cell_type": "code",
   "execution_count": null,
   "metadata": {},
   "outputs": [],
   "source": []
  },
  {
   "cell_type": "markdown",
   "metadata": {},
   "source": [
    "## Another example page\n",
    "\n",
    "* Check out [this page](http://www.pythonscraping.com/pages/page1.html)\n",
    "* View the source in your browser"
   ]
  },
  {
   "cell_type": "code",
   "execution_count": 34,
   "metadata": {},
   "outputs": [
    {
     "data": {
      "text/plain": [
       "b'<html>\\n<head>\\n<title>A Useful Page</title>\\n</head>\\n<body>\\n<h1>An Interesting Title</h1>\\n<div>\\nLorem ipsum dolor sit amet, consectetur adipisicing elit, sed do eiusmod tempor incididunt ut labore et dolore magna aliqua. Ut enim ad minim veniam, quis nostrud exercitation ullamco laboris nisi ut aliquip ex ea commodo consequat. Duis aute irure dolor in reprehenderit in voluptate velit esse cillum dolore eu fugiat nulla pariatur. Excepteur sint occaecat cupidatat non proident, sunt in culpa qui officia deserunt mollit anim id est laborum.\\n</div>\\n</body>\\n</html>\\n'"
      ]
     },
     "execution_count": 34,
     "metadata": {},
     "output_type": "execute_result"
    }
   ],
   "source": [
    "r2 = s.get('http://www.pythonscraping.com/pages/page1.html')\n",
    "r2.content"
   ]
  },
  {
   "cell_type": "markdown",
   "metadata": {},
   "source": [
    "## Using Beautiful Soup to navigate a site\n",
    "\n",
    "* Beautiful Soup makes searching/navigating a site easy\n",
    "* Imported as `bs4`\n",
    "* Start with the `BeautifulSoup` class"
   ]
  },
  {
   "cell_type": "code",
   "execution_count": 35,
   "metadata": {},
   "outputs": [],
   "source": [
    "from bs4 import BeautifulSoup\n",
    "import requests"
   ]
  },
  {
   "cell_type": "code",
   "execution_count": 36,
   "metadata": {},
   "outputs": [],
   "source": [
    "soup = BeautifulSoup(r2.content, \"html.parser\")"
   ]
  },
  {
   "cell_type": "code",
   "execution_count": 37,
   "metadata": {},
   "outputs": [
    {
     "data": {
      "text/plain": [
       "<title>A Useful Page</title>"
      ]
     },
     "execution_count": 37,
     "metadata": {},
     "output_type": "execute_result"
    }
   ],
   "source": [
    "soup.title"
   ]
  },
  {
   "cell_type": "code",
   "execution_count": 38,
   "metadata": {},
   "outputs": [
    {
     "data": {
      "text/plain": [
       "<body>\n",
       "<h1>An Interesting Title</h1>\n",
       "<div>\n",
       "Lorem ipsum dolor sit amet, consectetur adipisicing elit, sed do eiusmod tempor incididunt ut labore et dolore magna aliqua. Ut enim ad minim veniam, quis nostrud exercitation ullamco laboris nisi ut aliquip ex ea commodo consequat. Duis aute irure dolor in reprehenderit in voluptate velit esse cillum dolore eu fugiat nulla pariatur. Excepteur sint occaecat cupidatat non proident, sunt in culpa qui officia deserunt mollit anim id est laborum.\n",
       "</div>\n",
       "</body>"
      ]
     },
     "execution_count": 38,
     "metadata": {},
     "output_type": "execute_result"
    }
   ],
   "source": [
    "soup.body"
   ]
  },
  {
   "cell_type": "code",
   "execution_count": 39,
   "metadata": {},
   "outputs": [
    {
     "data": {
      "text/plain": [
       "<h1>An Interesting Title</h1>"
      ]
     },
     "execution_count": 39,
     "metadata": {},
     "output_type": "execute_result"
    }
   ],
   "source": [
    "soup.h1"
   ]
  },
  {
   "cell_type": "code",
   "execution_count": 40,
   "metadata": {},
   "outputs": [
    {
     "data": {
      "text/plain": [
       "<div>\n",
       "Lorem ipsum dolor sit amet, consectetur adipisicing elit, sed do eiusmod tempor incididunt ut labore et dolore magna aliqua. Ut enim ad minim veniam, quis nostrud exercitation ullamco laboris nisi ut aliquip ex ea commodo consequat. Duis aute irure dolor in reprehenderit in voluptate velit esse cillum dolore eu fugiat nulla pariatur. Excepteur sint occaecat cupidatat non proident, sunt in culpa qui officia deserunt mollit anim id est laborum.\n",
       "</div>"
      ]
     },
     "execution_count": 40,
     "metadata": {},
     "output_type": "execute_result"
    }
   ],
   "source": [
    "soup.div"
   ]
  },
  {
   "cell_type": "code",
   "execution_count": 41,
   "metadata": {},
   "outputs": [],
   "source": [
    "soup.a"
   ]
  },
  {
   "cell_type": "code",
   "execution_count": 42,
   "metadata": {},
   "outputs": [
    {
     "data": {
      "text/plain": [
       "True"
      ]
     },
     "execution_count": 42,
     "metadata": {},
     "output_type": "execute_result"
    }
   ],
   "source": [
    "soup.a is None"
   ]
  },
  {
   "cell_type": "markdown",
   "metadata": {},
   "source": [
    "<font color=\"red\"><h2> Exercise 3 </h2></font>\n",
    "\n",
    "Make a `soup` object for your webpage and pull off the following:\n",
    "\n",
    "* a bold tag\n",
    "* an img tag\n",
    "* a link"
   ]
  },
  {
   "cell_type": "code",
   "execution_count": null,
   "metadata": {},
   "outputs": [],
   "source": []
  },
  {
   "cell_type": "markdown",
   "metadata": {},
   "source": [
    "<font color=\"red\"> <h2>Take-Home Exercise</h2></font>\n",
    "\n",
    "See if you can find and explain the source of *Beautiful Soup*."
   ]
  },
  {
   "cell_type": "markdown",
   "metadata": {},
   "source": []
  }
 ],
 "metadata": {
  "anaconda-cloud": {},
  "kernelspec": {
   "display_name": "Python 3",
   "language": "python",
   "name": "python3"
  },
  "language_info": {
   "codemirror_mode": {
    "name": "ipython",
    "version": 3
   },
   "file_extension": ".py",
   "mimetype": "text/x-python",
   "name": "python",
   "nbconvert_exporter": "python",
   "pygments_lexer": "ipython3",
   "version": "3.6.2"
  }
 },
 "nbformat": 4,
 "nbformat_minor": 1
}
