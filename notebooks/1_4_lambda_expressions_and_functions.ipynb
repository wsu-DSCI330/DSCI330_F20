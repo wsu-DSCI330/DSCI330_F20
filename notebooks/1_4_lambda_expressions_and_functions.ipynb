{
 "cells": [
  {
   "cell_type": "markdown",
   "metadata": {
    "nbpresent": {
     "id": "72b0ede6-af2b-41e9-81af-16c345e658d3"
    },
    "slideshow": {
     "slide_type": "slide"
    }
   },
   "source": [
    "# Lambda Expressions and Functions\n",
    "\n",
    "## Objectives\n",
    "\n",
    "1. Use variables to make expressions more readable\n",
    "2. Introduce the `lambda` expression for reusing expressions\n",
    "3. Writing more complicated functions with the `def` statement"
   ]
  },
  {
   "cell_type": "markdown",
   "metadata": {
    "nbpresent": {
     "id": "1a11188f-9efb-4909-b63f-fa5d6ed1628a"
    },
    "slideshow": {
     "slide_type": "slide"
    }
   },
   "source": [
    "## The `lambda` expression\n",
    "\n",
    "* Allows reuse of expressions\n",
    "* Variables become **Parameters**\n",
    "    * insert values later"
   ]
  },
  {
   "cell_type": "markdown",
   "metadata": {
    "nbpresent": {
     "id": "a59a0a0b-3a93-41e6-b1bd-b9c856d68106"
    },
    "slideshow": {
     "slide_type": "slide"
    }
   },
   "source": [
    "## The `lambda` syntax\n",
    "\n",
    "<img src=\"./img/lambda_syntax.png\"/>"
   ]
  },
  {
   "cell_type": "code",
   "execution_count": 1,
   "metadata": {
    "nbpresent": {
     "id": "12154f73-b113-47f0-a659-899c3c2e9cda"
    },
    "slideshow": {
     "slide_type": "fragment"
    }
   },
   "outputs": [],
   "source": [
    "f = lambda x: x**2"
   ]
  },
  {
   "cell_type": "code",
   "execution_count": 2,
   "metadata": {
    "nbpresent": {
     "id": "12154f73-b113-47f0-a659-899c3c2e9cda"
    },
    "slideshow": {
     "slide_type": "fragment"
    }
   },
   "outputs": [
    {
     "data": {
      "text/plain": [
       "4"
      ]
     },
     "execution_count": 2,
     "metadata": {},
     "output_type": "execute_result"
    }
   ],
   "source": [
    "f = lambda x: x**2\n",
    "f(2)"
   ]
  },
  {
   "cell_type": "markdown",
   "metadata": {
    "slideshow": {
     "slide_type": "slide"
    }
   },
   "source": [
    "## Evaluating `lambda` expressions\n",
    "\n",
    "<img src=\"./img/lambda_evaluation.png\" width=400/>"
   ]
  },
  {
   "cell_type": "markdown",
   "metadata": {
    "nbpresent": {
     "id": "a59a0a0b-3a93-41e6-b1bd-b9c856d68106"
    },
    "slideshow": {
     "slide_type": "slide"
    }
   },
   "source": [
    "## The `lambda` expression\n",
    "\n",
    "* The *type* of a `lambda` is the type `function`\n",
    "* The *value* of a `lambda` expression is actual function\n",
    "* Remember\n",
    "    * `lambda` MAKES the function\n",
    "    * Use function call to execute the function"
   ]
  },
  {
   "cell_type": "code",
   "execution_count": 5,
   "metadata": {
    "slideshow": {
     "slide_type": "slide"
    }
   },
   "outputs": [
    {
     "data": {
      "text/plain": [
       "<function __main__.<lambda>>"
      ]
     },
     "execution_count": 5,
     "metadata": {},
     "output_type": "execute_result"
    }
   ],
   "source": [
    "f"
   ]
  },
  {
   "cell_type": "code",
   "execution_count": 2,
   "metadata": {
    "nbpresent": {
     "id": "12154f73-b113-47f0-a659-899c3c2e9cda"
    },
    "slideshow": {
     "slide_type": "fragment"
    }
   },
   "outputs": [
    {
     "data": {
      "text/plain": [
       "function"
      ]
     },
     "execution_count": 2,
     "metadata": {},
     "output_type": "execute_result"
    }
   ],
   "source": [
    "type(f)"
   ]
  },
  {
   "cell_type": "markdown",
   "metadata": {
    "slideshow": {
     "slide_type": "slide"
    }
   },
   "source": [
    "## Calling a lambda expression in the usual way"
   ]
  },
  {
   "cell_type": "code",
   "execution_count": 3,
   "metadata": {
    "nbpresent": {
     "id": "eb41b143-7ceb-475d-83e3-941bd5866cb4"
    },
    "slideshow": {
     "slide_type": "fragment"
    }
   },
   "outputs": [
    {
     "data": {
      "text/plain": [
       "9"
      ]
     },
     "execution_count": 3,
     "metadata": {},
     "output_type": "execute_result"
    }
   ],
   "source": [
    "f(3)"
   ]
  },
  {
   "cell_type": "markdown",
   "metadata": {
    "slideshow": {
     "slide_type": "slide"
    }
   },
   "source": [
    "<font color=\"red\"><h1>Exercise 1</h1></font>\n",
    "\n",
    "Write a function using a `lambda` expression that computes the area of a circle with radius `r`.\n"
   ]
  },
  {
   "cell_type": "code",
   "execution_count": null,
   "metadata": {
    "slideshow": {
     "slide_type": "fragment"
    }
   },
   "outputs": [],
   "source": []
  },
  {
   "cell_type": "markdown",
   "metadata": {
    "slideshow": {
     "slide_type": "slide"
    }
   },
   "source": [
    "## Lambdas with many arguments"
   ]
  },
  {
   "cell_type": "code",
   "execution_count": 9,
   "metadata": {
    "nbpresent": {
     "id": "2f7d8217-77e6-4c57-802a-ac417af24d61"
    },
    "slideshow": {
     "slide_type": "fragment"
    }
   },
   "outputs": [
    {
     "data": {
      "text/plain": [
       "16"
      ]
     },
     "execution_count": 9,
     "metadata": {},
     "output_type": "execute_result"
    }
   ],
   "source": [
    "g = lambda x, y : x**y\n",
    "g(2,4)"
   ]
  },
  {
   "cell_type": "markdown",
   "metadata": {
    "slideshow": {
     "slide_type": "slide"
    }
   },
   "source": [
    "## Evaluating a 2 argument `lambda`\n",
    "\n",
    "<img src=\"./img/lambda_eval_2arg_1.png\" width=600/>"
   ]
  },
  {
   "cell_type": "markdown",
   "metadata": {
    "slideshow": {
     "slide_type": "slide"
    }
   },
   "source": [
    "## Evaluating a 2 argument `lambda`\n",
    "\n",
    "<img src=\"./img/lambda_eval_2arg_2.png\" width=600/>"
   ]
  },
  {
   "cell_type": "markdown",
   "metadata": {
    "slideshow": {
     "slide_type": "slide"
    }
   },
   "source": [
    "## Evaluating a 2 argument `lambda`\n",
    "\n",
    "<img src=\"./img/lambda_eval_2arg_3.png\" width=600/>"
   ]
  },
  {
   "cell_type": "markdown",
   "metadata": {
    "slideshow": {
     "slide_type": "slide"
    }
   },
   "source": []
  },
  {
   "cell_type": "markdown",
   "metadata": {
    "slideshow": {
     "slide_type": "slide"
    }
   },
   "source": [
    "<font color=\"red\"><h1>Exercise 2</h1></font>\n",
    "\n",
    "Use a similar process to evaluate `h(1,2,3)` when\n",
    "\n",
    "```\n",
    "h = lambda x, y, z: 2*x*y+ y**2/z\n",
    "```"
   ]
  },
  {
   "cell_type": "code",
   "execution_count": 26,
   "metadata": {
    "slideshow": {
     "slide_type": "fragment"
    }
   },
   "outputs": [
    {
     "data": {
      "text/plain": [
       "5.333333333333333"
      ]
     },
     "execution_count": 26,
     "metadata": {},
     "output_type": "execute_result"
    }
   ],
   "source": [
    "h = lambda x, y, z: 2*x*y+ y**2/z\n",
    "h(1, 2, 3)"
   ]
  },
  {
   "cell_type": "code",
   "execution_count": null,
   "metadata": {},
   "outputs": [],
   "source": []
  },
  {
   "cell_type": "markdown",
   "metadata": {
    "slideshow": {
     "slide_type": "slide"
    }
   },
   "source": [
    "<font color=\"red\"><h1>Exercise 3</h1></font>\n",
    "\n",
    "The function `random` from the `random` module can be used to generate numbers between 0 and 1 at random. We want to return numbers between $a$ and $b$ at random, which can be accomplished using the formula $V = (b - a)*random() + a$.\n",
    "\n",
    "Write a lambda function that takes `a` and `b` as arguments are returns a number between `a` and `b` at random."
   ]
  },
  {
   "cell_type": "code",
   "execution_count": null,
   "metadata": {
    "slideshow": {
     "slide_type": "fragment"
    }
   },
   "outputs": [],
   "source": []
  },
  {
   "cell_type": "markdown",
   "metadata": {
    "nbpresent": {
     "id": "139d8bbf-a76a-4fae-a525-ee2c85a0f229"
    },
    "slideshow": {
     "slide_type": "slide"
    }
   },
   "source": [
    "## Reusing expressions\n",
    "\n",
    "* Replace values with variables\n",
    "* Identify variables that might change\n",
    "* Make a function with the **lambda expression**\n",
    "    * changeable variables are **expressions**"
   ]
  },
  {
   "cell_type": "markdown",
   "metadata": {
    "slideshow": {
     "slide_type": "slide"
    }
   },
   "source": [
    "## Abstraction\n",
    "\n",
    "Applying an **abstraction** involves replacing ***programming detail/complexity*** with a ***meaningful name***."
   ]
  },
  {
   "cell_type": "markdown",
   "metadata": {
    "slideshow": {
     "slide_type": "slide"
    }
   },
   "source": [
    "## Abstracting with Variables\n",
    "\n",
    "* **Abstraction Step 1:** Replace all raww values with a meaningful name"
   ]
  },
  {
   "cell_type": "code",
   "execution_count": 66,
   "metadata": {
    "nbpresent": {
     "id": "812d71b9-f46b-418e-8778-ce9d26182b00"
    },
    "slideshow": {
     "slide_type": "slide"
    }
   },
   "outputs": [
    {
     "data": {
      "text/plain": [
       "101.25"
      ]
     },
     "execution_count": 66,
     "metadata": {},
     "output_type": "execute_result"
    }
   ],
   "source": [
    "# Original Computatation\n",
    "12*15*0.5625"
   ]
  },
  {
   "cell_type": "code",
   "execution_count": 67,
   "metadata": {
    "nbpresent": {
     "id": "35b904eb-7df9-47d9-84bf-31f1d7056530"
    },
    "slideshow": {
     "slide_type": "fragment"
    }
   },
   "outputs": [
    {
     "data": {
      "text/plain": [
       "101.25"
      ]
     },
     "execution_count": 67,
     "metadata": {},
     "output_type": "execute_result"
    }
   ],
   "source": [
    "# Substitute names for values to add meaning\n",
    "length = 12\n",
    "width = 15\n",
    "tile_conv = 0.5625\n",
    "num_tile = length*width*tile_conv\n",
    "num_tile"
   ]
  },
  {
   "cell_type": "markdown",
   "metadata": {
    "slideshow": {
     "slide_type": "slide"
    }
   },
   "source": [
    "## Abstracting with Lambda Expressions\n",
    "\n",
    "* **Abstraction Step 2:** Packaged expressions in `lambda` to allow reuse."
   ]
  },
  {
   "cell_type": "markdown",
   "metadata": {
    "nbpresent": {
     "id": "03905b36-aec7-42fb-881c-add435565cf0"
    },
    "slideshow": {
     "slide_type": "slide"
    }
   },
   "source": [
    "#### Identify the variables that might change\n",
    "\n",
    "<font color=\"green\">length</font>\\*<font color=\"red\"> width</font>\\*tile_conv\n"
   ]
  },
  {
   "cell_type": "code",
   "execution_count": 15,
   "metadata": {
    "nbpresent": {
     "id": "99084922-c9bf-40e0-994c-08635f8e42df"
    },
    "slideshow": {
     "slide_type": "fragment"
    }
   },
   "outputs": [
    {
     "data": {
      "text/plain": [
       "101.25"
      ]
     },
     "execution_count": 15,
     "metadata": {},
     "output_type": "execute_result"
    }
   ],
   "source": [
    "tile_conv = 0.5625\n",
    "num_tile = lambda length, width: length*width*tile_conv\n",
    "num_tile(12,15) "
   ]
  },
  {
   "cell_type": "markdown",
   "metadata": {
    "nbpresent": {
     "id": "2d179aa5-ae35-4577-bdbb-de0625bba434"
    },
    "slideshow": {
     "slide_type": "slide"
    }
   },
   "source": [
    "## How to read a lambda expression\n",
    "\n",
    "* `lambda` means execute later\n",
    "    * does nothing now\n",
    "* Parameter(s) are \"hole(s)\" in the expression\n",
    "    * value filled in later"
   ]
  },
  {
   "cell_type": "markdown",
   "metadata": {
    "nbpresent": {
     "id": "53694070-bd79-4540-bdfa-e1c2fdf22fd1"
    },
    "slideshow": {
     "slide_type": "slide"
    }
   },
   "source": [
    "### The `def` statement\n",
    "\n",
    "* Starts with `def`\n",
    "* First line is header\n",
    "    * name\n",
    "    * parameters (in parentheses)\n",
    "    * ends in `:` \n",
    "        * to open a code block\n",
    "* Body\n",
    "    * Indented 4 spaces\n",
    "    * Requires explicit `return`"
   ]
  },
  {
   "cell_type": "code",
   "execution_count": 1,
   "metadata": {
    "collapsed": true,
    "nbpresent": {
     "id": "b21c836a-c268-42b2-8e1f-78700a6ece84"
    },
    "slideshow": {
     "slide_type": "fragment"
    }
   },
   "outputs": [],
   "source": [
    "def sum_sqr(x, y):\n",
    "    \"\"\" Square and add two numbers\"\"\"\n",
    "    output = x**2 + y**2\n",
    "    return output"
   ]
  },
  {
   "cell_type": "markdown",
   "metadata": {
    "nbpresent": {
     "id": "85bb9fd3-b19e-4408-b5bf-43f20eb6c4cf"
    },
    "slideshow": {
     "slide_type": "slide"
    }
   },
   "source": [
    "<img src=\"https://github.com/wsu-stat489/USCOTS2017_workshop/blob/master/img/def_statement_all2.png?raw=true\">"
   ]
  },
  {
   "cell_type": "markdown",
   "metadata": {
    "nbpresent": {
     "id": "2fe549c7-4dce-4c4f-b977-97cf7a030e67"
    },
    "slideshow": {
     "slide_type": "slide"
    }
   },
   "source": [
    "## Docstrings \n",
    "\n",
    "* Docstring: String on the first line of a `def` statement\n",
    "    * Usually multiline\n",
    "* doc strings are used to document functions\n",
    "    * What is shown when calling help"
   ]
  },
  {
   "cell_type": "code",
   "execution_count": 1,
   "metadata": {
    "collapsed": true,
    "nbpresent": {
     "id": "604ac523-c97d-42f1-b686-c9b4f8a790c9"
    },
    "slideshow": {
     "slide_type": "fragment"
    }
   },
   "outputs": [],
   "source": [
    "def sum_sqr(x, y):\n",
    "    \"\"\" add the squares of two numbers\"\"\"\n",
    "    output = x**2 + y**2\n",
    "    return output"
   ]
  },
  {
   "cell_type": "code",
   "execution_count": 2,
   "metadata": {
    "nbpresent": {
     "id": "588318bd-7982-4084-af14-614a2aee87d7"
    },
    "slideshow": {
     "slide_type": "fragment"
    }
   },
   "outputs": [
    {
     "name": "stdout",
     "output_type": "stream",
     "text": [
      "Help on function sum_sqr in module __main__:\n",
      "\n",
      "sum_sqr(x, y)\n",
      "    add the squares of two numbers\n",
      "\n"
     ]
    }
   ],
   "source": [
    "help(sum_sqr)"
   ]
  },
  {
   "cell_type": "markdown",
   "metadata": {
    "nbpresent": {
     "id": "3267bc40-15a6-44c0-89ce-87b2b94e1514"
    },
    "slideshow": {
     "slide_type": "slide"
    }
   },
   "source": [
    "## Writing more complicated function with `def`\n",
    "\n",
    "* Allows multiple lines\n",
    "* Allows statements\n",
    "* Must explicitly `return` a value"
   ]
  },
  {
   "cell_type": "code",
   "execution_count": 3,
   "metadata": {
    "collapsed": true,
    "nbpresent": {
     "id": "e057c23d-fb0c-4fa6-90e8-93ad5adeb25d"
    },
    "slideshow": {
     "slide_type": "fragment"
    }
   },
   "outputs": [],
   "source": [
    "def leap_year(year):\n",
    "    \"\"\" Determine if a given year (int) is a leap year\"\"\"\n",
    "    if year % 400 == 0:\n",
    "        return True\n",
    "    elif year % 100 == 0:\n",
    "        return False\n",
    "    elif year % 4 == 0:\n",
    "        return True\n",
    "    else:\n",
    "        return False"
   ]
  },
  {
   "cell_type": "code",
   "execution_count": 4,
   "metadata": {
    "nbpresent": {
     "id": "a1b43848-52a8-470f-9f8e-a45c4ffe3925"
    },
    "slideshow": {
     "slide_type": "slide"
    }
   },
   "outputs": [
    {
     "data": {
      "text/plain": [
       "True"
      ]
     },
     "execution_count": 4,
     "metadata": {},
     "output_type": "execute_result"
    }
   ],
   "source": [
    "leap_year(2000)"
   ]
  },
  {
   "cell_type": "code",
   "execution_count": 5,
   "metadata": {
    "nbpresent": {
     "id": "34380f8b-1b53-4bee-9cb6-5a3148fa9d01"
    },
    "slideshow": {
     "slide_type": "fragment"
    }
   },
   "outputs": [
    {
     "data": {
      "text/plain": [
       "False"
      ]
     },
     "execution_count": 5,
     "metadata": {},
     "output_type": "execute_result"
    }
   ],
   "source": [
    "leap_year(1900)"
   ]
  },
  {
   "cell_type": "markdown",
   "metadata": {
    "nbpresent": {
     "id": "225cece1-b179-43c6-a128-4c2ddb0a90e0"
    },
    "slideshow": {
     "slide_type": "slide"
    }
   },
   "source": [
    "## The `assert` statement\n",
    "\n",
    "* Syntax: `assert expression`\n",
    "* Silent if expression is true\n",
    "* Error if expression is false\n",
    "* Include and optional message"
   ]
  },
  {
   "cell_type": "code",
   "execution_count": 6,
   "metadata": {
    "collapsed": true,
    "nbpresent": {
     "id": "fa3c9967-4805-45fb-b5af-a108dc483fa4"
    },
    "slideshow": {
     "slide_type": "fragment"
    }
   },
   "outputs": [],
   "source": [
    "assert leap_year(2000) == True\n",
    "assert leap_year(1900) == False"
   ]
  },
  {
   "cell_type": "code",
   "execution_count": 7,
   "metadata": {
    "nbpresent": {
     "id": "1a08086d-b272-499f-be19-91ef6665a8db"
    },
    "slideshow": {
     "slide_type": "fragment"
    }
   },
   "outputs": [
    {
     "ename": "AssertionError",
     "evalue": "Centuries not divisible by 4 are not leap years",
     "output_type": "error",
     "traceback": [
      "\u001b[0;31m---------------------------------------------------------------------------\u001b[0m",
      "\u001b[0;31mAssertionError\u001b[0m                            Traceback (most recent call last)",
      "\u001b[0;32m<ipython-input-7-d640e9015aaa>\u001b[0m in \u001b[0;36m<module>\u001b[0;34m()\u001b[0m\n\u001b[0;32m----> 1\u001b[0;31m \u001b[0;32massert\u001b[0m \u001b[0mleap_year\u001b[0m\u001b[0;34m(\u001b[0m\u001b[0;36m1900\u001b[0m\u001b[0;34m)\u001b[0m \u001b[0;34m==\u001b[0m \u001b[0;32mTrue\u001b[0m\u001b[0;34m,\u001b[0m \u001b[0;34m\"Centuries not divisible by 4 are not leap years\"\u001b[0m\u001b[0;34m\u001b[0m\u001b[0m\n\u001b[0m",
      "\u001b[0;31mAssertionError\u001b[0m: Centuries not divisible by 4 are not leap years"
     ]
    }
   ],
   "source": [
    "assert leap_year(1900) == True, \"Centuries not divisible by 4 are not leap years\""
   ]
  },
  {
   "cell_type": "markdown",
   "metadata": {
    "nbpresent": {
     "id": "ac34b162-18d8-42ae-a027-2385fb086ddc"
    },
    "slideshow": {
     "slide_type": "slide"
    }
   },
   "source": [
    "## Writing test functions\n",
    "\n",
    "* Name the function \"test_func_name\"\n",
    "    * Allows automatic testing with py.test module\n",
    "* Body consists of assert statements\n",
    "* Follow with a function call\n",
    "* No errors == passed the test"
   ]
  },
  {
   "cell_type": "code",
   "execution_count": 12,
   "metadata": {
    "nbpresent": {
     "id": "e0eaeee6-7ec6-4d69-b6b7-be46baa0c571"
    },
    "slideshow": {
     "slide_type": "fragment"
    }
   },
   "outputs": [],
   "source": [
    "def test_leap_year():\n",
    "    assert leap_year(2000) == True\n",
    "    assert leap_year(1902) == False\n",
    "    assert leap_year(2004) == True\n",
    "    assert leap_year(1900) == False\n",
    "test_leap_year() # Silence is golden!"
   ]
  },
  {
   "cell_type": "markdown",
   "metadata": {
    "slideshow": {
     "slide_type": "slide"
    }
   },
   "source": [
    "### Converting `lambda` expression to `def` statements\n",
    "\n",
    "* lambda expressions process one expression\n",
    "    * add one assignment statement\n",
    "* lambda expressions always return the value\n",
    "    * add a return statement\n",
    "* Always test on some examples!"
   ]
  },
  {
   "cell_type": "code",
   "execution_count": 13,
   "metadata": {
    "slideshow": {
     "slide_type": "slide"
    }
   },
   "outputs": [
    {
     "data": {
      "text/plain": [
       "67.5"
      ]
     },
     "execution_count": 13,
     "metadata": {},
     "output_type": "execute_result"
    }
   ],
   "source": [
    "tile_conv = 0.5625\n",
    "num_tile = lambda length, width: length*width*tile_conv\n",
    "num_tile(10,12)"
   ]
  },
  {
   "cell_type": "code",
   "execution_count": 14,
   "metadata": {
    "slideshow": {
     "slide_type": "fragment"
    }
   },
   "outputs": [],
   "source": [
    "def num_tile(length, width):\n",
    "    \"\"\"Compute the number of 9 inch \n",
    "       tile for a room of area length*width\"\"\"\n",
    "    output = length*width*tile_conv\n",
    "    return output\n",
    "\n",
    "def test_num_tile():\n",
    "    assert num_tile(10, 12) == 67.5\n",
    "    assert num_tile(0, 12) == 0\n",
    "test_num_tile()"
   ]
  },
  {
   "cell_type": "markdown",
   "metadata": {
    "slideshow": {
     "slide_type": "slide"
    }
   },
   "source": [
    "<img src=\"https://github.com/wsu-stat489/USCOTS2017_workshop/blob/master/img/how_I_write_programs.png?raw=true\">"
   ]
  },
  {
   "cell_type": "markdown",
   "metadata": {
    "slideshow": {
     "slide_type": "slide"
    }
   },
   "source": [
    "### <font color=\"red\"> Exercise 4 </font>\n",
    "\n",
    "Many people keep time using a 24 hour clock (11 is 11am and 23 is 11pm, 0 is midnight). If it is currently 13 and you set your alarm to go off in 50 hours, it will be 15 (3pm). Write a Python function to solve the general version of the above problem using variables and functions. \n",
    "\n",
    "**Hint** You will want to use modular arithmetic"
   ]
  },
  {
   "cell_type": "markdown",
   "metadata": {
    "slideshow": {
     "slide_type": "fragment"
    }
   },
   "source": [
    "#### Step 1 - Solve a specific example with variables and expressions"
   ]
  },
  {
   "cell_type": "code",
   "execution_count": null,
   "metadata": {
    "collapsed": true,
    "slideshow": {
     "slide_type": "fragment"
    }
   },
   "outputs": [],
   "source": []
  },
  {
   "cell_type": "markdown",
   "metadata": {
    "slideshow": {
     "slide_type": "fragment"
    }
   },
   "source": [
    "#### Step 2 - Convert your expression to a general solution with a `lambda` expression"
   ]
  },
  {
   "cell_type": "code",
   "execution_count": null,
   "metadata": {
    "collapsed": true,
    "slideshow": {
     "slide_type": "fragment"
    }
   },
   "outputs": [],
   "source": []
  },
  {
   "cell_type": "markdown",
   "metadata": {
    "slideshow": {
     "slide_type": "fragment"
    }
   },
   "source": [
    "#### Step 3 - Convert your `lambda` expression to a function (remember to return)"
   ]
  },
  {
   "cell_type": "code",
   "execution_count": null,
   "metadata": {
    "collapsed": true,
    "slideshow": {
     "slide_type": "fragment"
    }
   },
   "outputs": [],
   "source": []
  },
  {
   "cell_type": "markdown",
   "metadata": {
    "slideshow": {
     "slide_type": "fragment"
    }
   },
   "source": [
    "#### Step 4 - Clean up your code by adding a docstring and test function"
   ]
  },
  {
   "cell_type": "code",
   "execution_count": null,
   "metadata": {
    "collapsed": true,
    "slideshow": {
     "slide_type": "fragment"
    }
   },
   "outputs": [],
   "source": []
  }
 ],
 "metadata": {
  "anaconda-cloud": {},
  "kernelspec": {
   "display_name": "Python 3",
   "language": "python",
   "name": "python3"
  },
  "language_info": {
   "codemirror_mode": {
    "name": "ipython",
    "version": 3
   },
   "file_extension": ".py",
   "mimetype": "text/x-python",
   "name": "python",
   "nbconvert_exporter": "python",
   "pygments_lexer": "ipython3",
   "version": "3.7.2"
  },
  "nbpresent": {
   "slides": {
    "d8cfa8b7-18e5-4d2f-8e92-8164c8bfad3b": {
     "id": "d8cfa8b7-18e5-4d2f-8e92-8164c8bfad3b",
     "prev": null,
     "regions": {
      "81231d63-4899-45f2-b382-fabf4f762896": {
       "attrs": {
        "height": 0.8,
        "width": 0.45,
        "x": 0.5,
        "y": 0.1
       },
       "id": "81231d63-4899-45f2-b382-fabf4f762896"
      },
      "b40d103d-8d7f-44de-8fca-19b2f9861cdd": {
       "attrs": {
        "height": 0.8,
        "width": 0.45,
        "x": 0.05,
        "y": 0.1
       },
       "id": "b40d103d-8d7f-44de-8fca-19b2f9861cdd"
      }
     }
    }
   },
   "themes": {}
  }
 },
 "nbformat": 4,
 "nbformat_minor": 2
}
